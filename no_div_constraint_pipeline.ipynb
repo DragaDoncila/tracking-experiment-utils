{
 "cells": [
  {
   "cell_type": "code",
   "execution_count": 2,
   "metadata": {},
   "outputs": [],
   "source": [
    "import os\n",
    "\n",
    "from generate_dataset_summary import generate_ctc_summary\n",
    "\n",
    "ROOT_DIR = '/home/ddon0001/PhD/data/cell_tracking_challenge/SUBMISSION/'\n",
    "OUT_ROOT = '/home/ddon0001/PhD/experiments/scaled/no_div_constraint_err_seg'\n",
    "out_csv_path = os.path.join(OUT_ROOT, 'summary.csv')"
   ]
  },
  {
   "cell_type": "code",
   "execution_count": 3,
   "metadata": {},
   "outputs": [
    {
     "name": "stderr",
     "output_type": "stream",
     "text": [
      "Loading TIFFs: 100%|██████████| 149/149 [00:26<00:00,  5.66it/s]\n",
      "/home/ddon0001/PhD/code/tracking-experiment-utils/generate_dataset_summary.py:99: UserWarning: Found existing detections for Fluo-N3DH-SIM+_01. Using them...\n",
      "  warnings.warn(f\"Found existing detections for {name}. Using them...\", UserWarning)\n",
      "Loading TIFFs: 100%|██████████| 79/79 [00:25<00:00,  3.16it/s]\n",
      "/home/ddon0001/PhD/code/tracking-experiment-utils/generate_dataset_summary.py:99: UserWarning: Found existing detections for Fluo-N3DH-SIM+_02. Using them...\n",
      "  warnings.warn(f\"Found existing detections for {name}. Using them...\", UserWarning)\n",
      "Loading TIFFs: 100%|██████████| 11/11 [00:01<00:00,  8.60it/s]\n",
      "/home/ddon0001/PhD/code/tracking-experiment-utils/generate_dataset_summary.py:99: UserWarning: Found existing detections for Fluo-C3DL-MDA231_01. Using them...\n",
      "  warnings.warn(f\"Found existing detections for {name}. Using them...\", UserWarning)\n",
      "Loading TIFFs: 100%|██████████| 11/11 [00:01<00:00,  8.44it/s]\n",
      "/home/ddon0001/PhD/code/tracking-experiment-utils/generate_dataset_summary.py:99: UserWarning: Found existing detections for Fluo-C3DL-MDA231_02. Using them...\n",
      "  warnings.warn(f\"Found existing detections for {name}. Using them...\", UserWarning)\n",
      "Loading TIFFs: 100%|██████████| 91/91 [00:00<00:00, 135.22it/s]\n",
      "/home/ddon0001/PhD/code/tracking-experiment-utils/generate_dataset_summary.py:99: UserWarning: Found existing detections for Fluo-N2DH-GOWT1_01. Using them...\n",
      "  warnings.warn(f\"Found existing detections for {name}. Using them...\", UserWarning)\n",
      "Loading TIFFs: 100%|██████████| 91/91 [00:00<00:00, 130.24it/s]\n",
      "/home/ddon0001/PhD/code/tracking-experiment-utils/generate_dataset_summary.py:99: UserWarning: Found existing detections for Fluo-N2DH-GOWT1_02. Using them...\n",
      "  warnings.warn(f\"Found existing detections for {name}. Using them...\", UserWarning)\n",
      " 18%|█▊        | 3/17 [00:56<03:05, 13.22s/it]/home/ddon0001/PhD/code/tracking-experiment-utils/generate_dataset_summary.py:68: UserWarning: No image sequences found for dataset SW. Skipping dataset...\n",
      "  warnings.warn(f\"No image sequences found for dataset {ds_name}. Skipping dataset...\", UserWarning)\n",
      "Loading TIFFs: 100%|██████████| 114/114 [00:00<00:00, 269.53it/s]\n",
      "/home/ddon0001/PhD/code/tracking-experiment-utils/generate_dataset_summary.py:99: UserWarning: Found existing detections for PhC-C2DH-U373_01. Using them...\n",
      "  warnings.warn(f\"Found existing detections for {name}. Using them...\", UserWarning)\n",
      "Loading TIFFs: 100%|██████████| 114/114 [00:00<00:00, 292.80it/s]\n",
      "/home/ddon0001/PhD/code/tracking-experiment-utils/generate_dataset_summary.py:99: UserWarning: Found existing detections for PhC-C2DH-U373_02. Using them...\n",
      "  warnings.warn(f\"Found existing detections for {name}. Using them...\", UserWarning)\n",
      "Loading TIFFs: 100%|██████████| 91/91 [00:01<00:00, 75.60it/s]\n",
      "/home/ddon0001/PhD/code/tracking-experiment-utils/generate_dataset_summary.py:99: UserWarning: Found existing detections for Fluo-N2DL-HeLa_01. Using them...\n",
      "  warnings.warn(f\"Found existing detections for {name}. Using them...\", UserWarning)\n",
      "Loading TIFFs: 100%|██████████| 91/91 [00:01<00:00, 73.77it/s]\n",
      "/home/ddon0001/PhD/code/tracking-experiment-utils/generate_dataset_summary.py:99: UserWarning: Found existing detections for Fluo-N2DL-HeLa_02. Using them...\n",
      "  warnings.warn(f\"Found existing detections for {name}. Using them...\", UserWarning)\n",
      "Loading TIFFs: 100%|██████████| 47/47 [00:00<00:00, 82.05it/s]\n",
      "/home/ddon0001/PhD/code/tracking-experiment-utils/generate_dataset_summary.py:99: UserWarning: Found existing detections for Fluo-C2DL-MSC_01. Using them...\n",
      "  warnings.warn(f\"Found existing detections for {name}. Using them...\", UserWarning)\n",
      "Loading TIFFs: 100%|██████████| 47/47 [00:00<00:00, 67.03it/s]\n",
      "/home/ddon0001/PhD/code/tracking-experiment-utils/generate_dataset_summary.py:99: UserWarning: Found existing detections for Fluo-C2DL-MSC_02. Using them...\n",
      "  warnings.warn(f\"Found existing detections for {name}. Using them...\", UserWarning)\n",
      "Loading TIFFs: 100%|██████████| 59/59 [00:23<00:00,  2.47it/s]\n",
      "/home/ddon0001/PhD/code/tracking-experiment-utils/generate_dataset_summary.py:99: UserWarning: Found existing detections for Fluo-C3DH-H157_01. Using them...\n",
      "  warnings.warn(f\"Found existing detections for {name}. Using them...\", UserWarning)\n",
      "Loading TIFFs: 100%|██████████| 59/59 [00:53<00:00,  1.11it/s]\n",
      "/home/ddon0001/PhD/code/tracking-experiment-utils/generate_dataset_summary.py:99: UserWarning: Found existing detections for Fluo-C3DH-H157_02. Using them...\n",
      "  warnings.warn(f\"Found existing detections for {name}. Using them...\", UserWarning)\n",
      "Loading TIFFs: 100%|██████████| 83/83 [00:00<00:00, 284.70it/s]\n",
      "/home/ddon0001/PhD/code/tracking-experiment-utils/generate_dataset_summary.py:99: UserWarning: Found existing detections for DIC-C2DH-HeLa_01. Using them...\n",
      "  warnings.warn(f\"Found existing detections for {name}. Using them...\", UserWarning)\n",
      "Loading TIFFs: 100%|██████████| 83/83 [00:00<00:00, 287.77it/s]\n",
      "/home/ddon0001/PhD/code/tracking-experiment-utils/generate_dataset_summary.py:99: UserWarning: Found existing detections for DIC-C2DH-HeLa_02. Using them...\n",
      "  warnings.warn(f\"Found existing detections for {name}. Using them...\", UserWarning)\n",
      "Loading TIFFs: 100%|██████████| 91/91 [00:00<00:00, 95.50it/s]\n",
      "/home/ddon0001/PhD/code/tracking-experiment-utils/generate_dataset_summary.py:99: UserWarning: Found existing detections for Fluo-N3DH-CHO_01. Using them...\n",
      "  warnings.warn(f\"Found existing detections for {name}. Using them...\", UserWarning)\n",
      "Loading TIFFs: 100%|██████████| 91/91 [00:00<00:00, 97.98it/s]\n",
      "/home/ddon0001/PhD/code/tracking-experiment-utils/generate_dataset_summary.py:99: UserWarning: Found existing detections for Fluo-N3DH-CHO_02. Using them...\n",
      "  warnings.warn(f\"Found existing detections for {name}. Using them...\", UserWarning)\n",
      "Loading TIFFs: 100%|██████████| 1375/1375 [00:12<00:00, 109.36it/s]\n",
      "/home/ddon0001/PhD/code/tracking-experiment-utils/generate_dataset_summary.py:99: UserWarning: Found existing detections for BF-C2DL-MuSC_01. Using them...\n",
      "  warnings.warn(f\"Found existing detections for {name}. Using them...\", UserWarning)\n",
      "Loading TIFFs: 100%|██████████| 1375/1375 [00:11<00:00, 115.41it/s]\n",
      "/home/ddon0001/PhD/code/tracking-experiment-utils/generate_dataset_summary.py:99: UserWarning: Found existing detections for BF-C2DL-MuSC_02. Using them...\n",
      "  warnings.warn(f\"Found existing detections for {name}. Using them...\", UserWarning)\n",
      "Loading TIFFs: 100%|██████████| 1763/1763 [00:15<00:00, 113.89it/s]\n",
      "/home/ddon0001/PhD/code/tracking-experiment-utils/generate_dataset_summary.py:99: UserWarning: Found existing detections for BF-C2DL-HSC_01. Using them...\n",
      "  warnings.warn(f\"Found existing detections for {name}. Using them...\", UserWarning)\n",
      "Loading TIFFs: 100%|██████████| 1763/1763 [00:14<00:00, 118.09it/s]\n",
      "/home/ddon0001/PhD/code/tracking-experiment-utils/generate_dataset_summary.py:99: UserWarning: Found existing detections for BF-C2DL-HSC_02. Using them...\n",
      "  warnings.warn(f\"Found existing detections for {name}. Using them...\", UserWarning)\n",
      "Loading TIFFs: 100%|██████████| 29/29 [00:01<00:00, 20.72it/s]\n",
      "/home/ddon0001/PhD/code/tracking-experiment-utils/generate_dataset_summary.py:99: UserWarning: Found existing detections for Fluo-C3DH-A549_01. Using them...\n",
      "  warnings.warn(f\"Found existing detections for {name}. Using them...\", UserWarning)\n",
      "Loading TIFFs: 100%|██████████| 29/29 [00:01<00:00, 21.65it/s]\n",
      "/home/ddon0001/PhD/code/tracking-experiment-utils/generate_dataset_summary.py:99: UserWarning: Found existing detections for Fluo-C3DH-A549_02. Using them...\n",
      "  warnings.warn(f\"Found existing detections for {name}. Using them...\", UserWarning)\n",
      "Loading TIFFs: 100%|██████████| 64/64 [00:00<00:00, 131.95it/s]\n",
      "/home/ddon0001/PhD/code/tracking-experiment-utils/generate_dataset_summary.py:99: UserWarning: Found existing detections for Fluo-N2DH-SIM+_01. Using them...\n",
      "  warnings.warn(f\"Found existing detections for {name}. Using them...\", UserWarning)\n",
      "Loading TIFFs: 100%|██████████| 149/149 [00:01<00:00, 109.75it/s]\n",
      "/home/ddon0001/PhD/code/tracking-experiment-utils/generate_dataset_summary.py:99: UserWarning: Found existing detections for Fluo-N2DH-SIM+_02. Using them...\n",
      "  warnings.warn(f\"Found existing detections for {name}. Using them...\", UserWarning)\n",
      "Loading TIFFs: 100%|██████████| 299/299 [00:01<00:00, 243.66it/s]\n",
      "/home/ddon0001/PhD/code/tracking-experiment-utils/generate_dataset_summary.py:99: UserWarning: Found existing detections for PhC-C2DL-PSC_01. Using them...\n",
      "  warnings.warn(f\"Found existing detections for {name}. Using them...\", UserWarning)\n",
      "Loading TIFFs: 100%|██████████| 299/299 [00:01<00:00, 246.56it/s]\n",
      "/home/ddon0001/PhD/code/tracking-experiment-utils/generate_dataset_summary.py:99: UserWarning: Found existing detections for PhC-C2DL-PSC_02. Using them...\n",
      "  warnings.warn(f\"Found existing detections for {name}. Using them...\", UserWarning)\n",
      "Loading TIFFs: 100%|██████████| 249/249 [00:24<00:00, 10.19it/s]\n",
      "/home/ddon0001/PhD/code/tracking-experiment-utils/generate_dataset_summary.py:99: UserWarning: Found existing detections for Fluo-N3DH-CE_01. Using them...\n",
      "  warnings.warn(f\"Found existing detections for {name}. Using them...\", UserWarning)\n",
      "Loading TIFFs: 100%|██████████| 249/249 [00:25<00:00,  9.81it/s]\n",
      "/home/ddon0001/PhD/code/tracking-experiment-utils/generate_dataset_summary.py:99: UserWarning: Found existing detections for Fluo-N3DH-CE_02. Using them...\n",
      "  warnings.warn(f\"Found existing detections for {name}. Using them...\", UserWarning)\n",
      "Loading TIFFs: 100%|██████████| 29/29 [00:01<00:00, 21.40it/s]\n",
      "/home/ddon0001/PhD/code/tracking-experiment-utils/generate_dataset_summary.py:99: UserWarning: Found existing detections for Fluo-C3DH-A549-SIM_01. Using them...\n",
      "  warnings.warn(f\"Found existing detections for {name}. Using them...\", UserWarning)\n",
      "Loading TIFFs: 100%|██████████| 29/29 [00:01<00:00, 15.28it/s]\n",
      "/home/ddon0001/PhD/code/tracking-experiment-utils/generate_dataset_summary.py:99: UserWarning: Found existing detections for Fluo-C3DH-A549-SIM_02. Using them...\n",
      "  warnings.warn(f\"Found existing detections for {name}. Using them...\", UserWarning)\n",
      "100%|██████████| 17/17 [04:18<00:00, 15.21s/it]\n"
     ]
    },
    {
     "data": {
      "text/html": [
       "<div>\n",
       "<style scoped>\n",
       "    .dataframe tbody tr th:only-of-type {\n",
       "        vertical-align: middle;\n",
       "    }\n",
       "\n",
       "    .dataframe tbody tr th {\n",
       "        vertical-align: top;\n",
       "    }\n",
       "\n",
       "    .dataframe thead th {\n",
       "        text-align: right;\n",
       "    }\n",
       "</style>\n",
       "<table border=\"1\" class=\"dataframe\">\n",
       "  <thead>\n",
       "    <tr style=\"text-align: right;\">\n",
       "      <th></th>\n",
       "      <th>ds_name</th>\n",
       "      <th>im_shape</th>\n",
       "      <th>n_frames</th>\n",
       "      <th>min_det</th>\n",
       "      <th>max_det</th>\n",
       "      <th>total_det</th>\n",
       "      <th>det_path</th>\n",
       "      <th>im_path</th>\n",
       "      <th>seg_path</th>\n",
       "      <th>tra_gt_path</th>\n",
       "    </tr>\n",
       "  </thead>\n",
       "  <tbody>\n",
       "    <tr>\n",
       "      <th>0</th>\n",
       "      <td>Fluo-N3DH-SIM+_01</td>\n",
       "      <td>(59, 349, 639)</td>\n",
       "      <td>150</td>\n",
       "      <td>6</td>\n",
       "      <td>43</td>\n",
       "      <td>2866</td>\n",
       "      <td>/home/ddon0001/PhD/data/cell_tracking_challeng...</td>\n",
       "      <td>/home/ddon0001/PhD/data/cell_tracking_challeng...</td>\n",
       "      <td>/home/ddon0001/PhD/data/cell_tracking_challeng...</td>\n",
       "      <td>/home/ddon0001/PhD/data/cell_tracking_challeng...</td>\n",
       "    </tr>\n",
       "    <tr>\n",
       "      <th>1</th>\n",
       "      <td>Fluo-N3DH-SIM+_02</td>\n",
       "      <td>(59, 642, 652)</td>\n",
       "      <td>80</td>\n",
       "      <td>30</td>\n",
       "      <td>55</td>\n",
       "      <td>3459</td>\n",
       "      <td>/home/ddon0001/PhD/data/cell_tracking_challeng...</td>\n",
       "      <td>/home/ddon0001/PhD/data/cell_tracking_challeng...</td>\n",
       "      <td>/home/ddon0001/PhD/data/cell_tracking_challeng...</td>\n",
       "      <td>/home/ddon0001/PhD/data/cell_tracking_challeng...</td>\n",
       "    </tr>\n",
       "    <tr>\n",
       "      <th>2</th>\n",
       "      <td>Fluo-C3DL-MDA231_01</td>\n",
       "      <td>(30, 512, 512)</td>\n",
       "      <td>12</td>\n",
       "      <td>27</td>\n",
       "      <td>31</td>\n",
       "      <td>351</td>\n",
       "      <td>/home/ddon0001/PhD/data/cell_tracking_challeng...</td>\n",
       "      <td>/home/ddon0001/PhD/data/cell_tracking_challeng...</td>\n",
       "      <td>/home/ddon0001/PhD/data/cell_tracking_challeng...</td>\n",
       "      <td>/home/ddon0001/PhD/data/cell_tracking_challeng...</td>\n",
       "    </tr>\n",
       "    <tr>\n",
       "      <th>3</th>\n",
       "      <td>Fluo-C3DL-MDA231_02</td>\n",
       "      <td>(30, 512, 512)</td>\n",
       "      <td>12</td>\n",
       "      <td>44</td>\n",
       "      <td>53</td>\n",
       "      <td>582</td>\n",
       "      <td>/home/ddon0001/PhD/data/cell_tracking_challeng...</td>\n",
       "      <td>/home/ddon0001/PhD/data/cell_tracking_challeng...</td>\n",
       "      <td>/home/ddon0001/PhD/data/cell_tracking_challeng...</td>\n",
       "      <td>/home/ddon0001/PhD/data/cell_tracking_challeng...</td>\n",
       "    </tr>\n",
       "    <tr>\n",
       "      <th>4</th>\n",
       "      <td>Fluo-N2DH-GOWT1_01</td>\n",
       "      <td>(1024, 1024)</td>\n",
       "      <td>92</td>\n",
       "      <td>20</td>\n",
       "      <td>24</td>\n",
       "      <td>2054</td>\n",
       "      <td>/home/ddon0001/PhD/data/cell_tracking_challeng...</td>\n",
       "      <td>/home/ddon0001/PhD/data/cell_tracking_challeng...</td>\n",
       "      <td>/home/ddon0001/PhD/data/cell_tracking_challeng...</td>\n",
       "      <td>/home/ddon0001/PhD/data/cell_tracking_challeng...</td>\n",
       "    </tr>\n",
       "    <tr>\n",
       "      <th>5</th>\n",
       "      <td>Fluo-N2DH-GOWT1_02</td>\n",
       "      <td>(1024, 1024)</td>\n",
       "      <td>92</td>\n",
       "      <td>21</td>\n",
       "      <td>29</td>\n",
       "      <td>2287</td>\n",
       "      <td>/home/ddon0001/PhD/data/cell_tracking_challeng...</td>\n",
       "      <td>/home/ddon0001/PhD/data/cell_tracking_challeng...</td>\n",
       "      <td>/home/ddon0001/PhD/data/cell_tracking_challeng...</td>\n",
       "      <td>/home/ddon0001/PhD/data/cell_tracking_challeng...</td>\n",
       "    </tr>\n",
       "    <tr>\n",
       "      <th>6</th>\n",
       "      <td>PhC-C2DH-U373_01</td>\n",
       "      <td>(520, 696)</td>\n",
       "      <td>115</td>\n",
       "      <td>6</td>\n",
       "      <td>7</td>\n",
       "      <td>765</td>\n",
       "      <td>/home/ddon0001/PhD/data/cell_tracking_challeng...</td>\n",
       "      <td>/home/ddon0001/PhD/data/cell_tracking_challeng...</td>\n",
       "      <td>/home/ddon0001/PhD/data/cell_tracking_challeng...</td>\n",
       "      <td>/home/ddon0001/PhD/data/cell_tracking_challeng...</td>\n",
       "    </tr>\n",
       "    <tr>\n",
       "      <th>7</th>\n",
       "      <td>PhC-C2DH-U373_02</td>\n",
       "      <td>(520, 696)</td>\n",
       "      <td>115</td>\n",
       "      <td>5</td>\n",
       "      <td>7</td>\n",
       "      <td>692</td>\n",
       "      <td>/home/ddon0001/PhD/data/cell_tracking_challeng...</td>\n",
       "      <td>/home/ddon0001/PhD/data/cell_tracking_challeng...</td>\n",
       "      <td>/home/ddon0001/PhD/data/cell_tracking_challeng...</td>\n",
       "      <td>/home/ddon0001/PhD/data/cell_tracking_challeng...</td>\n",
       "    </tr>\n",
       "    <tr>\n",
       "      <th>8</th>\n",
       "      <td>Fluo-N2DL-HeLa_01</td>\n",
       "      <td>(700, 1100)</td>\n",
       "      <td>92</td>\n",
       "      <td>43</td>\n",
       "      <td>136</td>\n",
       "      <td>8602</td>\n",
       "      <td>/home/ddon0001/PhD/data/cell_tracking_challeng...</td>\n",
       "      <td>/home/ddon0001/PhD/data/cell_tracking_challeng...</td>\n",
       "      <td>/home/ddon0001/PhD/data/cell_tracking_challeng...</td>\n",
       "      <td>/home/ddon0001/PhD/data/cell_tracking_challeng...</td>\n",
       "    </tr>\n",
       "    <tr>\n",
       "      <th>9</th>\n",
       "      <td>Fluo-N2DL-HeLa_02</td>\n",
       "      <td>(700, 1100)</td>\n",
       "      <td>92</td>\n",
       "      <td>124</td>\n",
       "      <td>364</td>\n",
       "      <td>25378</td>\n",
       "      <td>/home/ddon0001/PhD/data/cell_tracking_challeng...</td>\n",
       "      <td>/home/ddon0001/PhD/data/cell_tracking_challeng...</td>\n",
       "      <td>/home/ddon0001/PhD/data/cell_tracking_challeng...</td>\n",
       "      <td>/home/ddon0001/PhD/data/cell_tracking_challeng...</td>\n",
       "    </tr>\n",
       "    <tr>\n",
       "      <th>10</th>\n",
       "      <td>Fluo-C2DL-MSC_01</td>\n",
       "      <td>(832, 992)</td>\n",
       "      <td>48</td>\n",
       "      <td>7</td>\n",
       "      <td>11</td>\n",
       "      <td>427</td>\n",
       "      <td>/home/ddon0001/PhD/data/cell_tracking_challeng...</td>\n",
       "      <td>/home/ddon0001/PhD/data/cell_tracking_challeng...</td>\n",
       "      <td>/home/ddon0001/PhD/data/cell_tracking_challeng...</td>\n",
       "      <td>/home/ddon0001/PhD/data/cell_tracking_challeng...</td>\n",
       "    </tr>\n",
       "    <tr>\n",
       "      <th>11</th>\n",
       "      <td>Fluo-C2DL-MSC_02</td>\n",
       "      <td>(782, 1200)</td>\n",
       "      <td>48</td>\n",
       "      <td>3</td>\n",
       "      <td>6</td>\n",
       "      <td>188</td>\n",
       "      <td>/home/ddon0001/PhD/data/cell_tracking_challeng...</td>\n",
       "      <td>/home/ddon0001/PhD/data/cell_tracking_challeng...</td>\n",
       "      <td>/home/ddon0001/PhD/data/cell_tracking_challeng...</td>\n",
       "      <td>/home/ddon0001/PhD/data/cell_tracking_challeng...</td>\n",
       "    </tr>\n",
       "    <tr>\n",
       "      <th>12</th>\n",
       "      <td>Fluo-C3DH-H157_01</td>\n",
       "      <td>(35, 832, 992)</td>\n",
       "      <td>60</td>\n",
       "      <td>4</td>\n",
       "      <td>4</td>\n",
       "      <td>240</td>\n",
       "      <td>/home/ddon0001/PhD/data/cell_tracking_challeng...</td>\n",
       "      <td>/home/ddon0001/PhD/data/cell_tracking_challeng...</td>\n",
       "      <td>/home/ddon0001/PhD/data/cell_tracking_challeng...</td>\n",
       "      <td>/home/ddon0001/PhD/data/cell_tracking_challeng...</td>\n",
       "    </tr>\n",
       "    <tr>\n",
       "      <th>13</th>\n",
       "      <td>Fluo-C3DH-H157_02</td>\n",
       "      <td>(80, 832, 992)</td>\n",
       "      <td>60</td>\n",
       "      <td>1</td>\n",
       "      <td>5</td>\n",
       "      <td>159</td>\n",
       "      <td>/home/ddon0001/PhD/data/cell_tracking_challeng...</td>\n",
       "      <td>/home/ddon0001/PhD/data/cell_tracking_challeng...</td>\n",
       "      <td>/home/ddon0001/PhD/data/cell_tracking_challeng...</td>\n",
       "      <td>/home/ddon0001/PhD/data/cell_tracking_challeng...</td>\n",
       "    </tr>\n",
       "    <tr>\n",
       "      <th>14</th>\n",
       "      <td>DIC-C2DH-HeLa_01</td>\n",
       "      <td>(512, 512)</td>\n",
       "      <td>84</td>\n",
       "      <td>10</td>\n",
       "      <td>18</td>\n",
       "      <td>1104</td>\n",
       "      <td>/home/ddon0001/PhD/data/cell_tracking_challeng...</td>\n",
       "      <td>/home/ddon0001/PhD/data/cell_tracking_challeng...</td>\n",
       "      <td>/home/ddon0001/PhD/data/cell_tracking_challeng...</td>\n",
       "      <td>/home/ddon0001/PhD/data/cell_tracking_challeng...</td>\n",
       "    </tr>\n",
       "    <tr>\n",
       "      <th>15</th>\n",
       "      <td>DIC-C2DH-HeLa_02</td>\n",
       "      <td>(512, 512)</td>\n",
       "      <td>84</td>\n",
       "      <td>9</td>\n",
       "      <td>17</td>\n",
       "      <td>988</td>\n",
       "      <td>/home/ddon0001/PhD/data/cell_tracking_challeng...</td>\n",
       "      <td>/home/ddon0001/PhD/data/cell_tracking_challeng...</td>\n",
       "      <td>/home/ddon0001/PhD/data/cell_tracking_challeng...</td>\n",
       "      <td>/home/ddon0001/PhD/data/cell_tracking_challeng...</td>\n",
       "    </tr>\n",
       "    <tr>\n",
       "      <th>16</th>\n",
       "      <td>Fluo-N3DH-CHO_01</td>\n",
       "      <td>(5, 443, 512)</td>\n",
       "      <td>92</td>\n",
       "      <td>6</td>\n",
       "      <td>15</td>\n",
       "      <td>905</td>\n",
       "      <td>/home/ddon0001/PhD/data/cell_tracking_challeng...</td>\n",
       "      <td>/home/ddon0001/PhD/data/cell_tracking_challeng...</td>\n",
       "      <td>/home/ddon0001/PhD/data/cell_tracking_challeng...</td>\n",
       "      <td>/home/ddon0001/PhD/data/cell_tracking_challeng...</td>\n",
       "    </tr>\n",
       "    <tr>\n",
       "      <th>17</th>\n",
       "      <td>Fluo-N3DH-CHO_02</td>\n",
       "      <td>(5, 443, 512)</td>\n",
       "      <td>92</td>\n",
       "      <td>3</td>\n",
       "      <td>11</td>\n",
       "      <td>614</td>\n",
       "      <td>/home/ddon0001/PhD/data/cell_tracking_challeng...</td>\n",
       "      <td>/home/ddon0001/PhD/data/cell_tracking_challeng...</td>\n",
       "      <td>/home/ddon0001/PhD/data/cell_tracking_challeng...</td>\n",
       "      <td>/home/ddon0001/PhD/data/cell_tracking_challeng...</td>\n",
       "    </tr>\n",
       "    <tr>\n",
       "      <th>18</th>\n",
       "      <td>BF-C2DL-MuSC_01</td>\n",
       "      <td>(1036, 1070)</td>\n",
       "      <td>1376</td>\n",
       "      <td>1</td>\n",
       "      <td>23</td>\n",
       "      <td>5388</td>\n",
       "      <td>/home/ddon0001/PhD/data/cell_tracking_challeng...</td>\n",
       "      <td>/home/ddon0001/PhD/data/cell_tracking_challeng...</td>\n",
       "      <td>/home/ddon0001/PhD/data/cell_tracking_challeng...</td>\n",
       "      <td>/home/ddon0001/PhD/data/cell_tracking_challeng...</td>\n",
       "    </tr>\n",
       "    <tr>\n",
       "      <th>19</th>\n",
       "      <td>BF-C2DL-MuSC_02</td>\n",
       "      <td>(1036, 1070)</td>\n",
       "      <td>1376</td>\n",
       "      <td>1</td>\n",
       "      <td>22</td>\n",
       "      <td>7223</td>\n",
       "      <td>/home/ddon0001/PhD/data/cell_tracking_challeng...</td>\n",
       "      <td>/home/ddon0001/PhD/data/cell_tracking_challeng...</td>\n",
       "      <td>/home/ddon0001/PhD/data/cell_tracking_challeng...</td>\n",
       "      <td>/home/ddon0001/PhD/data/cell_tracking_challeng...</td>\n",
       "    </tr>\n",
       "    <tr>\n",
       "      <th>20</th>\n",
       "      <td>BF-C2DL-HSC_01</td>\n",
       "      <td>(1010, 1010)</td>\n",
       "      <td>1764</td>\n",
       "      <td>1</td>\n",
       "      <td>12</td>\n",
       "      <td>8674</td>\n",
       "      <td>/home/ddon0001/PhD/data/cell_tracking_challeng...</td>\n",
       "      <td>/home/ddon0001/PhD/data/cell_tracking_challeng...</td>\n",
       "      <td>/home/ddon0001/PhD/data/cell_tracking_challeng...</td>\n",
       "      <td>/home/ddon0001/PhD/data/cell_tracking_challeng...</td>\n",
       "    </tr>\n",
       "    <tr>\n",
       "      <th>21</th>\n",
       "      <td>BF-C2DL-HSC_02</td>\n",
       "      <td>(1010, 1010)</td>\n",
       "      <td>1764</td>\n",
       "      <td>2</td>\n",
       "      <td>159</td>\n",
       "      <td>64501</td>\n",
       "      <td>/home/ddon0001/PhD/data/cell_tracking_challeng...</td>\n",
       "      <td>/home/ddon0001/PhD/data/cell_tracking_challeng...</td>\n",
       "      <td>/home/ddon0001/PhD/data/cell_tracking_challeng...</td>\n",
       "      <td>/home/ddon0001/PhD/data/cell_tracking_challeng...</td>\n",
       "    </tr>\n",
       "    <tr>\n",
       "      <th>22</th>\n",
       "      <td>Fluo-C3DH-A549_01</td>\n",
       "      <td>(29, 300, 350)</td>\n",
       "      <td>30</td>\n",
       "      <td>1</td>\n",
       "      <td>1</td>\n",
       "      <td>30</td>\n",
       "      <td>/home/ddon0001/PhD/data/cell_tracking_challeng...</td>\n",
       "      <td>/home/ddon0001/PhD/data/cell_tracking_challeng...</td>\n",
       "      <td>/home/ddon0001/PhD/data/cell_tracking_challeng...</td>\n",
       "      <td>/home/ddon0001/PhD/data/cell_tracking_challeng...</td>\n",
       "    </tr>\n",
       "    <tr>\n",
       "      <th>23</th>\n",
       "      <td>Fluo-C3DH-A549_02</td>\n",
       "      <td>(28, 270, 400)</td>\n",
       "      <td>30</td>\n",
       "      <td>1</td>\n",
       "      <td>1</td>\n",
       "      <td>30</td>\n",
       "      <td>/home/ddon0001/PhD/data/cell_tracking_challeng...</td>\n",
       "      <td>/home/ddon0001/PhD/data/cell_tracking_challeng...</td>\n",
       "      <td>/home/ddon0001/PhD/data/cell_tracking_challeng...</td>\n",
       "      <td>/home/ddon0001/PhD/data/cell_tracking_challeng...</td>\n",
       "    </tr>\n",
       "    <tr>\n",
       "      <th>24</th>\n",
       "      <td>Fluo-N2DH-SIM+_01</td>\n",
       "      <td>(690, 628)</td>\n",
       "      <td>65</td>\n",
       "      <td>30</td>\n",
       "      <td>47</td>\n",
       "      <td>2607</td>\n",
       "      <td>/home/ddon0001/PhD/data/cell_tracking_challeng...</td>\n",
       "      <td>/home/ddon0001/PhD/data/cell_tracking_challeng...</td>\n",
       "      <td>/home/ddon0001/PhD/data/cell_tracking_challeng...</td>\n",
       "      <td>/home/ddon0001/PhD/data/cell_tracking_challeng...</td>\n",
       "    </tr>\n",
       "    <tr>\n",
       "      <th>25</th>\n",
       "      <td>Fluo-N2DH-SIM+_02</td>\n",
       "      <td>(773, 739)</td>\n",
       "      <td>150</td>\n",
       "      <td>8</td>\n",
       "      <td>54</td>\n",
       "      <td>3371</td>\n",
       "      <td>/home/ddon0001/PhD/data/cell_tracking_challeng...</td>\n",
       "      <td>/home/ddon0001/PhD/data/cell_tracking_challeng...</td>\n",
       "      <td>/home/ddon0001/PhD/data/cell_tracking_challeng...</td>\n",
       "      <td>/home/ddon0001/PhD/data/cell_tracking_challeng...</td>\n",
       "    </tr>\n",
       "    <tr>\n",
       "      <th>26</th>\n",
       "      <td>PhC-C2DL-PSC_01</td>\n",
       "      <td>(576, 720)</td>\n",
       "      <td>300</td>\n",
       "      <td>74</td>\n",
       "      <td>650</td>\n",
       "      <td>71067</td>\n",
       "      <td>/home/ddon0001/PhD/data/cell_tracking_challeng...</td>\n",
       "      <td>/home/ddon0001/PhD/data/cell_tracking_challeng...</td>\n",
       "      <td>/home/ddon0001/PhD/data/cell_tracking_challeng...</td>\n",
       "      <td>/home/ddon0001/PhD/data/cell_tracking_challeng...</td>\n",
       "    </tr>\n",
       "    <tr>\n",
       "      <th>27</th>\n",
       "      <td>PhC-C2DL-PSC_02</td>\n",
       "      <td>(576, 720)</td>\n",
       "      <td>300</td>\n",
       "      <td>65</td>\n",
       "      <td>498</td>\n",
       "      <td>56775</td>\n",
       "      <td>/home/ddon0001/PhD/data/cell_tracking_challeng...</td>\n",
       "      <td>/home/ddon0001/PhD/data/cell_tracking_challeng...</td>\n",
       "      <td>/home/ddon0001/PhD/data/cell_tracking_challeng...</td>\n",
       "      <td>/home/ddon0001/PhD/data/cell_tracking_challeng...</td>\n",
       "    </tr>\n",
       "    <tr>\n",
       "      <th>28</th>\n",
       "      <td>Fluo-N3DH-CE_01</td>\n",
       "      <td>(35, 512, 708)</td>\n",
       "      <td>250</td>\n",
       "      <td>4</td>\n",
       "      <td>362</td>\n",
       "      <td>23785</td>\n",
       "      <td>/home/ddon0001/PhD/data/cell_tracking_challeng...</td>\n",
       "      <td>/home/ddon0001/PhD/data/cell_tracking_challeng...</td>\n",
       "      <td>/home/ddon0001/PhD/data/cell_tracking_challeng...</td>\n",
       "      <td>/home/ddon0001/PhD/data/cell_tracking_challeng...</td>\n",
       "    </tr>\n",
       "    <tr>\n",
       "      <th>29</th>\n",
       "      <td>Fluo-N3DH-CE_02</td>\n",
       "      <td>(31, 512, 712)</td>\n",
       "      <td>250</td>\n",
       "      <td>2</td>\n",
       "      <td>359</td>\n",
       "      <td>22317</td>\n",
       "      <td>/home/ddon0001/PhD/data/cell_tracking_challeng...</td>\n",
       "      <td>/home/ddon0001/PhD/data/cell_tracking_challeng...</td>\n",
       "      <td>/home/ddon0001/PhD/data/cell_tracking_challeng...</td>\n",
       "      <td>/home/ddon0001/PhD/data/cell_tracking_challeng...</td>\n",
       "    </tr>\n",
       "    <tr>\n",
       "      <th>30</th>\n",
       "      <td>Fluo-C3DH-A549-SIM_01</td>\n",
       "      <td>(29, 300, 350)</td>\n",
       "      <td>30</td>\n",
       "      <td>1</td>\n",
       "      <td>1</td>\n",
       "      <td>30</td>\n",
       "      <td>/home/ddon0001/PhD/data/cell_tracking_challeng...</td>\n",
       "      <td>/home/ddon0001/PhD/data/cell_tracking_challeng...</td>\n",
       "      <td>/home/ddon0001/PhD/data/cell_tracking_challeng...</td>\n",
       "      <td>/home/ddon0001/PhD/data/cell_tracking_challeng...</td>\n",
       "    </tr>\n",
       "    <tr>\n",
       "      <th>31</th>\n",
       "      <td>Fluo-C3DH-A549-SIM_02</td>\n",
       "      <td>(37, 300, 400)</td>\n",
       "      <td>30</td>\n",
       "      <td>1</td>\n",
       "      <td>1</td>\n",
       "      <td>30</td>\n",
       "      <td>/home/ddon0001/PhD/data/cell_tracking_challeng...</td>\n",
       "      <td>/home/ddon0001/PhD/data/cell_tracking_challeng...</td>\n",
       "      <td>/home/ddon0001/PhD/data/cell_tracking_challeng...</td>\n",
       "      <td>/home/ddon0001/PhD/data/cell_tracking_challeng...</td>\n",
       "    </tr>\n",
       "  </tbody>\n",
       "</table>\n",
       "</div>"
      ],
      "text/plain": [
       "                  ds_name        im_shape  n_frames  min_det  max_det  \\\n",
       "0       Fluo-N3DH-SIM+_01  (59, 349, 639)       150        6       43   \n",
       "1       Fluo-N3DH-SIM+_02  (59, 642, 652)        80       30       55   \n",
       "2     Fluo-C3DL-MDA231_01  (30, 512, 512)        12       27       31   \n",
       "3     Fluo-C3DL-MDA231_02  (30, 512, 512)        12       44       53   \n",
       "4      Fluo-N2DH-GOWT1_01    (1024, 1024)        92       20       24   \n",
       "5      Fluo-N2DH-GOWT1_02    (1024, 1024)        92       21       29   \n",
       "6        PhC-C2DH-U373_01      (520, 696)       115        6        7   \n",
       "7        PhC-C2DH-U373_02      (520, 696)       115        5        7   \n",
       "8       Fluo-N2DL-HeLa_01     (700, 1100)        92       43      136   \n",
       "9       Fluo-N2DL-HeLa_02     (700, 1100)        92      124      364   \n",
       "10       Fluo-C2DL-MSC_01      (832, 992)        48        7       11   \n",
       "11       Fluo-C2DL-MSC_02     (782, 1200)        48        3        6   \n",
       "12      Fluo-C3DH-H157_01  (35, 832, 992)        60        4        4   \n",
       "13      Fluo-C3DH-H157_02  (80, 832, 992)        60        1        5   \n",
       "14       DIC-C2DH-HeLa_01      (512, 512)        84       10       18   \n",
       "15       DIC-C2DH-HeLa_02      (512, 512)        84        9       17   \n",
       "16       Fluo-N3DH-CHO_01   (5, 443, 512)        92        6       15   \n",
       "17       Fluo-N3DH-CHO_02   (5, 443, 512)        92        3       11   \n",
       "18        BF-C2DL-MuSC_01    (1036, 1070)      1376        1       23   \n",
       "19        BF-C2DL-MuSC_02    (1036, 1070)      1376        1       22   \n",
       "20         BF-C2DL-HSC_01    (1010, 1010)      1764        1       12   \n",
       "21         BF-C2DL-HSC_02    (1010, 1010)      1764        2      159   \n",
       "22      Fluo-C3DH-A549_01  (29, 300, 350)        30        1        1   \n",
       "23      Fluo-C3DH-A549_02  (28, 270, 400)        30        1        1   \n",
       "24      Fluo-N2DH-SIM+_01      (690, 628)        65       30       47   \n",
       "25      Fluo-N2DH-SIM+_02      (773, 739)       150        8       54   \n",
       "26        PhC-C2DL-PSC_01      (576, 720)       300       74      650   \n",
       "27        PhC-C2DL-PSC_02      (576, 720)       300       65      498   \n",
       "28        Fluo-N3DH-CE_01  (35, 512, 708)       250        4      362   \n",
       "29        Fluo-N3DH-CE_02  (31, 512, 712)       250        2      359   \n",
       "30  Fluo-C3DH-A549-SIM_01  (29, 300, 350)        30        1        1   \n",
       "31  Fluo-C3DH-A549-SIM_02  (37, 300, 400)        30        1        1   \n",
       "\n",
       "    total_det                                           det_path  \\\n",
       "0        2866  /home/ddon0001/PhD/data/cell_tracking_challeng...   \n",
       "1        3459  /home/ddon0001/PhD/data/cell_tracking_challeng...   \n",
       "2         351  /home/ddon0001/PhD/data/cell_tracking_challeng...   \n",
       "3         582  /home/ddon0001/PhD/data/cell_tracking_challeng...   \n",
       "4        2054  /home/ddon0001/PhD/data/cell_tracking_challeng...   \n",
       "5        2287  /home/ddon0001/PhD/data/cell_tracking_challeng...   \n",
       "6         765  /home/ddon0001/PhD/data/cell_tracking_challeng...   \n",
       "7         692  /home/ddon0001/PhD/data/cell_tracking_challeng...   \n",
       "8        8602  /home/ddon0001/PhD/data/cell_tracking_challeng...   \n",
       "9       25378  /home/ddon0001/PhD/data/cell_tracking_challeng...   \n",
       "10        427  /home/ddon0001/PhD/data/cell_tracking_challeng...   \n",
       "11        188  /home/ddon0001/PhD/data/cell_tracking_challeng...   \n",
       "12        240  /home/ddon0001/PhD/data/cell_tracking_challeng...   \n",
       "13        159  /home/ddon0001/PhD/data/cell_tracking_challeng...   \n",
       "14       1104  /home/ddon0001/PhD/data/cell_tracking_challeng...   \n",
       "15        988  /home/ddon0001/PhD/data/cell_tracking_challeng...   \n",
       "16        905  /home/ddon0001/PhD/data/cell_tracking_challeng...   \n",
       "17        614  /home/ddon0001/PhD/data/cell_tracking_challeng...   \n",
       "18       5388  /home/ddon0001/PhD/data/cell_tracking_challeng...   \n",
       "19       7223  /home/ddon0001/PhD/data/cell_tracking_challeng...   \n",
       "20       8674  /home/ddon0001/PhD/data/cell_tracking_challeng...   \n",
       "21      64501  /home/ddon0001/PhD/data/cell_tracking_challeng...   \n",
       "22         30  /home/ddon0001/PhD/data/cell_tracking_challeng...   \n",
       "23         30  /home/ddon0001/PhD/data/cell_tracking_challeng...   \n",
       "24       2607  /home/ddon0001/PhD/data/cell_tracking_challeng...   \n",
       "25       3371  /home/ddon0001/PhD/data/cell_tracking_challeng...   \n",
       "26      71067  /home/ddon0001/PhD/data/cell_tracking_challeng...   \n",
       "27      56775  /home/ddon0001/PhD/data/cell_tracking_challeng...   \n",
       "28      23785  /home/ddon0001/PhD/data/cell_tracking_challeng...   \n",
       "29      22317  /home/ddon0001/PhD/data/cell_tracking_challeng...   \n",
       "30         30  /home/ddon0001/PhD/data/cell_tracking_challeng...   \n",
       "31         30  /home/ddon0001/PhD/data/cell_tracking_challeng...   \n",
       "\n",
       "                                              im_path  \\\n",
       "0   /home/ddon0001/PhD/data/cell_tracking_challeng...   \n",
       "1   /home/ddon0001/PhD/data/cell_tracking_challeng...   \n",
       "2   /home/ddon0001/PhD/data/cell_tracking_challeng...   \n",
       "3   /home/ddon0001/PhD/data/cell_tracking_challeng...   \n",
       "4   /home/ddon0001/PhD/data/cell_tracking_challeng...   \n",
       "5   /home/ddon0001/PhD/data/cell_tracking_challeng...   \n",
       "6   /home/ddon0001/PhD/data/cell_tracking_challeng...   \n",
       "7   /home/ddon0001/PhD/data/cell_tracking_challeng...   \n",
       "8   /home/ddon0001/PhD/data/cell_tracking_challeng...   \n",
       "9   /home/ddon0001/PhD/data/cell_tracking_challeng...   \n",
       "10  /home/ddon0001/PhD/data/cell_tracking_challeng...   \n",
       "11  /home/ddon0001/PhD/data/cell_tracking_challeng...   \n",
       "12  /home/ddon0001/PhD/data/cell_tracking_challeng...   \n",
       "13  /home/ddon0001/PhD/data/cell_tracking_challeng...   \n",
       "14  /home/ddon0001/PhD/data/cell_tracking_challeng...   \n",
       "15  /home/ddon0001/PhD/data/cell_tracking_challeng...   \n",
       "16  /home/ddon0001/PhD/data/cell_tracking_challeng...   \n",
       "17  /home/ddon0001/PhD/data/cell_tracking_challeng...   \n",
       "18  /home/ddon0001/PhD/data/cell_tracking_challeng...   \n",
       "19  /home/ddon0001/PhD/data/cell_tracking_challeng...   \n",
       "20  /home/ddon0001/PhD/data/cell_tracking_challeng...   \n",
       "21  /home/ddon0001/PhD/data/cell_tracking_challeng...   \n",
       "22  /home/ddon0001/PhD/data/cell_tracking_challeng...   \n",
       "23  /home/ddon0001/PhD/data/cell_tracking_challeng...   \n",
       "24  /home/ddon0001/PhD/data/cell_tracking_challeng...   \n",
       "25  /home/ddon0001/PhD/data/cell_tracking_challeng...   \n",
       "26  /home/ddon0001/PhD/data/cell_tracking_challeng...   \n",
       "27  /home/ddon0001/PhD/data/cell_tracking_challeng...   \n",
       "28  /home/ddon0001/PhD/data/cell_tracking_challeng...   \n",
       "29  /home/ddon0001/PhD/data/cell_tracking_challeng...   \n",
       "30  /home/ddon0001/PhD/data/cell_tracking_challeng...   \n",
       "31  /home/ddon0001/PhD/data/cell_tracking_challeng...   \n",
       "\n",
       "                                             seg_path  \\\n",
       "0   /home/ddon0001/PhD/data/cell_tracking_challeng...   \n",
       "1   /home/ddon0001/PhD/data/cell_tracking_challeng...   \n",
       "2   /home/ddon0001/PhD/data/cell_tracking_challeng...   \n",
       "3   /home/ddon0001/PhD/data/cell_tracking_challeng...   \n",
       "4   /home/ddon0001/PhD/data/cell_tracking_challeng...   \n",
       "5   /home/ddon0001/PhD/data/cell_tracking_challeng...   \n",
       "6   /home/ddon0001/PhD/data/cell_tracking_challeng...   \n",
       "7   /home/ddon0001/PhD/data/cell_tracking_challeng...   \n",
       "8   /home/ddon0001/PhD/data/cell_tracking_challeng...   \n",
       "9   /home/ddon0001/PhD/data/cell_tracking_challeng...   \n",
       "10  /home/ddon0001/PhD/data/cell_tracking_challeng...   \n",
       "11  /home/ddon0001/PhD/data/cell_tracking_challeng...   \n",
       "12  /home/ddon0001/PhD/data/cell_tracking_challeng...   \n",
       "13  /home/ddon0001/PhD/data/cell_tracking_challeng...   \n",
       "14  /home/ddon0001/PhD/data/cell_tracking_challeng...   \n",
       "15  /home/ddon0001/PhD/data/cell_tracking_challeng...   \n",
       "16  /home/ddon0001/PhD/data/cell_tracking_challeng...   \n",
       "17  /home/ddon0001/PhD/data/cell_tracking_challeng...   \n",
       "18  /home/ddon0001/PhD/data/cell_tracking_challeng...   \n",
       "19  /home/ddon0001/PhD/data/cell_tracking_challeng...   \n",
       "20  /home/ddon0001/PhD/data/cell_tracking_challeng...   \n",
       "21  /home/ddon0001/PhD/data/cell_tracking_challeng...   \n",
       "22  /home/ddon0001/PhD/data/cell_tracking_challeng...   \n",
       "23  /home/ddon0001/PhD/data/cell_tracking_challeng...   \n",
       "24  /home/ddon0001/PhD/data/cell_tracking_challeng...   \n",
       "25  /home/ddon0001/PhD/data/cell_tracking_challeng...   \n",
       "26  /home/ddon0001/PhD/data/cell_tracking_challeng...   \n",
       "27  /home/ddon0001/PhD/data/cell_tracking_challeng...   \n",
       "28  /home/ddon0001/PhD/data/cell_tracking_challeng...   \n",
       "29  /home/ddon0001/PhD/data/cell_tracking_challeng...   \n",
       "30  /home/ddon0001/PhD/data/cell_tracking_challeng...   \n",
       "31  /home/ddon0001/PhD/data/cell_tracking_challeng...   \n",
       "\n",
       "                                          tra_gt_path  \n",
       "0   /home/ddon0001/PhD/data/cell_tracking_challeng...  \n",
       "1   /home/ddon0001/PhD/data/cell_tracking_challeng...  \n",
       "2   /home/ddon0001/PhD/data/cell_tracking_challeng...  \n",
       "3   /home/ddon0001/PhD/data/cell_tracking_challeng...  \n",
       "4   /home/ddon0001/PhD/data/cell_tracking_challeng...  \n",
       "5   /home/ddon0001/PhD/data/cell_tracking_challeng...  \n",
       "6   /home/ddon0001/PhD/data/cell_tracking_challeng...  \n",
       "7   /home/ddon0001/PhD/data/cell_tracking_challeng...  \n",
       "8   /home/ddon0001/PhD/data/cell_tracking_challeng...  \n",
       "9   /home/ddon0001/PhD/data/cell_tracking_challeng...  \n",
       "10  /home/ddon0001/PhD/data/cell_tracking_challeng...  \n",
       "11  /home/ddon0001/PhD/data/cell_tracking_challeng...  \n",
       "12  /home/ddon0001/PhD/data/cell_tracking_challeng...  \n",
       "13  /home/ddon0001/PhD/data/cell_tracking_challeng...  \n",
       "14  /home/ddon0001/PhD/data/cell_tracking_challeng...  \n",
       "15  /home/ddon0001/PhD/data/cell_tracking_challeng...  \n",
       "16  /home/ddon0001/PhD/data/cell_tracking_challeng...  \n",
       "17  /home/ddon0001/PhD/data/cell_tracking_challeng...  \n",
       "18  /home/ddon0001/PhD/data/cell_tracking_challeng...  \n",
       "19  /home/ddon0001/PhD/data/cell_tracking_challeng...  \n",
       "20  /home/ddon0001/PhD/data/cell_tracking_challeng...  \n",
       "21  /home/ddon0001/PhD/data/cell_tracking_challeng...  \n",
       "22  /home/ddon0001/PhD/data/cell_tracking_challeng...  \n",
       "23  /home/ddon0001/PhD/data/cell_tracking_challeng...  \n",
       "24  /home/ddon0001/PhD/data/cell_tracking_challeng...  \n",
       "25  /home/ddon0001/PhD/data/cell_tracking_challeng...  \n",
       "26  /home/ddon0001/PhD/data/cell_tracking_challeng...  \n",
       "27  /home/ddon0001/PhD/data/cell_tracking_challeng...  \n",
       "28  /home/ddon0001/PhD/data/cell_tracking_challeng...  \n",
       "29  /home/ddon0001/PhD/data/cell_tracking_challeng...  \n",
       "30  /home/ddon0001/PhD/data/cell_tracking_challeng...  \n",
       "31  /home/ddon0001/PhD/data/cell_tracking_challeng...  "
      ]
     },
     "execution_count": 3,
     "metadata": {},
     "output_type": "execute_result"
    }
   ],
   "source": [
    "generate_ctc_summary(ROOT_DIR, out_csv_path, use_err_seg=True)"
   ]
  },
  {
   "cell_type": "code",
   "execution_count": 4,
   "metadata": {},
   "outputs": [],
   "source": [
    "from generate_configs import ds_summary_to_configs\n",
    "configs = ds_summary_to_configs(out_csv_path, OUT_ROOT, div_constraint=False)"
   ]
  },
  {
   "cell_type": "code",
   "execution_count": 5,
   "metadata": {},
   "outputs": [
    {
     "name": "stderr",
     "output_type": "stream",
     "text": [
      "Computing candidate edges: 100%|██████████| 149/149 [00:00<00:00, 1832.12it/s]\n"
     ]
    },
    {
     "name": "stdout",
     "output_type": "stream",
     "text": [
      "Set parameter Username\n",
      "Academic license - for non-commercial use only - expires 2025-03-14\n",
      "Gurobi Optimizer version 10.0.0 build v10.0.0rc2 (linux64)\n",
      "\n",
      "CPU model: 11th Gen Intel(R) Core(TM) i7-11850H @ 2.50GHz, instruction set [SSE2|AVX|AVX2|AVX512]\n",
      "Thread count: 8 physical cores, 16 logical processors, using up to 16 threads\n",
      "\n",
      "Optimize a model with 5735 rows, 36192 columns and 102885 nonzeros\n",
      "Model fingerprint: 0x57bf5860\n",
      "Coefficient statistics:\n",
      "  Matrix range     [1e+00, 1e+00]\n",
      "  Objective range  [3e-02, 6e+01]\n",
      "  Bounds range     [1e+00, 2e+00]\n",
      "  RHS range        [1e+00, 1e+00]\n",
      "Presolve removed 9 rows and 8 columns\n",
      "Presolve time: 0.04s\n",
      "Presolved: 5726 rows, 36184 columns, 102843 nonzeros\n",
      "\n",
      "Concurrent LP optimizer: primal simplex, dual simplex, and barrier\n",
      "Showing barrier log only...\n",
      "\n",
      "Ordering time: 0.01s\n",
      "\n",
      "Barrier statistics:\n",
      " AA' NZ     : 6.383e+04\n",
      " Factor NZ  : 1.898e+05 (roughly 20 MB of memory)\n",
      " Factor Ops : 7.800e+06 (less than 1 second per iteration)\n",
      " Threads    : 6\n",
      "\n",
      "Barrier performed 0 iterations in 0.07 seconds (0.06 work units)\n",
      "Barrier solve interrupted - model solved by another algorithm\n",
      "\n",
      "\n",
      "Solved with dual simplex\n",
      "Iteration    Objective       Primal Inf.    Dual Inf.      Time\n",
      "    2941    1.5722003e+03   0.000000e+00   0.000000e+00      0s\n",
      "\n",
      "Solved in 2941 iterations and 0.08 seconds (0.06 work units)\n",
      "Optimal objective  1.572200288e+03\n",
      "Building took 2.3369927406311035 seconds\n"
     ]
    },
    {
     "name": "stderr",
     "output_type": "stream",
     "text": [
      "Computing candidate edges: 100%|██████████| 79/79 [00:00<00:00, 1741.34it/s]\n"
     ]
    },
    {
     "name": "stdout",
     "output_type": "stream",
     "text": [
      "Gurobi Optimizer version 10.0.0 build v10.0.0rc2 (linux64)\n",
      "\n",
      "CPU model: 11th Gen Intel(R) Core(TM) i7-11850H @ 2.50GHz, instruction set [SSE2|AVX|AVX2|AVX512]\n",
      "Thread count: 8 physical cores, 16 logical processors, using up to 16 threads\n",
      "\n",
      "Optimize a model with 6921 rows, 44364 columns and 126227 nonzeros\n",
      "Model fingerprint: 0x410c78e3\n",
      "Coefficient statistics:\n",
      "  Matrix range     [1e+00, 1e+00]\n",
      "  Objective range  [2e-02, 5e+01]\n",
      "  Bounds range     [1e+00, 2e+00]\n",
      "  RHS range        [1e+00, 1e+00]\n",
      "Presolve removed 33 rows and 32 columns\n",
      "Presolve time: 0.05s\n",
      "Presolved: 6888 rows, 44332 columns, 126105 nonzeros\n",
      "\n",
      "Concurrent LP optimizer: primal simplex, dual simplex, and barrier\n",
      "Showing barrier log only...\n",
      "\n",
      "Ordering time: 0.01s\n",
      "\n",
      "Barrier statistics:\n",
      " AA' NZ     : 7.836e+04\n",
      " Factor NZ  : 2.939e+05 (roughly 23 MB of memory)\n",
      " Factor Ops : 1.765e+07 (less than 1 second per iteration)\n",
      " Threads    : 6\n",
      "\n",
      "Barrier performed 0 iterations in 0.09 seconds (0.08 work units)\n",
      "Barrier solve interrupted - model solved by another algorithm\n",
      "\n",
      "\n",
      "Solved with dual simplex\n",
      "Iteration    Objective       Primal Inf.    Dual Inf.      Time\n",
      "    3563    1.8375155e+03   0.000000e+00   0.000000e+00      0s\n",
      "\n",
      "Solved in 3563 iterations and 0.10 seconds (0.08 work units)\n",
      "Optimal objective  1.837515536e+03\n",
      "Building took 2.6305861473083496 seconds\n"
     ]
    },
    {
     "name": "stderr",
     "output_type": "stream",
     "text": [
      "Computing candidate edges: 100%|██████████| 11/11 [00:00<00:00, 2059.24it/s]\n"
     ]
    },
    {
     "name": "stdout",
     "output_type": "stream",
     "text": [
      "Gurobi Optimizer version 10.0.0 build v10.0.0rc2 (linux64)\n",
      "\n",
      "CPU model: 11th Gen Intel(R) Core(TM) i7-11850H @ 2.50GHz, instruction set [SSE2|AVX|AVX2|AVX512]\n",
      "Thread count: 8 physical cores, 16 logical processors, using up to 16 threads\n",
      "\n",
      "Optimize a model with 705 rows, 4268 columns and 12127 nonzeros\n",
      "Model fingerprint: 0x85ce09fc\n",
      "Coefficient statistics:\n",
      "  Matrix range     [1e+00, 1e+00]\n",
      "  Objective range  [3e-01, 4e+02]\n",
      "  Bounds range     [1e+00, 2e+00]\n",
      "  RHS range        [1e+00, 1e+00]\n",
      "Presolve removed 33 rows and 32 columns\n",
      "Presolve time: 0.01s\n",
      "Presolved: 672 rows, 4236 columns, 12006 nonzeros\n",
      "\n",
      "Iteration    Objective       Primal Inf.    Dual Inf.      Time\n",
      "       0    0.0000000e+00   3.810000e+02   0.000000e+00      0s\n",
      "     342    2.4509100e+03   0.000000e+00   0.000000e+00      0s\n",
      "\n",
      "Solved in 342 iterations and 0.01 seconds (0.01 work units)\n",
      "Optimal objective  2.450909970e+03\n",
      "Building took 0.248215913772583 seconds\n"
     ]
    },
    {
     "name": "stderr",
     "output_type": "stream",
     "text": [
      "Computing candidate edges: 100%|██████████| 11/11 [00:00<00:00, 1643.59it/s]\n"
     ]
    },
    {
     "name": "stdout",
     "output_type": "stream",
     "text": [
      "Gurobi Optimizer version 10.0.0 build v10.0.0rc2 (linux64)\n",
      "\n",
      "CPU model: 11th Gen Intel(R) Core(TM) i7-11850H @ 2.50GHz, instruction set [SSE2|AVX|AVX2|AVX512]\n",
      "Thread count: 8 physical cores, 16 logical processors, using up to 16 threads\n",
      "\n",
      "Optimize a model with 1167 rows, 7084 columns and 20130 nonzeros\n",
      "Model fingerprint: 0x0a4ec213\n",
      "Coefficient statistics:\n",
      "  Matrix range     [1e+00, 1e+00]\n",
      "  Objective range  [3e-01, 3e+02]\n",
      "  Bounds range     [1e+00, 2e+00]\n",
      "  RHS range        [1e+00, 1e+00]\n",
      "Presolve removed 51 rows and 50 columns\n",
      "Presolve time: 0.01s\n",
      "Presolved: 1116 rows, 7034 columns, 19954 nonzeros\n",
      "\n",
      "Iteration    Objective       Primal Inf.    Dual Inf.      Time\n",
      "       0    0.0000000e+00   6.300000e+02   0.000000e+00      0s\n",
      "     611    4.3310992e+03   0.000000e+00   0.000000e+00      0s\n",
      "\n",
      "Solved in 611 iterations and 0.01 seconds (0.01 work units)\n",
      "Optimal objective  4.331099190e+03\n",
      "Building took 0.4883084297180176 seconds\n"
     ]
    },
    {
     "name": "stderr",
     "output_type": "stream",
     "text": [
      "Computing candidate edges: 100%|██████████| 91/91 [00:00<00:00, 1802.51it/s]\n"
     ]
    },
    {
     "name": "stdout",
     "output_type": "stream",
     "text": [
      "Gurobi Optimizer version 10.0.0 build v10.0.0rc2 (linux64)\n",
      "\n",
      "CPU model: 11th Gen Intel(R) Core(TM) i7-11850H @ 2.50GHz, instruction set [SSE2|AVX|AVX2|AVX512]\n",
      "Thread count: 8 physical cores, 16 logical processors, using up to 16 threads\n",
      "\n",
      "Optimize a model with 4111 rows, 26484 columns and 75362 nonzeros\n",
      "Model fingerprint: 0xd4af5ebc\n",
      "Coefficient statistics:\n",
      "  Matrix range     [1e+00, 1e+00]\n",
      "  Objective range  [1e-02, 1e+02]\n",
      "  Bounds range     [1e+00, 2e+00]\n",
      "  RHS range        [1e+00, 1e+00]\n",
      "Presolve removed 26 rows and 25 columns\n",
      "Presolve time: 0.03s\n",
      "Presolved: 4085 rows, 26459 columns, 75258 nonzeros\n",
      "\n",
      "Concurrent LP optimizer: primal simplex, dual simplex, and barrier\n",
      "Showing barrier log only...\n",
      "\n",
      "Ordering time: 0.00s\n",
      "\n",
      "Barrier statistics:\n",
      " AA' NZ     : 4.676e+04\n",
      " Factor NZ  : 1.465e+05 (roughly 13 MB of memory)\n",
      " Factor Ops : 5.580e+06 (less than 1 second per iteration)\n",
      " Threads    : 6\n",
      "\n",
      "Barrier performed 0 iterations in 0.05 seconds (0.04 work units)\n",
      "Barrier solve interrupted - model solved by another algorithm\n",
      "\n",
      "\n",
      "Solved with dual simplex\n",
      "Iteration    Objective       Primal Inf.    Dual Inf.      Time\n",
      "    2216    1.3495364e+03   0.000000e+00   0.000000e+00      0s\n",
      "\n",
      "Solved in 2216 iterations and 0.06 seconds (0.06 work units)\n",
      "Optimal objective  1.349536384e+03\n",
      "Building took 1.3959498405456543 seconds\n"
     ]
    },
    {
     "name": "stderr",
     "output_type": "stream",
     "text": [
      "Computing candidate edges: 100%|██████████| 91/91 [00:00<00:00, 2020.36it/s]\n"
     ]
    },
    {
     "name": "stdout",
     "output_type": "stream",
     "text": [
      "Gurobi Optimizer version 10.0.0 build v10.0.0rc2 (linux64)\n",
      "\n",
      "CPU model: 11th Gen Intel(R) Core(TM) i7-11850H @ 2.50GHz, instruction set [SSE2|AVX|AVX2|AVX512]\n",
      "Thread count: 8 physical cores, 16 logical processors, using up to 16 threads\n",
      "\n",
      "Optimize a model with 4577 rows, 29458 columns and 83823 nonzeros\n",
      "Model fingerprint: 0x91c0a82e\n",
      "Coefficient statistics:\n",
      "  Matrix range     [1e+00, 1e+00]\n",
      "  Objective range  [9e-03, 1e+02]\n",
      "  Bounds range     [1e+00, 2e+00]\n",
      "  RHS range        [1e+00, 1e+00]\n",
      "Presolve removed 25 rows and 24 columns\n",
      "Presolve time: 0.03s\n",
      "Presolved: 4552 rows, 29434 columns, 83721 nonzeros\n",
      "\n",
      "Concurrent LP optimizer: primal simplex, dual simplex, and barrier\n",
      "Showing barrier log only...\n",
      "\n",
      "Ordering time: 0.00s\n",
      "\n",
      "Barrier statistics:\n",
      " AA' NZ     : 5.202e+04\n",
      " Factor NZ  : 1.628e+05 (roughly 15 MB of memory)\n",
      " Factor Ops : 6.468e+06 (less than 1 second per iteration)\n",
      " Threads    : 6\n",
      "\n",
      "Barrier performed 0 iterations in 0.06 seconds (0.05 work units)\n",
      "Barrier solve interrupted - model solved by another algorithm\n",
      "\n",
      "\n",
      "Solved with dual simplex\n",
      "Iteration    Objective       Primal Inf.    Dual Inf.      Time\n",
      "    2579    2.5485249e+03   0.000000e+00   0.000000e+00      0s\n",
      "\n",
      "Solved in 2579 iterations and 0.07 seconds (0.06 work units)\n",
      "Optimal objective  2.548524851e+03\n",
      "Building took 1.671447992324829 seconds\n"
     ]
    },
    {
     "name": "stderr",
     "output_type": "stream",
     "text": [
      "Computing candidate edges: 100%|██████████| 114/114 [00:00<00:00, 2075.84it/s]\n"
     ]
    },
    {
     "name": "stdout",
     "output_type": "stream",
     "text": [
      "Gurobi Optimizer version 10.0.0 build v10.0.0rc2 (linux64)\n",
      "\n",
      "CPU model: 11th Gen Intel(R) Core(TM) i7-11850H @ 2.50GHz, instruction set [SSE2|AVX|AVX2|AVX512]\n",
      "Thread count: 8 physical cores, 16 logical processors, using up to 16 threads\n",
      "\n",
      "Optimize a model with 1533 rows, 7361 columns and 20558 nonzeros\n",
      "Model fingerprint: 0x9d30ab44\n",
      "Coefficient statistics:\n",
      "  Matrix range     [1e+00, 1e+00]\n",
      "  Objective range  [6e-02, 4e+02]\n",
      "  Bounds range     [1e+00, 2e+00]\n",
      "  RHS range        [1e+00, 1e+00]\n",
      "Presolve removed 16 rows and 15 columns\n",
      "Presolve time: 0.01s\n",
      "Presolved: 1517 rows, 7353 columns, 18198 nonzeros\n",
      "\n",
      "Iteration    Objective       Primal Inf.    Dual Inf.      Time\n",
      "       0    0.0000000e+00   7.650000e+02   0.000000e+00      0s\n",
      "     760    2.1602631e+03   0.000000e+00   0.000000e+00      0s\n",
      "\n",
      "Solved in 760 iterations and 0.01 seconds (0.01 work units)\n",
      "Optimal objective  2.160263140e+03\n",
      "Building took 0.5098764896392822 seconds\n"
     ]
    },
    {
     "name": "stderr",
     "output_type": "stream",
     "text": [
      "Computing candidate edges: 100%|██████████| 114/114 [00:00<00:00, 2220.41it/s]\n"
     ]
    },
    {
     "name": "stdout",
     "output_type": "stream",
     "text": [
      "Gurobi Optimizer version 10.0.0 build v10.0.0rc2 (linux64)\n",
      "\n",
      "CPU model: 11th Gen Intel(R) Core(TM) i7-11850H @ 2.50GHz, instruction set [SSE2|AVX|AVX2|AVX512]\n",
      "Thread count: 8 physical cores, 16 logical processors, using up to 16 threads\n",
      "\n",
      "Optimize a model with 1387 rows, 6262 columns and 17405 nonzeros\n",
      "Model fingerprint: 0x49a8e0c0\n",
      "Coefficient statistics:\n",
      "  Matrix range     [1e+00, 1e+00]\n",
      "  Objective range  [3e-02, 4e+02]\n",
      "  Bounds range     [1e+00, 2e+00]\n",
      "  RHS range        [1e+00, 1e+00]\n",
      "Presolve removed 9 rows and 8 columns\n",
      "Presolve time: 0.01s\n",
      "Presolved: 1378 rows, 6254 columns, 17366 nonzeros\n",
      "\n",
      "Iteration    Objective       Primal Inf.    Dual Inf.      Time\n",
      "       0    0.0000000e+00   6.980000e+02   0.000000e+00      0s\n",
      "     703    1.8792999e+03   0.000000e+00   0.000000e+00      0s\n",
      "\n",
      "Solved in 703 iterations and 0.01 seconds (0.01 work units)\n",
      "Optimal objective  1.879299886e+03\n",
      "Building took 0.36824703216552734 seconds\n"
     ]
    },
    {
     "name": "stderr",
     "output_type": "stream",
     "text": [
      "Computing candidate edges: 100%|██████████| 91/91 [00:00<00:00, 1741.98it/s]\n"
     ]
    },
    {
     "name": "stdout",
     "output_type": "stream",
     "text": [
      "Gurobi Optimizer version 10.0.0 build v10.0.0rc2 (linux64)\n",
      "\n",
      "CPU model: 11th Gen Intel(R) Core(TM) i7-11850H @ 2.50GHz, instruction set [SSE2|AVX|AVX2|AVX512]\n",
      "Thread count: 8 physical cores, 16 logical processors, using up to 16 threads\n",
      "\n",
      "Optimize a model with 17207 rows, 110332 columns and 313926 nonzeros\n",
      "Model fingerprint: 0x9ccaee2c\n",
      "Coefficient statistics:\n",
      "  Matrix range     [1e+00, 1e+00]\n",
      "  Objective range  [1e-02, 2e+02]\n",
      "  Bounds range     [1e+00, 2e+00]\n",
      "  RHS range        [1e+00, 1e+00]\n",
      "Presolve removed 46 rows and 45 columns\n",
      "Presolve time: 0.12s\n",
      "Presolved: 17161 rows, 110287 columns, 313762 nonzeros\n",
      "\n",
      "Concurrent LP optimizer: primal simplex, dual simplex, and barrier\n",
      "Showing barrier log only...\n",
      "\n",
      "Ordering time: 0.02s\n",
      "\n",
      "Barrier statistics:\n",
      " AA' NZ     : 1.950e+05\n",
      " Factor NZ  : 1.182e+06 (roughly 60 MB of memory)\n",
      " Factor Ops : 1.594e+08 (less than 1 second per iteration)\n",
      " Threads    : 6\n",
      "\n",
      "Barrier performed 0 iterations in 0.28 seconds (0.20 work units)\n",
      "Barrier solve interrupted - model solved by another algorithm\n",
      "\n",
      "\n",
      "Solved with dual simplex\n",
      "Iteration    Objective       Primal Inf.    Dual Inf.      Time\n",
      "   10139    2.1014848e+04   0.000000e+00   0.000000e+00      0s\n",
      "\n",
      "Solved in 10139 iterations and 0.30 seconds (0.27 work units)\n",
      "Optimal objective  2.101484843e+04\n",
      "Building took 5.734280347824097 seconds\n"
     ]
    },
    {
     "name": "stderr",
     "output_type": "stream",
     "text": [
      "Computing candidate edges: 100%|██████████| 91/91 [00:00<00:00, 1138.60it/s]\n"
     ]
    },
    {
     "name": "stdout",
     "output_type": "stream",
     "text": [
      "Gurobi Optimizer version 10.0.0 build v10.0.0rc2 (linux64)\n",
      "\n",
      "CPU model: 11th Gen Intel(R) Core(TM) i7-11850H @ 2.50GHz, instruction set [SSE2|AVX|AVX2|AVX512]\n",
      "Thread count: 8 physical cores, 16 logical processors, using up to 16 threads\n",
      "\n",
      "Optimize a model with 50759 rows, 325923 columns and 927374 nonzeros\n",
      "Model fingerprint: 0x09e2cb33\n",
      "Coefficient statistics:\n",
      "  Matrix range     [1e+00, 1e+00]\n",
      "  Objective range  [2e-03, 2e+02]\n",
      "  Bounds range     [1e+00, 2e+00]\n",
      "  RHS range        [1e+00, 1e+00]\n",
      "Presolve removed 127 rows and 126 columns\n",
      "Presolve time: 0.42s\n",
      "Presolved: 50632 rows, 325797 columns, 926972 nonzeros\n",
      "\n",
      "Concurrent LP optimizer: primal simplex, dual simplex, and barrier\n",
      "Showing barrier log only...\n",
      "\n",
      "Ordering time: 0.45s\n",
      "\n",
      "Barrier performed 0 iterations in 0.97 seconds (0.70 work units)\n",
      "Barrier solve interrupted - model solved by another algorithm\n",
      "\n",
      "\n",
      "Solved with dual simplex\n",
      "Iteration    Objective       Primal Inf.    Dual Inf.      Time\n",
      "   28830    5.6882831e+04   0.000000e+00   0.000000e+00      1s\n",
      "\n",
      "Solved in 28830 iterations and 1.04 seconds (0.89 work units)\n",
      "Optimal objective  5.688283055e+04\n",
      "Building took 16.359577655792236 seconds\n"
     ]
    },
    {
     "name": "stderr",
     "output_type": "stream",
     "text": [
      "Computing candidate edges: 100%|██████████| 47/47 [00:00<00:00, 2087.47it/s]\n"
     ]
    },
    {
     "name": "stdout",
     "output_type": "stream",
     "text": [
      "Gurobi Optimizer version 10.0.0 build v10.0.0rc2 (linux64)\n",
      "\n",
      "CPU model: 11th Gen Intel(R) Core(TM) i7-11850H @ 2.50GHz, instruction set [SSE2|AVX|AVX2|AVX512]\n",
      "Thread count: 8 physical cores, 16 logical processors, using up to 16 threads\n",
      "\n",
      "Optimize a model with 857 rows, 5012 columns and 14188 nonzeros\n",
      "Model fingerprint: 0xe35c17b9\n",
      "Coefficient statistics:\n",
      "  Matrix range     [1e+00, 1e+00]\n",
      "  Objective range  [1e-01, 3e+02]\n",
      "  Bounds range     [1e+00, 2e+00]\n",
      "  RHS range        [1e+00, 1e+00]\n",
      "Presolve removed 20 rows and 19 columns\n",
      "Presolve time: 0.01s\n",
      "Presolved: 837 rows, 5001 columns, 12821 nonzeros\n",
      "\n",
      "Iteration    Objective       Primal Inf.    Dual Inf.      Time\n",
      "       0    0.0000000e+00   4.270000e+02   0.000000e+00      0s\n",
      "     434    1.7659600e+03   0.000000e+00   0.000000e+00      0s\n",
      "\n",
      "Solved in 434 iterations and 0.01 seconds (0.01 work units)\n",
      "Optimal objective  1.765959975e+03\n",
      "Building took 0.27750682830810547 seconds\n"
     ]
    },
    {
     "name": "stderr",
     "output_type": "stream",
     "text": [
      "Computing candidate edges: 100%|██████████| 47/47 [00:00<00:00, 2309.99it/s]"
     ]
    },
    {
     "name": "stdout",
     "output_type": "stream",
     "text": [
      "Gurobi Optimizer version 10.0.0 build v10.0.0rc2 (linux64)\n",
      "\n",
      "CPU model: 11th Gen Intel(R) Core(TM) i7-11850H @ 2.50GHz, instruction set [SSE2|AVX|AVX2|AVX512]\n",
      "Thread count: 8 physical cores, 16 logical processors, using up to 16 threads\n",
      "\n",
      "Optimize a model with 379 rows, 1321 columns and 3588 nonzeros\n",
      "Model fingerprint: 0xe82f5b25\n",
      "Coefficient statistics:\n",
      "  Matrix range     [1e+00, 1e+00]\n",
      "  Objective range  [8e-01, 4e+02]\n",
      "  Bounds range     [1e+00, 2e+00]\n",
      "  RHS range        [1e+00, 1e+00]\n",
      "Presolve removed 8 rows and 7 columns\n",
      "Presolve time: 0.00s\n",
      "Presolved: 371 rows, 1314 columns, 3555 nonzeros\n",
      "\n",
      "Iteration    Objective       Primal Inf.    Dual Inf.      Time\n",
      "       0    0.0000000e+00   1.930000e+02   0.000000e+00      0s\n",
      "     206    4.0678670e+03   0.000000e+00   0.000000e+00      0s\n",
      "\n",
      "Solved in 206 iterations and 0.01 seconds (0.00 work units)\n",
      "Optimal objective  4.067867006e+03\n"
     ]
    },
    {
     "name": "stderr",
     "output_type": "stream",
     "text": [
      "\n"
     ]
    },
    {
     "name": "stdout",
     "output_type": "stream",
     "text": [
      "Building took 0.10839509963989258 seconds\n"
     ]
    },
    {
     "name": "stderr",
     "output_type": "stream",
     "text": [
      "Computing candidate edges: 100%|██████████| 59/59 [00:00<00:00, 2069.39it/s]"
     ]
    },
    {
     "name": "stdout",
     "output_type": "stream",
     "text": [
      "Gurobi Optimizer version 10.0.0 build v10.0.0rc2 (linux64)\n",
      "\n",
      "CPU model: 11th Gen Intel(R) Core(TM) i7-11850H @ 2.50GHz, instruction set [SSE2|AVX|AVX2|AVX512]\n",
      "Thread count: 8 physical cores, 16 logical processors, using up to 16 threads\n",
      "\n",
      "Optimize a model with 483 rows, 1662 columns and 4508 nonzeros\n",
      "Model fingerprint: 0x1b1c8613\n",
      "Coefficient statistics:\n",
      "  Matrix range     [1e+00, 1e+00]\n",
      "  Objective range  [6e-02, 1e+02]\n",
      "  Bounds range     [1e+00, 2e+00]\n",
      "  RHS range        [1e+00, 1e+00]\n",
      "Presolve removed 7 rows and 6 columns\n",
      "Presolve time: 0.00s\n",
      "Presolved: 476 rows, 1656 columns, 4481 nonzeros\n",
      "\n",
      "Iteration    Objective       Primal Inf.    Dual Inf.      Time\n",
      "       0    0.0000000e+00   2.440000e+02   0.000000e+00      0s\n",
      "     236    1.7130012e+02   0.000000e+00   0.000000e+00      0s\n",
      "\n",
      "Solved in 236 iterations and 0.01 seconds (0.00 work units)\n",
      "Optimal objective  1.713001160e+02\n"
     ]
    },
    {
     "name": "stderr",
     "output_type": "stream",
     "text": [
      "\n"
     ]
    },
    {
     "name": "stdout",
     "output_type": "stream",
     "text": [
      "Building took 0.1481642723083496 seconds\n"
     ]
    },
    {
     "name": "stderr",
     "output_type": "stream",
     "text": [
      "Computing candidate edges: 100%|██████████| 59/59 [00:00<00:00, 1921.26it/s]"
     ]
    },
    {
     "name": "stdout",
     "output_type": "stream",
     "text": [
      "Gurobi Optimizer version 10.0.0 build v10.0.0rc2 (linux64)\n",
      "\n",
      "CPU model: 11th Gen Intel(R) Core(TM) i7-11850H @ 2.50GHz, instruction set [SSE2|AVX|AVX2|AVX512]\n",
      "Thread count: 8 physical cores, 16 logical processors, using up to 16 threads\n",
      "\n",
      "Optimize a model with 321 rows, 937 columns and 2495 nonzeros\n",
      "Model fingerprint: 0x1979e81b\n",
      "Coefficient statistics:\n",
      "  Matrix range     [1e+00, 1e+00]\n",
      "  Objective range  [2e-01, 1e+100]\n",
      "  Bounds range     [1e+00, 2e+00]\n",
      "  RHS range        [1e+00, 1e+00]\n",
      "Warning: Model contains large objective coefficients\n",
      "         Consider reformulating model or setting NumericFocus parameter\n",
      "         to avoid numerical issues.\n",
      "Presolve removed 6 rows and 5 columns\n",
      "Presolve time: 0.00s\n",
      "Presolved: 315 rows, 932 columns, 2471 nonzeros\n",
      "\n",
      "Iteration    Objective       Primal Inf.    Dual Inf.      Time\n",
      "       0    0.0000000e+00   1.620000e+02   0.000000e+00      0s\n",
      "     192    5.0783279e+02   0.000000e+00   0.000000e+00      0s\n",
      "\n",
      "Solved in 192 iterations and 0.01 seconds (0.00 work units)\n",
      "Optimal objective  5.078327913e+02\n"
     ]
    },
    {
     "name": "stderr",
     "output_type": "stream",
     "text": [
      "\n"
     ]
    },
    {
     "name": "stdout",
     "output_type": "stream",
     "text": [
      "Building took 0.1253962516784668 seconds\n"
     ]
    },
    {
     "name": "stderr",
     "output_type": "stream",
     "text": [
      "Computing candidate edges: 100%|██████████| 83/83 [00:00<00:00, 1864.87it/s]\n"
     ]
    },
    {
     "name": "stdout",
     "output_type": "stream",
     "text": [
      "Gurobi Optimizer version 10.0.0 build v10.0.0rc2 (linux64)\n",
      "\n",
      "CPU model: 11th Gen Intel(R) Core(TM) i7-11850H @ 2.50GHz, instruction set [SSE2|AVX|AVX2|AVX512]\n",
      "Thread count: 8 physical cores, 16 logical processors, using up to 16 threads\n",
      "\n",
      "Optimize a model with 2211 rows, 14156 columns and 40276 nonzeros\n",
      "Model fingerprint: 0x475e8341\n",
      "Coefficient statistics:\n",
      "  Matrix range     [1e+00, 1e+00]\n",
      "  Objective range  [5e-02, 1e+02]\n",
      "  Bounds range     [1e+00, 2e+00]\n",
      "  RHS range        [1e+00, 1e+00]\n",
      "Presolve removed 13 rows and 12 columns\n",
      "Presolve time: 0.01s\n",
      "Presolved: 2198 rows, 14144 columns, 40218 nonzeros\n",
      "\n",
      "Concurrent LP optimizer: primal simplex, dual simplex, and barrier\n",
      "Showing barrier log only...\n",
      "\n",
      "Ordering time: 0.00s\n",
      "\n",
      "Barrier statistics:\n",
      " AA' NZ     : 2.498e+04\n",
      " Factor NZ  : 5.521e+04 (roughly 7 MB of memory)\n",
      " Factor Ops : 1.480e+06 (less than 1 second per iteration)\n",
      " Threads    : 1\n",
      "\n",
      "Barrier performed 0 iterations in 0.03 seconds (0.02 work units)\n",
      "Barrier solve interrupted - model solved by another algorithm\n",
      "\n",
      "\n",
      "Solved with dual simplex\n",
      "Iteration    Objective       Primal Inf.    Dual Inf.      Time\n",
      "    1257    2.5616517e+03   0.000000e+00   0.000000e+00      0s\n",
      "\n",
      "Solved in 1257 iterations and 0.03 seconds (0.03 work units)\n",
      "Optimal objective  2.561651658e+03\n",
      "Building took 0.8543190956115723 seconds\n"
     ]
    },
    {
     "name": "stderr",
     "output_type": "stream",
     "text": [
      "Computing candidate edges: 100%|██████████| 83/83 [00:00<00:00, 2003.73it/s]\n"
     ]
    },
    {
     "name": "stdout",
     "output_type": "stream",
     "text": [
      "Gurobi Optimizer version 10.0.0 build v10.0.0rc2 (linux64)\n",
      "\n",
      "CPU model: 11th Gen Intel(R) Core(TM) i7-11850H @ 2.50GHz, instruction set [SSE2|AVX|AVX2|AVX512]\n",
      "Thread count: 8 physical cores, 16 logical processors, using up to 16 threads\n",
      "\n",
      "Optimize a model with 1979 rows, 12504 columns and 35551 nonzeros\n",
      "Model fingerprint: 0xb8303f55\n",
      "Coefficient statistics:\n",
      "  Matrix range     [1e+00, 1e+00]\n",
      "  Objective range  [8e-02, 9e+01]\n",
      "  Bounds range     [1e+00, 2e+00]\n",
      "  RHS range        [1e+00, 1e+00]\n",
      "Presolve removed 13 rows and 12 columns\n",
      "Presolve time: 0.01s\n",
      "Presolved: 1966 rows, 12492 columns, 35493 nonzeros\n",
      "\n",
      "Concurrent LP optimizer: primal simplex, dual simplex, and barrier\n",
      "Showing barrier log only...\n",
      "\n",
      "Ordering time: 0.00s\n",
      "\n",
      "Barrier statistics:\n",
      " AA' NZ     : 2.202e+04\n",
      " Factor NZ  : 4.655e+04 (roughly 6 MB of memory)\n",
      " Factor Ops : 1.188e+06 (less than 1 second per iteration)\n",
      " Threads    : 1\n",
      "\n",
      "Barrier performed 0 iterations in 0.04 seconds (0.02 work units)\n",
      "Barrier solve interrupted - model solved by another algorithm\n",
      "\n",
      "\n",
      "Solved with dual simplex\n",
      "Iteration    Objective       Primal Inf.    Dual Inf.      Time\n",
      "    1163    1.9628528e+03   0.000000e+00   0.000000e+00      0s\n",
      "\n",
      "Solved in 1163 iterations and 0.04 seconds (0.03 work units)\n",
      "Optimal objective  1.962852785e+03\n",
      "Building took 0.753880500793457 seconds\n"
     ]
    },
    {
     "name": "stderr",
     "output_type": "stream",
     "text": [
      "Computing candidate edges: 100%|██████████| 91/91 [00:00<00:00, 2001.53it/s]\n"
     ]
    },
    {
     "name": "stdout",
     "output_type": "stream",
     "text": [
      "Gurobi Optimizer version 10.0.0 build v10.0.0rc2 (linux64)\n",
      "\n",
      "CPU model: 11th Gen Intel(R) Core(TM) i7-11850H @ 2.50GHz, instruction set [SSE2|AVX|AVX2|AVX512]\n",
      "Thread count: 8 physical cores, 16 logical processors, using up to 16 threads\n",
      "\n",
      "Optimize a model with 1813 rows, 10953 columns and 31061 nonzeros\n",
      "Model fingerprint: 0xde6ec05e\n",
      "Coefficient statistics:\n",
      "  Matrix range     [1e+00, 1e+00]\n",
      "  Objective range  [3e-02, 9e+01]\n",
      "  Bounds range     [1e+00, 2e+00]\n",
      "  RHS range        [1e+00, 1e+00]\n",
      "Presolve removed 13 rows and 12 columns\n",
      "Presolve time: 0.01s\n",
      "Presolved: 1800 rows, 10941 columns, 31006 nonzeros\n",
      "\n",
      "Concurrent LP optimizer: primal simplex, dual simplex, and barrier\n",
      "Showing barrier log only...\n",
      "\n",
      "Ordering time: 0.00s\n",
      "\n",
      "Barrier statistics:\n",
      " AA' NZ     : 1.917e+04\n",
      " Factor NZ  : 3.804e+04 (roughly 5 MB of memory)\n",
      " Factor Ops : 8.806e+05 (less than 1 second per iteration)\n",
      " Threads    : 1\n",
      "\n",
      "Barrier performed 0 iterations in 0.02 seconds (0.02 work units)\n",
      "Barrier solve interrupted - model solved by another algorithm\n",
      "\n",
      "\n",
      "Solved with dual simplex\n",
      "Iteration    Objective       Primal Inf.    Dual Inf.      Time\n",
      "    1017    9.2146692e+02   0.000000e+00   0.000000e+00      0s\n",
      "\n",
      "Solved in 1017 iterations and 0.03 seconds (0.02 work units)\n",
      "Optimal objective  9.214669184e+02\n",
      "Building took 0.7761867046356201 seconds\n"
     ]
    },
    {
     "name": "stderr",
     "output_type": "stream",
     "text": [
      "Computing candidate edges: 100%|██████████| 91/91 [00:00<00:00, 2116.08it/s]\n"
     ]
    },
    {
     "name": "stdout",
     "output_type": "stream",
     "text": [
      "Gurobi Optimizer version 10.0.0 build v10.0.0rc2 (linux64)\n",
      "\n",
      "CPU model: 11th Gen Intel(R) Core(TM) i7-11850H @ 2.50GHz, instruction set [SSE2|AVX|AVX2|AVX512]\n",
      "Thread count: 8 physical cores, 16 logical processors, using up to 16 threads\n",
      "\n",
      "Optimize a model with 1231 rows, 6300 columns and 17681 nonzeros\n",
      "Model fingerprint: 0x014a47e0\n",
      "Coefficient statistics:\n",
      "  Matrix range     [1e+00, 1e+00]\n",
      "  Objective range  [6e-02, 8e+01]\n",
      "  Bounds range     [1e+00, 2e+00]\n",
      "  RHS range        [1e+00, 1e+00]\n",
      "Presolve removed 7 rows and 6 columns\n",
      "Presolve time: 0.01s\n",
      "Presolved: 1224 rows, 6294 columns, 17647 nonzeros\n",
      "\n",
      "Iteration    Objective       Primal Inf.    Dual Inf.      Time\n",
      "       0    0.0000000e+00   6.180000e+02   0.000000e+00      0s\n",
      "     686    5.7870802e+02   0.000000e+00   0.000000e+00      0s\n",
      "\n",
      "Solved in 686 iterations and 0.01 seconds (0.01 work units)\n",
      "Optimal objective  5.787080229e+02\n",
      "Building took 0.501319169998169 seconds\n"
     ]
    },
    {
     "name": "stderr",
     "output_type": "stream",
     "text": [
      "Computing candidate edges: 100%|██████████| 1375/1375 [00:00<00:00, 2204.36it/s]\n"
     ]
    },
    {
     "name": "stdout",
     "output_type": "stream",
     "text": [
      "Gurobi Optimizer version 10.0.0 build v10.0.0rc2 (linux64)\n",
      "\n",
      "CPU model: 11th Gen Intel(R) Core(TM) i7-11850H @ 2.50GHz, instruction set [SSE2|AVX|AVX2|AVX512]\n",
      "Thread count: 8 physical cores, 16 logical processors, using up to 16 threads\n",
      "\n",
      "Optimize a model with 10779 rows, 56532 columns and 158841 nonzeros\n",
      "Model fingerprint: 0x046572f8\n",
      "Coefficient statistics:\n",
      "  Matrix range     [1e+00, 1e+00]\n",
      "  Objective range  [6e-02, 1e+100]\n",
      "  Bounds range     [1e+00, 2e+00]\n",
      "  RHS range        [1e+00, 1e+00]\n",
      "Warning: Model contains large objective coefficients\n",
      "         Consider reformulating model or setting NumericFocus parameter\n",
      "         to avoid numerical issues.\n",
      "Presolve removed 28 rows and 27 columns\n",
      "Presolve time: 0.06s\n",
      "Presolved: 10751 rows, 56528 columns, 142440 nonzeros\n",
      "\n",
      "Concurrent LP optimizer: primal simplex, dual simplex, and barrier\n",
      "Showing barrier log only...\n",
      "\n",
      "Ordering time: 0.01s\n",
      "\n",
      "Barrier statistics:\n",
      " AA' NZ     : 8.591e+04\n",
      " Factor NZ  : 2.455e+05 (roughly 30 MB of memory)\n",
      " Factor Ops : 6.695e+06 (less than 1 second per iteration)\n",
      " Threads    : 6\n",
      "\n",
      "Barrier performed 0 iterations in 0.10 seconds (0.10 work units)\n",
      "Barrier solve interrupted - model solved by another algorithm\n",
      "\n",
      "\n",
      "Solved with dual simplex\n",
      "Iteration    Objective       Primal Inf.    Dual Inf.      Time\n",
      "    5859    5.5802901e+04   0.000000e+00   0.000000e+00      0s\n",
      "\n",
      "Solved in 5859 iterations and 0.11 seconds (0.11 work units)\n",
      "Optimal objective  5.580290066e+04\n",
      "Building took 4.095746994018555 seconds\n"
     ]
    },
    {
     "name": "stderr",
     "output_type": "stream",
     "text": [
      "Computing candidate edges: 100%|██████████| 1375/1375 [00:00<00:00, 2254.45it/s]\n"
     ]
    },
    {
     "name": "stdout",
     "output_type": "stream",
     "text": [
      "Gurobi Optimizer version 10.0.0 build v10.0.0rc2 (linux64)\n",
      "\n",
      "CPU model: 11th Gen Intel(R) Core(TM) i7-11850H @ 2.50GHz, instruction set [SSE2|AVX|AVX2|AVX512]\n",
      "Thread count: 8 physical cores, 16 logical processors, using up to 16 threads\n",
      "\n",
      "Optimize a model with 14449 rows, 78168 columns and 220077 nonzeros\n",
      "Model fingerprint: 0x228a1a6d\n",
      "Coefficient statistics:\n",
      "  Matrix range     [1e+00, 1e+00]\n",
      "  Objective range  [6e-02, 1e+100]\n",
      "  Bounds range     [1e+00, 2e+00]\n",
      "  RHS range        [1e+00, 1e+00]\n",
      "Warning: Model contains large objective coefficients\n",
      "         Consider reformulating model or setting NumericFocus parameter\n",
      "         to avoid numerical issues.\n",
      "Presolve removed 26 rows and 25 columns\n",
      "Presolve time: 0.09s\n",
      "Presolved: 14423 rows, 78164 columns, 198191 nonzeros\n",
      "\n",
      "Concurrent LP optimizer: primal simplex, dual simplex, and barrier\n",
      "Showing barrier log only...\n",
      "\n",
      "Ordering time: 0.01s\n",
      "\n",
      "Barrier statistics:\n",
      " AA' NZ     : 1.200e+05\n",
      " Factor NZ  : 2.971e+05 (roughly 40 MB of memory)\n",
      " Factor Ops : 7.272e+06 (less than 1 second per iteration)\n",
      " Threads    : 6\n",
      "\n",
      "Barrier performed 0 iterations in 0.14 seconds (0.14 work units)\n",
      "Barrier solve interrupted - model solved by another algorithm\n",
      "\n",
      "\n",
      "Solved with dual simplex\n",
      "Iteration    Objective       Primal Inf.    Dual Inf.      Time\n",
      "    7648    7.3576541e+04   0.000000e+00   0.000000e+00      0s\n",
      "\n",
      "Solved in 7648 iterations and 0.15 seconds (0.16 work units)\n",
      "Optimal objective  7.357654115e+04\n",
      "Building took 4.9212775230407715 seconds\n"
     ]
    },
    {
     "name": "stderr",
     "output_type": "stream",
     "text": [
      "Computing candidate edges: 100%|██████████| 1763/1763 [00:00<00:00, 2372.38it/s]\n"
     ]
    },
    {
     "name": "stdout",
     "output_type": "stream",
     "text": [
      "Gurobi Optimizer version 10.0.0 build v10.0.0rc2 (linux64)\n",
      "\n",
      "CPU model: 11th Gen Intel(R) Core(TM) i7-11850H @ 2.50GHz, instruction set [SSE2|AVX|AVX2|AVX512]\n",
      "Thread count: 8 physical cores, 16 logical processors, using up to 16 threads\n",
      "\n",
      "Optimize a model with 17351 rows, 84514 columns and 236204 nonzeros\n",
      "Model fingerprint: 0x504dcd20\n",
      "Coefficient statistics:\n",
      "  Matrix range     [1e+00, 1e+00]\n",
      "  Objective range  [3e-02, 1e+100]\n",
      "  Bounds range     [1e+00, 2e+00]\n",
      "  RHS range        [1e+00, 1e+00]\n",
      "Warning: Model contains large objective coefficients\n",
      "         Consider reformulating model or setting NumericFocus parameter\n",
      "         to avoid numerical issues.\n",
      "Presolve removed 17 rows and 16 columns\n",
      "Presolve time: 0.10s\n",
      "Presolved: 17334 rows, 84510 columns, 210055 nonzeros\n",
      "\n",
      "Concurrent LP optimizer: primal simplex, dual simplex, and barrier\n",
      "Showing barrier log only...\n",
      "\n",
      "Ordering time: 0.00s\n",
      "\n",
      "Barrier statistics:\n",
      " AA' NZ     : 1.255e+05\n",
      " Factor NZ  : 2.778e+05 (roughly 40 MB of memory)\n",
      " Factor Ops : 5.133e+06 (less than 1 second per iteration)\n",
      " Threads    : 6\n",
      "\n",
      "Barrier performed 0 iterations in 0.16 seconds (0.15 work units)\n",
      "Barrier solve interrupted - model solved by another algorithm\n",
      "\n",
      "\n",
      "Solved with dual simplex\n",
      "Iteration    Objective       Primal Inf.    Dual Inf.      Time\n",
      "    8855    3.2570515e+04   0.000000e+00   0.000000e+00      0s\n",
      "\n",
      "Solved in 8855 iterations and 0.18 seconds (0.17 work units)\n",
      "Optimal objective  3.257051473e+04\n",
      "Building took 5.514238357543945 seconds\n"
     ]
    },
    {
     "name": "stderr",
     "output_type": "stream",
     "text": [
      "Computing candidate edges: 100%|██████████| 1763/1763 [00:00<00:00, 1854.36it/s]\n"
     ]
    },
    {
     "name": "stdout",
     "output_type": "stream",
     "text": [
      "Gurobi Optimizer version 10.0.0 build v10.0.0rc2 (linux64)\n",
      "\n",
      "CPU model: 11th Gen Intel(R) Core(TM) i7-11850H @ 2.50GHz, instruction set [SSE2|AVX|AVX2|AVX512]\n",
      "Thread count: 8 physical cores, 16 logical processors, using up to 16 threads\n",
      "\n",
      "Optimize a model with 129005 rows, 823850 columns and 2342705 nonzeros\n",
      "Model fingerprint: 0x9011493d\n",
      "Coefficient statistics:\n",
      "  Matrix range     [1e+00, 1e+00]\n",
      "  Objective range  [7e-03, 2e+02]\n",
      "  Bounds range     [1e+00, 2e+00]\n",
      "  RHS range        [1e+00, 1e+00]\n",
      "Presolve removed 164 rows and 163 columns\n",
      "Presolve time: 1.11s\n",
      "Presolved: 128841 rows, 823846 columns, 2147604 nonzeros\n",
      "\n",
      "Concurrent LP optimizer: primal simplex, dual simplex, and barrier\n",
      "Showing barrier log only...\n",
      "\n",
      "Ordering time: 0.19s\n",
      "\n",
      "Barrier statistics:\n",
      " AA' NZ     : 1.324e+06\n",
      " Factor NZ  : 8.540e+06 (roughly 450 MB of memory)\n",
      " Factor Ops : 1.284e+09 (less than 1 second per iteration)\n",
      " Threads    : 6\n",
      "\n",
      "                  Objective                Residual\n",
      "Iter       Primal          Dual         Primal    Dual     Compl     Time\n",
      "   0   4.05376408e+07 -2.56833881e+08  2.48e+01 2.84e-14  4.13e+02     2s\n",
      "   1   1.51198775e+07 -1.19396693e+08  3.81e+00 3.16e+01  1.02e+02     2s\n",
      "\n",
      "Barrier performed 1 iterations in 2.45 seconds (2.02 work units)\n",
      "Barrier solve interrupted - model solved by another algorithm\n",
      "\n",
      "\n",
      "Solved with dual simplex\n",
      "Iteration    Objective       Primal Inf.    Dual Inf.      Time\n",
      "   70884    1.7044509e+05   0.000000e+00   0.000000e+00      3s\n",
      "\n",
      "Solved in 70884 iterations and 2.63 seconds (2.37 work units)\n",
      "Optimal objective  1.704450911e+05\n",
      "Building took 42.68725562095642 seconds\n"
     ]
    },
    {
     "name": "stderr",
     "output_type": "stream",
     "text": [
      "Computing candidate edges: 100%|██████████| 29/29 [00:00<00:00, 1940.66it/s]"
     ]
    },
    {
     "name": "stdout",
     "output_type": "stream",
     "text": [
      "Gurobi Optimizer version 10.0.0 build v10.0.0rc2 (linux64)\n",
      "\n",
      "CPU model: 11th Gen Intel(R) Core(TM) i7-11850H @ 2.50GHz, instruction set [SSE2|AVX|AVX2|AVX512]\n",
      "Thread count: 8 physical cores, 16 logical processors, using up to 16 threads\n",
      "\n",
      "Optimize a model with 63 rows, 120 columns and 299 nonzeros\n",
      "Model fingerprint: 0xf655aa20\n",
      "Coefficient statistics:\n",
      "  Matrix range     [1e+00, 1e+00]\n",
      "  Objective range  [1e-01, 1e+100]\n",
      "  Bounds range     [1e+00, 2e+00]\n",
      "  RHS range        [1e+00, 1e+00]\n",
      "Warning: Model contains large objective coefficients\n",
      "         Consider reformulating model or setting NumericFocus parameter\n",
      "         to avoid numerical issues.\n",
      "Presolve removed 6 rows and 5 columns\n",
      "Presolve time: 0.00s\n",
      "Presolved: 57 rows, 115 columns, 287 nonzeros\n",
      "\n",
      "Iteration    Objective       Primal Inf.    Dual Inf.      Time\n",
      "       0    3.4356435e-01   2.900000e+01   0.000000e+00      0s\n",
      "      27    8.1448437e+00   0.000000e+00   0.000000e+00      0s\n",
      "\n",
      "Solved in 27 iterations and 0.01 seconds (0.00 work units)\n",
      "Optimal objective  8.144843660e+00\n"
     ]
    },
    {
     "name": "stderr",
     "output_type": "stream",
     "text": [
      "\n"
     ]
    },
    {
     "name": "stdout",
     "output_type": "stream",
     "text": [
      "Building took 0.04359316825866699 seconds\n"
     ]
    },
    {
     "name": "stderr",
     "output_type": "stream",
     "text": [
      "Computing candidate edges: 100%|██████████| 29/29 [00:00<00:00, 2340.53it/s]"
     ]
    },
    {
     "name": "stdout",
     "output_type": "stream",
     "text": [
      "Gurobi Optimizer version 10.0.0 build v10.0.0rc2 (linux64)\n",
      "\n",
      "CPU model: 11th Gen Intel(R) Core(TM) i7-11850H @ 2.50GHz, instruction set [SSE2|AVX|AVX2|AVX512]\n",
      "Thread count: 8 physical cores, 16 logical processors, using up to 16 threads\n",
      "\n",
      "Optimize a model with 63 rows, 120 columns and 299 nonzeros\n",
      "Model fingerprint: 0x8307d753\n",
      "Coefficient statistics:\n",
      "  Matrix range     [1e+00, 1e+00]\n",
      "  Objective range  [1e-01, 1e+100]\n",
      "  Bounds range     [1e+00, 2e+00]\n",
      "  RHS range        [1e+00, 1e+00]\n",
      "Warning: Model contains large objective coefficients\n",
      "         Consider reformulating model or setting NumericFocus parameter\n",
      "         to avoid numerical issues.\n",
      "Presolve removed 6 rows and 5 columns\n",
      "Presolve time: 0.00s\n",
      "Presolved: 57 rows, 115 columns, 287 nonzeros\n",
      "\n",
      "Iteration    Objective       Primal Inf.    Dual Inf.      Time\n",
      "       0    7.5255509e-01   2.900000e+01   0.000000e+00      0s\n",
      "      27    2.0973095e+01   0.000000e+00   0.000000e+00      0s\n",
      "\n",
      "Solved in 27 iterations and 0.00 seconds (0.00 work units)\n",
      "Optimal objective  2.097309522e+01\n"
     ]
    },
    {
     "name": "stderr",
     "output_type": "stream",
     "text": [
      "\n"
     ]
    },
    {
     "name": "stdout",
     "output_type": "stream",
     "text": [
      "Building took 0.043842315673828125 seconds\n"
     ]
    },
    {
     "name": "stderr",
     "output_type": "stream",
     "text": [
      "Computing candidate edges: 100%|██████████| 64/64 [00:00<00:00, 1835.97it/s]\n"
     ]
    },
    {
     "name": "stdout",
     "output_type": "stream",
     "text": [
      "Gurobi Optimizer version 10.0.0 build v10.0.0rc2 (linux64)\n",
      "\n",
      "CPU model: 11th Gen Intel(R) Core(TM) i7-11850H @ 2.50GHz, instruction set [SSE2|AVX|AVX2|AVX512]\n",
      "Thread count: 8 physical cores, 16 logical processors, using up to 16 threads\n",
      "\n",
      "Optimize a model with 5217 rows, 33398 columns and 95023 nonzeros\n",
      "Model fingerprint: 0xa6d5a391\n",
      "Coefficient statistics:\n",
      "  Matrix range     [1e+00, 1e+00]\n",
      "  Objective range  [2e-03, 5e+01]\n",
      "  Bounds range     [1e+00, 2e+00]\n",
      "  RHS range        [1e+00, 1e+00]\n",
      "Presolve removed 33 rows and 32 columns\n",
      "Presolve time: 0.04s\n",
      "Presolved: 5184 rows, 33366 columns, 94901 nonzeros\n",
      "\n",
      "Concurrent LP optimizer: primal simplex, dual simplex, and barrier\n",
      "Showing barrier log only...\n",
      "\n",
      "Ordering time: 0.01s\n",
      "\n",
      "Barrier statistics:\n",
      " AA' NZ     : 5.896e+04\n",
      " Factor NZ  : 2.106e+05 (roughly 17 MB of memory)\n",
      " Factor Ops : 1.158e+07 (less than 1 second per iteration)\n",
      " Threads    : 6\n",
      "\n",
      "                  Objective                Residual\n",
      "Iter       Primal          Dual         Primal    Dual     Compl     Time\n",
      "   0   3.25243623e+06 -2.90720461e+06  1.55e+04 1.78e-14  3.47e+02     0s\n",
      "   1   5.70553473e+05 -2.03655775e+06  1.64e+03 4.97e-14  5.70e+01     0s\n",
      "   2   1.66071879e+05 -2.87113470e+05  1.80e+01 2.56e-13  6.58e+00     0s\n",
      "   3   4.95215702e+04 -5.16059854e+04  1.11e+00 4.80e-14  1.46e+00     0s\n",
      "   4   2.41437403e+04 -2.08383576e+04  4.68e-01 1.95e-14  6.49e-01     0s\n",
      "   5   1.41980440e+04 -1.08708828e+04  2.52e-01 1.42e-14  3.62e-01     0s\n",
      "   6   8.72201393e+03 -5.75509867e+03  1.40e-01 1.42e-14  2.09e-01     0s\n",
      "   7   4.30453691e+03 -2.71974208e+03  5.13e-02 1.42e-14  1.01e-01     0s\n",
      "   8   3.25836337e+03 -1.20592919e+03  3.03e-02 1.42e-14  6.44e-02     0s\n",
      "   9   2.26608532e+03  1.40126837e+02  1.17e-02 1.42e-14  3.07e-02     0s\n",
      "  10   2.02354301e+03  7.30408119e+02  7.75e-03 1.42e-14  1.87e-02     0s\n",
      "  11   1.60594794e+03  1.00175771e+03  1.04e-03 1.42e-14  8.72e-03     0s\n",
      "  12   1.53667945e+03  1.43414806e+03  2.72e-05 1.42e-14  1.48e-03     0s\n",
      "\n",
      "Barrier performed 12 iterations in 0.22 seconds (0.15 work units)\n",
      "Barrier solve interrupted - model solved by another algorithm\n",
      "\n",
      "\n",
      "Solved with primal simplex\n",
      "Iteration    Objective       Primal Inf.    Dual Inf.      Time\n",
      "   17430    1.5237560e+03   0.000000e+00   0.000000e+00      0s\n",
      "\n",
      "Solved in 17430 iterations and 0.24 seconds (0.19 work units)\n",
      "Optimal objective  1.523755957e+03\n",
      "Building took 1.729156494140625 seconds\n"
     ]
    },
    {
     "name": "stderr",
     "output_type": "stream",
     "text": [
      "Computing candidate edges: 100%|██████████| 149/149 [00:00<00:00, 2043.53it/s]\n"
     ]
    },
    {
     "name": "stdout",
     "output_type": "stream",
     "text": [
      "Gurobi Optimizer version 10.0.0 build v10.0.0rc2 (linux64)\n",
      "\n",
      "CPU model: 11th Gen Intel(R) Core(TM) i7-11850H @ 2.50GHz, instruction set [SSE2|AVX|AVX2|AVX512]\n",
      "Thread count: 8 physical cores, 16 logical processors, using up to 16 threads\n",
      "\n",
      "Optimize a model with 6745 rows, 42927 columns and 122091 nonzeros\n",
      "Model fingerprint: 0x619a1fcb\n",
      "Coefficient statistics:\n",
      "  Matrix range     [1e+00, 1e+00]\n",
      "  Objective range  [1e-02, 1e+02]\n",
      "  Bounds range     [1e+00, 2e+00]\n",
      "  RHS range        [1e+00, 1e+00]\n",
      "Presolve removed 11 rows and 10 columns\n",
      "Presolve time: 0.04s\n",
      "Presolved: 6734 rows, 42917 columns, 122035 nonzeros\n",
      "\n",
      "Concurrent LP optimizer: primal simplex, dual simplex, and barrier\n",
      "Showing barrier log only...\n",
      "\n",
      "Ordering time: 0.01s\n",
      "\n",
      "Barrier statistics:\n",
      " AA' NZ     : 7.579e+04\n",
      " Factor NZ  : 2.295e+05 (roughly 20 MB of memory)\n",
      " Factor Ops : 9.353e+06 (less than 1 second per iteration)\n",
      " Threads    : 6\n",
      "\n",
      "Barrier performed 0 iterations in 0.09 seconds (0.08 work units)\n",
      "Barrier solve interrupted - model solved by another algorithm\n",
      "\n",
      "\n",
      "Solved with dual simplex\n",
      "Iteration    Objective       Primal Inf.    Dual Inf.      Time\n",
      "    4176    1.9824426e+03   0.000000e+00   0.000000e+00      0s\n",
      "\n",
      "Solved in 4176 iterations and 0.10 seconds (0.09 work units)\n",
      "Optimal objective  1.982442565e+03\n",
      "Building took 2.3089921474456787 seconds\n"
     ]
    },
    {
     "name": "stderr",
     "output_type": "stream",
     "text": [
      "Computing candidate edges: 100%|██████████| 299/299 [00:00<00:00, 1113.74it/s]\n"
     ]
    },
    {
     "name": "stdout",
     "output_type": "stream",
     "text": [
      "Gurobi Optimizer version 10.0.0 build v10.0.0rc2 (linux64)\n",
      "\n",
      "CPU model: 11th Gen Intel(R) Core(TM) i7-11850H @ 2.50GHz, instruction set [SSE2|AVX|AVX2|AVX512]\n",
      "Thread count: 8 physical cores, 16 logical processors, using up to 16 threads\n",
      "\n",
      "Optimize a model with 142137 rows, 916723 columns and 2608683 nonzeros\n",
      "Model fingerprint: 0x8befc2f3\n",
      "Coefficient statistics:\n",
      "  Matrix range     [1e+00, 1e+00]\n",
      "  Objective range  [8e-03, 4e+02]\n",
      "  Bounds range     [1e+00, 2e+00]\n",
      "  RHS range        [1e+00, 1e+00]\n",
      "Presolve removed 78 rows and 78 columns\n",
      "Presolve time: 1.26s\n",
      "Presolved: 142059 rows, 916645 columns, 2608462 nonzeros\n",
      "\n",
      "Concurrent LP optimizer: primal simplex, dual simplex, and barrier\n",
      "Showing barrier log only...\n",
      "\n",
      "Ordering time: 1.92s\n",
      "\n",
      "Barrier performed 0 iterations in 3.47 seconds (2.14 work units)\n",
      "Barrier solve interrupted - model solved by another algorithm\n",
      "\n",
      "\n",
      "Solved with dual simplex\n",
      "Iteration    Objective       Primal Inf.    Dual Inf.      Time\n",
      "   78450    1.3565255e+05   0.000000e+00   0.000000e+00      4s\n",
      "\n",
      "Solved in 78450 iterations and 3.68 seconds (2.98 work units)\n",
      "Optimal objective  1.356525492e+05\n",
      "Building took 48.18854761123657 seconds\n"
     ]
    },
    {
     "name": "stderr",
     "output_type": "stream",
     "text": [
      "Computing candidate edges: 100%|██████████| 299/299 [00:00<00:00, 1263.62it/s]\n"
     ]
    },
    {
     "name": "stdout",
     "output_type": "stream",
     "text": [
      "Gurobi Optimizer version 10.0.0 build v10.0.0rc2 (linux64)\n",
      "\n",
      "CPU model: 11th Gen Intel(R) Core(TM) i7-11850H @ 2.50GHz, instruction set [SSE2|AVX|AVX2|AVX512]\n",
      "Thread count: 8 physical cores, 16 logical processors, using up to 16 threads\n",
      "\n",
      "Optimize a model with 113553 rows, 732599 columns and 2084743 nonzeros\n",
      "Model fingerprint: 0xb5107a15\n",
      "Coefficient statistics:\n",
      "  Matrix range     [1e+00, 1e+00]\n",
      "  Objective range  [3e-03, 5e+02]\n",
      "  Bounds range     [1e+00, 2e+00]\n",
      "  RHS range        [1e+00, 1e+00]\n",
      "Presolve removed 68 rows and 67 columns\n",
      "Presolve time: 0.99s\n",
      "Presolved: 113485 rows, 732532 columns, 2084520 nonzeros\n",
      "\n",
      "Concurrent LP optimizer: primal simplex, dual simplex, and barrier\n",
      "Showing barrier log only...\n",
      "\n",
      "Ordering time: 0.89s\n",
      "\n",
      "Barrier performed 0 iterations in 2.12 seconds (1.58 work units)\n",
      "Barrier solve interrupted - model solved by another algorithm\n",
      "\n",
      "\n",
      "Solved with dual simplex\n",
      "Iteration    Objective       Primal Inf.    Dual Inf.      Time\n",
      "   61027    1.0214986e+05   0.000000e+00   0.000000e+00      2s\n",
      "\n",
      "Solved in 61027 iterations and 2.28 seconds (1.91 work units)\n",
      "Optimal objective  1.021498577e+05\n",
      "Building took 37.86639475822449 seconds\n"
     ]
    },
    {
     "name": "stderr",
     "output_type": "stream",
     "text": [
      "Computing candidate edges: 100%|██████████| 194/194 [00:00<00:00, 1320.19it/s]\n"
     ]
    },
    {
     "name": "stdout",
     "output_type": "stream",
     "text": [
      "Gurobi Optimizer version 10.0.0 build v10.0.0rc2 (linux64)\n",
      "\n",
      "CPU model: 11th Gen Intel(R) Core(TM) i7-11850H @ 2.50GHz, instruction set [SSE2|AVX|AVX2|AVX512]\n",
      "Thread count: 8 physical cores, 16 logical processors, using up to 16 threads\n",
      "\n",
      "Optimize a model with 47573 rows, 304898 columns and 867484 nonzeros\n",
      "Model fingerprint: 0x2009ac09\n",
      "Coefficient statistics:\n",
      "  Matrix range     [1e+00, 1e+00]\n",
      "  Objective range  [2e-02, 4e+01]\n",
      "  Bounds range     [1e+00, 2e+00]\n",
      "  RHS range        [1e+00, 1e+00]\n",
      "Presolve removed 7 rows and 6 columns\n",
      "Presolve time: 0.37s\n",
      "Presolved: 47566 rows, 304892 columns, 867440 nonzeros\n",
      "\n",
      "Concurrent LP optimizer: primal simplex, dual simplex, and barrier\n",
      "Showing barrier log only...\n",
      "\n",
      "Ordering time: 0.32s\n",
      "\n",
      "Barrier performed 0 iterations in 0.79 seconds (0.64 work units)\n",
      "Barrier solve interrupted - model solved by another algorithm\n",
      "\n",
      "\n",
      "Solved with dual simplex\n",
      "Iteration    Objective       Primal Inf.    Dual Inf.      Time\n",
      "   27408    1.8514135e+04   0.000000e+00   0.000000e+00      1s\n",
      "\n",
      "Solved in 27408 iterations and 0.85 seconds (0.78 work units)\n",
      "Optimal objective  1.851413547e+04\n",
      "Building took 17.900917530059814 seconds\n"
     ]
    },
    {
     "name": "stderr",
     "output_type": "stream",
     "text": [
      "Computing candidate edges: 100%|██████████| 189/189 [00:00<00:00, 1399.94it/s]\n"
     ]
    },
    {
     "name": "stdout",
     "output_type": "stream",
     "text": [
      "Gurobi Optimizer version 10.0.0 build v10.0.0rc2 (linux64)\n",
      "\n",
      "CPU model: 11th Gen Intel(R) Core(TM) i7-11850H @ 2.50GHz, instruction set [SSE2|AVX|AVX2|AVX512]\n",
      "Thread count: 8 physical cores, 16 logical processors, using up to 16 threads\n",
      "\n",
      "Optimize a model with 44637 rows, 285671 columns and 812736 nonzeros\n",
      "Model fingerprint: 0x03739b90\n",
      "Coefficient statistics:\n",
      "  Matrix range     [1e+00, 1e+00]\n",
      "  Objective range  [3e-02, 5e+01]\n",
      "  Bounds range     [1e+00, 2e+00]\n",
      "  RHS range        [1e+00, 1e+00]\n",
      "Presolve removed 5 rows and 4 columns\n",
      "Presolve time: 0.35s\n",
      "Presolved: 44632 rows, 285667 columns, 812702 nonzeros\n",
      "\n",
      "Concurrent LP optimizer: primal simplex, dual simplex, and barrier\n",
      "Showing barrier log only...\n",
      "\n",
      "Ordering time: 0.42s\n",
      "\n",
      "Barrier performed 0 iterations in 0.85 seconds (0.63 work units)\n",
      "Barrier solve interrupted - model solved by another algorithm\n",
      "\n",
      "\n",
      "Solved with dual simplex\n",
      "Iteration    Objective       Primal Inf.    Dual Inf.      Time\n",
      "   25359    2.0792351e+04   0.000000e+00   0.000000e+00      1s\n",
      "\n",
      "Solved in 25359 iterations and 0.91 seconds (0.81 work units)\n",
      "Optimal objective  2.079235100e+04\n",
      "Building took 16.69392204284668 seconds\n"
     ]
    },
    {
     "name": "stderr",
     "output_type": "stream",
     "text": [
      "Computing candidate edges: 100%|██████████| 29/29 [00:00<00:00, 2001.53it/s]"
     ]
    },
    {
     "name": "stdout",
     "output_type": "stream",
     "text": [
      "Gurobi Optimizer version 10.0.0 build v10.0.0rc2 (linux64)\n",
      "\n",
      "CPU model: 11th Gen Intel(R) Core(TM) i7-11850H @ 2.50GHz, instruction set [SSE2|AVX|AVX2|AVX512]\n",
      "Thread count: 8 physical cores, 16 logical processors, using up to 16 threads\n",
      "\n",
      "Optimize a model with 63 rows, 120 columns and 299 nonzeros\n",
      "Model fingerprint: 0x822a9145\n",
      "Coefficient statistics:\n",
      "  Matrix range     [1e+00, 1e+00]\n",
      "  Objective range  [1e-01, 1e+100]\n",
      "  Bounds range     [1e+00, 2e+00]\n",
      "  RHS range        [1e+00, 1e+00]\n",
      "Warning: Model contains large objective coefficients\n",
      "         Consider reformulating model or setting NumericFocus parameter\n",
      "         to avoid numerical issues.\n",
      "Presolve removed 6 rows and 5 columns\n",
      "Presolve time: 0.00s\n",
      "Presolved: 57 rows, 115 columns, 287 nonzeros\n",
      "\n",
      "Iteration    Objective       Primal Inf.    Dual Inf.      Time\n",
      "       0    5.2206455e-01   2.900000e+01   0.000000e+00      0s\n",
      "      27    6.7596667e+00   0.000000e+00   0.000000e+00      0s\n",
      "\n",
      "Solved in 27 iterations and 0.00 seconds (0.00 work units)\n",
      "Optimal objective  6.759666749e+00\n"
     ]
    },
    {
     "name": "stderr",
     "output_type": "stream",
     "text": [
      "\n"
     ]
    },
    {
     "name": "stdout",
     "output_type": "stream",
     "text": [
      "Building took 0.0464632511138916 seconds\n"
     ]
    },
    {
     "name": "stderr",
     "output_type": "stream",
     "text": [
      "Computing candidate edges: 100%|██████████| 29/29 [00:00<00:00, 2059.23it/s]"
     ]
    },
    {
     "name": "stdout",
     "output_type": "stream",
     "text": [
      "Gurobi Optimizer version 10.0.0 build v10.0.0rc2 (linux64)\n",
      "\n",
      "CPU model: 11th Gen Intel(R) Core(TM) i7-11850H @ 2.50GHz, instruction set [SSE2|AVX|AVX2|AVX512]\n",
      "Thread count: 8 physical cores, 16 logical processors, using up to 16 threads\n",
      "\n",
      "Optimize a model with 63 rows, 120 columns and 299 nonzeros\n",
      "Model fingerprint: 0x80579dc7\n",
      "Coefficient statistics:\n",
      "  Matrix range     [1e+00, 1e+00]\n",
      "  Objective range  [1e-01, 1e+100]\n",
      "  Bounds range     [1e+00, 2e+00]\n",
      "  RHS range        [1e+00, 1e+00]\n",
      "Warning: Model contains large objective coefficients\n",
      "         Consider reformulating model or setting NumericFocus parameter\n",
      "         to avoid numerical issues.\n",
      "Presolve removed 6 rows and 5 columns\n",
      "Presolve time: 0.00s\n",
      "Presolved: 57 rows, 115 columns, 287 nonzeros\n",
      "\n",
      "Iteration    Objective       Primal Inf.    Dual Inf.      Time\n",
      "       0    1.1322543e+00   2.900000e+01   0.000000e+00      0s\n",
      "      27    1.1580880e+01   0.000000e+00   0.000000e+00      0s\n",
      "\n",
      "Solved in 27 iterations and 0.01 seconds (0.00 work units)\n",
      "Optimal objective  1.158088047e+01\n"
     ]
    },
    {
     "name": "stderr",
     "output_type": "stream",
     "text": [
      "\n"
     ]
    },
    {
     "name": "stdout",
     "output_type": "stream",
     "text": [
      "Building took 0.04438304901123047 seconds\n"
     ]
    }
   ],
   "source": [
    "for config in configs:\n",
    "     config.run(compute_additional_features=True)"
   ]
  },
  {
   "cell_type": "code",
   "execution_count": 6,
   "metadata": {},
   "outputs": [
    {
     "name": "stdout",
     "output_type": "stream",
     "text": [
      "Fluo-N3DH-SIM+_01\n"
     ]
    },
    {
     "name": "stderr",
     "output_type": "stream",
     "text": [
      "Loading TIFFs: 100%|██████████| 149/149 [00:08<00:00, 18.45it/s]\n",
      "Loading TIFFs: 100%|██████████| 149/149 [00:08<00:00, 18.57it/s]\n",
      "1 non-connected masks at t=37.\n",
      "1 non-connected masks at t=119.\n",
      "Matching frames: 100%|██████████| 150/150 [00:11<00:00, 13.63it/s]\n",
      "Evaluating nodes: 100%|██████████| 2866/2866 [00:00<00:00, 615791.98it/s]\n",
      "Evaluating FP edges: 100%|██████████| 2818/2818 [00:00<00:00, 636726.21it/s]\n",
      "Evaluating FN edges: 100%|██████████| 2859/2859 [00:00<00:00, 712085.22it/s]\n"
     ]
    },
    {
     "name": "stdout",
     "output_type": "stream",
     "text": [
      "Fluo-N3DH-SIM+_02\n"
     ]
    },
    {
     "name": "stderr",
     "output_type": "stream",
     "text": [
      "Loading TIFFs: 100%|██████████| 79/79 [00:07<00:00, 10.88it/s]\n",
      "Loading TIFFs: 100%|██████████| 79/79 [00:07<00:00, 10.71it/s]\n",
      "1 non-connected masks at t=28.\n",
      "1 non-connected masks at t=29.\n",
      "1 non-connected masks at t=30.\n",
      "1 non-connected masks at t=32.\n",
      "1 non-connected masks at t=41.\n",
      "3 non-connected masks at t=51.\n",
      "1 non-connected masks at t=54.\n",
      "1 non-connected masks at t=55.\n",
      "2 non-connected masks at t=57.\n",
      "1 non-connected masks at t=58.\n",
      "1 non-connected masks at t=60.\n",
      "4 non-connected masks at t=61.\n",
      "2 non-connected masks at t=64.\n",
      "1 non-connected masks at t=67.\n",
      "2 non-connected masks at t=74.\n",
      "Matching frames: 100%|██████████| 80/80 [00:11<00:00,  7.27it/s]\n",
      "Evaluating nodes: 100%|██████████| 3459/3459 [00:00<00:00, 508093.35it/s]\n",
      "Evaluating FP edges: 100%|██████████| 3349/3349 [00:00<00:00, 461213.69it/s]\n",
      "Evaluating FN edges: 100%|██████████| 3424/3424 [00:00<00:00, 645945.08it/s]\n"
     ]
    },
    {
     "name": "stdout",
     "output_type": "stream",
     "text": [
      "Fluo-C3DL-MDA231_01\n"
     ]
    },
    {
     "name": "stderr",
     "output_type": "stream",
     "text": [
      "Loading TIFFs: 100%|██████████| 11/11 [00:00<00:00, 37.02it/s]\n",
      "Loading TIFFs: 100%|██████████| 11/11 [00:00<00:00, 37.82it/s]\n",
      "1 non-connected masks at t=0.\n",
      "1 non-connected masks at t=6.\n",
      "1 non-connected masks at t=9.\n",
      "2 non-connected masks at t=10.\n",
      "1 non-connected masks at t=11.\n",
      "Matching frames: 100%|██████████| 12/12 [00:00<00:00, 25.98it/s]\n",
      "Evaluating nodes: 100%|██████████| 351/351 [00:00<00:00, 501260.03it/s]\n",
      "Evaluating FP edges: 100%|██████████| 317/317 [00:00<00:00, 551013.00it/s]\n",
      "Evaluating FN edges: 100%|██████████| 331/331 [00:00<00:00, 633066.40it/s]\n"
     ]
    },
    {
     "name": "stdout",
     "output_type": "stream",
     "text": [
      "Fluo-C3DL-MDA231_02\n"
     ]
    },
    {
     "name": "stderr",
     "output_type": "stream",
     "text": [
      "Loading TIFFs: 100%|██████████| 11/11 [00:00<00:00, 35.90it/s]\n",
      "Loading TIFFs: 100%|██████████| 11/11 [00:00<00:00, 38.07it/s]\n",
      "1 non-connected masks at t=0.\n",
      "2 non-connected masks at t=4.\n",
      "2 non-connected masks at t=5.\n",
      "1 non-connected masks at t=7.\n",
      "1 non-connected masks at t=11.\n",
      "Matching frames: 100%|██████████| 12/12 [00:00<00:00, 26.27it/s]\n",
      "Evaluating nodes: 100%|██████████| 582/582 [00:00<00:00, 543187.57it/s]\n",
      "Evaluating FP edges: 100%|██████████| 529/529 [00:00<00:00, 564864.26it/s]\n",
      "Evaluating FN edges: 100%|██████████| 528/528 [00:00<00:00, 689904.21it/s]\n"
     ]
    },
    {
     "name": "stdout",
     "output_type": "stream",
     "text": [
      "Fluo-N2DH-GOWT1_01\n"
     ]
    },
    {
     "name": "stderr",
     "output_type": "stream",
     "text": [
      "Loading TIFFs: 100%|██████████| 91/91 [00:00<00:00, 230.08it/s]\n",
      "Loading TIFFs: 100%|██████████| 91/91 [00:00<00:00, 240.97it/s]\n",
      "Matching frames: 100%|██████████| 92/92 [00:00<00:00, 164.73it/s]\n",
      "Evaluating nodes: 100%|██████████| 2054/2054 [00:00<00:00, 602960.56it/s]\n",
      "Evaluating FP edges: 100%|██████████| 2034/2034 [00:00<00:00, 656196.78it/s]\n",
      "Evaluating FN edges: 100%|██████████| 2035/2035 [00:00<00:00, 579969.33it/s]\n"
     ]
    },
    {
     "name": "stdout",
     "output_type": "stream",
     "text": [
      "Fluo-N2DH-GOWT1_02\n"
     ]
    },
    {
     "name": "stderr",
     "output_type": "stream",
     "text": [
      "Loading TIFFs: 100%|██████████| 91/91 [00:00<00:00, 226.18it/s]\n",
      "Loading TIFFs: 100%|██████████| 91/91 [00:00<00:00, 237.63it/s]\n",
      "Matching frames: 100%|██████████| 92/92 [00:00<00:00, 161.40it/s]\n",
      "Evaluating nodes: 100%|██████████| 2287/2287 [00:00<00:00, 586510.13it/s]\n",
      "Evaluating FP edges: 100%|██████████| 2267/2267 [00:00<00:00, 617033.56it/s]\n",
      "Evaluating FN edges: 100%|██████████| 2472/2472 [00:00<00:00, 713040.33it/s]\n"
     ]
    },
    {
     "name": "stdout",
     "output_type": "stream",
     "text": [
      "PhC-C2DH-U373_01\n"
     ]
    },
    {
     "name": "stderr",
     "output_type": "stream",
     "text": [
      "Loading TIFFs: 100%|██████████| 114/114 [00:00<00:00, 553.35it/s]\n",
      "Loading TIFFs: 100%|██████████| 114/114 [00:00<00:00, 625.22it/s]\n",
      "Matching frames: 100%|██████████| 115/115 [00:00<00:00, 475.35it/s]\n",
      "Evaluating nodes: 100%|██████████| 765/765 [00:00<00:00, 655092.40it/s]\n",
      "Evaluating FP edges: 100%|██████████| 757/757 [00:00<00:00, 609071.19it/s]\n",
      "Evaluating FN edges: 100%|██████████| 758/758 [00:00<00:00, 622290.55it/s]\n"
     ]
    },
    {
     "name": "stdout",
     "output_type": "stream",
     "text": [
      "PhC-C2DH-U373_02\n"
     ]
    },
    {
     "name": "stderr",
     "output_type": "stream",
     "text": [
      "Loading TIFFs: 100%|██████████| 114/114 [00:00<00:00, 521.35it/s]\n",
      "Loading TIFFs: 100%|██████████| 114/114 [00:00<00:00, 623.64it/s]\n",
      "Matching frames: 100%|██████████| 115/115 [00:00<00:00, 479.33it/s]\n",
      "Evaluating nodes: 100%|██████████| 692/692 [00:00<00:00, 415289.51it/s]\n",
      "Evaluating FP edges: 100%|██████████| 680/680 [00:00<00:00, 471581.80it/s]\n",
      "Evaluating FN edges: 100%|██████████| 685/685 [00:00<00:00, 510591.48it/s]\n"
     ]
    },
    {
     "name": "stdout",
     "output_type": "stream",
     "text": [
      "Fluo-N2DL-HeLa_01\n"
     ]
    },
    {
     "name": "stderr",
     "output_type": "stream",
     "text": [
      "Loading TIFFs: 100%|██████████| 91/91 [00:00<00:00, 205.35it/s]\n",
      "Loading TIFFs: 100%|██████████| 91/91 [00:00<00:00, 273.35it/s]\n",
      "1 non-connected masks at t=23.\n",
      "2 non-connected masks at t=52.\n",
      "Matching frames: 100%|██████████| 92/92 [00:00<00:00, 128.78it/s]\n",
      "Evaluating nodes: 100%|██████████| 8602/8602 [00:00<00:00, 484749.26it/s]\n",
      "Evaluating FP edges: 100%|██████████| 8542/8542 [00:00<00:00, 443363.30it/s]\n",
      "Evaluating FN edges: 100%|██████████| 8562/8562 [00:00<00:00, 473168.95it/s]\n"
     ]
    },
    {
     "name": "stdout",
     "output_type": "stream",
     "text": [
      "Fluo-N2DL-HeLa_02\n"
     ]
    },
    {
     "name": "stderr",
     "output_type": "stream",
     "text": [
      "Loading TIFFs: 100%|██████████| 91/91 [00:00<00:00, 198.69it/s]\n",
      "Loading TIFFs: 100%|██████████| 91/91 [00:00<00:00, 254.95it/s]\n",
      "1 non-connected masks at t=28.\n",
      "1 non-connected masks at t=31.\n",
      "1 non-connected masks at t=33.\n",
      "1 non-connected masks at t=44.\n",
      "1 non-connected masks at t=54.\n",
      "Matching frames: 100%|██████████| 92/92 [00:01<00:00, 57.29it/s]\n",
      "Evaluating nodes: 100%|██████████| 25378/25378 [00:00<00:00, 406023.22it/s]\n",
      "Evaluating FP edges: 100%|██████████| 25173/25173 [00:00<00:00, 443544.95it/s]\n",
      "Evaluating FN edges: 100%|██████████| 25168/25168 [00:00<00:00, 421695.71it/s]\n"
     ]
    },
    {
     "name": "stdout",
     "output_type": "stream",
     "text": [
      "Fluo-C2DL-MSC_01\n"
     ]
    },
    {
     "name": "stderr",
     "output_type": "stream",
     "text": [
      "Loading TIFFs: 100%|██████████| 47/47 [00:00<00:00, 263.84it/s]\n",
      "Loading TIFFs: 100%|██████████| 47/47 [00:00<00:00, 284.32it/s]\n",
      "35 non-connected masks at t=19.\n",
      "Matching frames: 100%|██████████| 48/48 [00:00<00:00, 205.14it/s]\n",
      "Evaluating nodes: 100%|██████████| 427/427 [00:00<00:00, 409738.69it/s]\n",
      "Evaluating FP edges: 100%|██████████| 411/411 [00:00<00:00, 594024.45it/s]\n",
      "Evaluating FN edges: 100%|██████████| 413/413 [00:00<00:00, 485359.36it/s]\n"
     ]
    },
    {
     "name": "stdout",
     "output_type": "stream",
     "text": [
      "Fluo-C2DL-MSC_02\n"
     ]
    },
    {
     "name": "stderr",
     "output_type": "stream",
     "text": [
      "Loading TIFFs: 100%|██████████| 47/47 [00:00<00:00, 224.68it/s]\n",
      "Loading TIFFs: 100%|██████████| 47/47 [00:00<00:00, 246.70it/s]\n",
      "1 non-connected masks at t=45.\n",
      "1 non-connected masks at t=46.\n",
      "Matching frames: 100%|██████████| 48/48 [00:00<00:00, 208.44it/s]\n",
      "Evaluating nodes: 100%|██████████| 188/188 [00:00<00:00, 406667.95it/s]\n",
      "Evaluating FP edges: 100%|██████████| 176/176 [00:00<00:00, 513707.38it/s]\n",
      "Evaluating FN edges: 100%|██████████| 178/178 [00:00<00:00, 527250.08it/s]\n"
     ]
    },
    {
     "name": "stdout",
     "output_type": "stream",
     "text": [
      "Fluo-C3DH-H157_01\n"
     ]
    },
    {
     "name": "stderr",
     "output_type": "stream",
     "text": [
      "Loading TIFFs: 100%|██████████| 59/59 [00:05<00:00, 10.16it/s]\n",
      "Loading TIFFs: 100%|██████████| 59/59 [00:05<00:00, 11.09it/s]\n",
      "Matching frames: 100%|██████████| 60/60 [00:08<00:00,  7.31it/s]\n",
      "Evaluating nodes: 100%|██████████| 240/240 [00:00<00:00, 458602.72it/s]\n",
      "Evaluating FP edges: 100%|██████████| 236/236 [00:00<00:00, 535636.23it/s]\n",
      "Evaluating FN edges: 100%|██████████| 236/236 [00:00<00:00, 728907.03it/s]\n"
     ]
    },
    {
     "name": "stdout",
     "output_type": "stream",
     "text": [
      "Fluo-C3DH-H157_02\n"
     ]
    },
    {
     "name": "stderr",
     "output_type": "stream",
     "text": [
      "Loading TIFFs: 100%|██████████| 59/59 [00:12<00:00,  4.76it/s]\n",
      "Loading TIFFs: 100%|██████████| 59/59 [00:12<00:00,  4.84it/s]\n",
      "Matching frames: 100%|██████████| 60/60 [00:17<00:00,  3.51it/s]\n",
      "Evaluating nodes: 100%|██████████| 159/159 [00:00<00:00, 308890.38it/s]\n",
      "Evaluating FP edges: 100%|██████████| 139/139 [00:00<00:00, 520078.73it/s]\n",
      "Evaluating FN edges: 100%|██████████| 149/149 [00:00<00:00, 780213.85it/s]\n"
     ]
    },
    {
     "name": "stdout",
     "output_type": "stream",
     "text": [
      "DIC-C2DH-HeLa_01\n"
     ]
    },
    {
     "name": "stderr",
     "output_type": "stream",
     "text": [
      "Loading TIFFs: 100%|██████████| 83/83 [00:00<00:00, 520.91it/s]\n",
      "Loading TIFFs: 100%|██████████| 83/83 [00:00<00:00, 689.00it/s]\n",
      "Matching frames: 100%|██████████| 84/84 [00:00<00:00, 444.05it/s]\n",
      "Evaluating nodes: 100%|██████████| 1104/1104 [00:00<00:00, 510586.79it/s]\n",
      "Evaluating FP edges: 100%|██████████| 1072/1072 [00:00<00:00, 595614.50it/s]\n",
      "Evaluating FN edges: 100%|██████████| 1100/1100 [00:00<00:00, 542281.90it/s]\n"
     ]
    },
    {
     "name": "stdout",
     "output_type": "stream",
     "text": [
      "DIC-C2DH-HeLa_02\n"
     ]
    },
    {
     "name": "stderr",
     "output_type": "stream",
     "text": [
      "Loading TIFFs: 100%|██████████| 83/83 [00:00<00:00, 534.83it/s]\n",
      "Loading TIFFs: 100%|██████████| 83/83 [00:00<00:00, 776.65it/s]\n",
      "Matching frames: 100%|██████████| 84/84 [00:00<00:00, 418.39it/s]\n",
      "Evaluating nodes: 100%|██████████| 988/988 [00:00<00:00, 691699.61it/s]\n",
      "Evaluating FP edges: 100%|██████████| 952/952 [00:00<00:00, 589978.93it/s]\n",
      "Evaluating FN edges: 100%|██████████| 1011/1011 [00:00<00:00, 525978.83it/s]\n"
     ]
    },
    {
     "name": "stdout",
     "output_type": "stream",
     "text": [
      "Fluo-N3DH-CHO_01\n"
     ]
    },
    {
     "name": "stderr",
     "output_type": "stream",
     "text": [
      "Loading TIFFs: 100%|██████████| 91/91 [00:00<00:00, 170.79it/s]\n",
      "Loading TIFFs: 100%|██████████| 91/91 [00:00<00:00, 193.56it/s]\n",
      "Matching frames: 100%|██████████| 92/92 [00:00<00:00, 155.44it/s]\n",
      "Evaluating nodes: 100%|██████████| 905/905 [00:00<00:00, 731799.71it/s]\n",
      "Evaluating FP edges: 100%|██████████| 853/853 [00:00<00:00, 654066.05it/s]\n",
      "Evaluating FN edges: 100%|██████████| 888/888 [00:00<00:00, 744908.39it/s]\n"
     ]
    },
    {
     "name": "stdout",
     "output_type": "stream",
     "text": [
      "Fluo-N3DH-CHO_02\n"
     ]
    },
    {
     "name": "stderr",
     "output_type": "stream",
     "text": [
      "Loading TIFFs: 100%|██████████| 91/91 [00:00<00:00, 177.62it/s]\n",
      "Loading TIFFs: 100%|██████████| 91/91 [00:00<00:00, 221.28it/s]\n",
      "Matching frames: 100%|██████████| 92/92 [00:00<00:00, 164.04it/s]\n",
      "Evaluating nodes: 100%|██████████| 614/614 [00:00<00:00, 615071.09it/s]\n",
      "Evaluating FP edges: 100%|██████████| 576/576 [00:00<00:00, 551831.68it/s]\n",
      "Evaluating FN edges: 100%|██████████| 596/596 [00:00<00:00, 739806.21it/s]\n"
     ]
    },
    {
     "name": "stdout",
     "output_type": "stream",
     "text": [
      "BF-C2DL-MuSC_01\n"
     ]
    },
    {
     "name": "stderr",
     "output_type": "stream",
     "text": [
      "Loading TIFFs: 100%|██████████| 1375/1375 [00:06<00:00, 213.90it/s]\n",
      "Loading TIFFs: 100%|██████████| 1375/1375 [00:06<00:00, 216.25it/s]\n",
      "Matching frames: 100%|██████████| 1376/1376 [00:07<00:00, 191.14it/s]\n",
      "Evaluating nodes: 100%|██████████| 5388/5388 [00:00<00:00, 598155.42it/s]\n",
      "Evaluating FP edges: 100%|██████████| 5420/5420 [00:00<00:00, 447528.94it/s]\n",
      "Evaluating FN edges: 100%|██████████| 5410/5410 [00:00<00:00, 637070.71it/s]\n"
     ]
    },
    {
     "name": "stdout",
     "output_type": "stream",
     "text": [
      "BF-C2DL-MuSC_02\n"
     ]
    },
    {
     "name": "stderr",
     "output_type": "stream",
     "text": [
      "Loading TIFFs: 100%|██████████| 1375/1375 [00:06<00:00, 208.12it/s]\n",
      "Loading TIFFs: 100%|██████████| 1375/1375 [00:06<00:00, 217.30it/s]\n",
      "Matching frames: 100%|██████████| 1376/1376 [00:07<00:00, 189.40it/s]\n",
      "Evaluating nodes: 100%|██████████| 7223/7223 [00:00<00:00, 559359.28it/s]\n",
      "Evaluating FP edges: 100%|██████████| 7266/7266 [00:00<00:00, 544084.64it/s]\n",
      "Evaluating FN edges: 100%|██████████| 7294/7294 [00:00<00:00, 531418.88it/s]\n"
     ]
    },
    {
     "name": "stdout",
     "output_type": "stream",
     "text": [
      "BF-C2DL-HSC_01\n"
     ]
    },
    {
     "name": "stderr",
     "output_type": "stream",
     "text": [
      "Loading TIFFs: 100%|██████████| 1763/1763 [00:06<00:00, 261.57it/s]\n",
      "Loading TIFFs: 100%|██████████| 1763/1763 [00:06<00:00, 258.05it/s]\n",
      "Matching frames: 100%|██████████| 1764/1764 [00:08<00:00, 204.15it/s]\n",
      "Evaluating nodes: 100%|██████████| 8674/8674 [00:00<00:00, 492772.49it/s]\n",
      "Evaluating FP edges: 100%|██████████| 8674/8674 [00:00<00:00, 435924.57it/s]\n",
      "Evaluating FN edges: 100%|██████████| 8674/8674 [00:00<00:00, 518002.58it/s]\n"
     ]
    },
    {
     "name": "stdout",
     "output_type": "stream",
     "text": [
      "BF-C2DL-HSC_02\n"
     ]
    },
    {
     "name": "stderr",
     "output_type": "stream",
     "text": [
      "Loading TIFFs: 100%|██████████| 1763/1763 [00:07<00:00, 243.08it/s]\n",
      "Loading TIFFs: 100%|██████████| 1763/1763 [00:07<00:00, 247.56it/s]\n",
      "Matching frames: 100%|██████████| 1764/1764 [00:11<00:00, 150.58it/s]\n",
      "Evaluating nodes: 100%|██████████| 64501/64501 [00:00<00:00, 429450.08it/s]\n",
      "Evaluating FP edges: 100%|██████████| 64503/64503 [00:00<00:00, 403765.04it/s]\n",
      "Evaluating FN edges: 100%|██████████| 64501/64501 [00:00<00:00, 433340.76it/s]\n"
     ]
    },
    {
     "name": "stdout",
     "output_type": "stream",
     "text": [
      "Fluo-C3DH-A549_01\n"
     ]
    },
    {
     "name": "stderr",
     "output_type": "stream",
     "text": [
      "Loading TIFFs: 100%|██████████| 29/29 [00:00<00:00, 76.61it/s]\n",
      "Loading TIFFs: 100%|██████████| 29/29 [00:00<00:00, 80.82it/s]\n",
      "Matching frames: 100%|██████████| 30/30 [00:00<00:00, 72.00it/s]\n",
      "Evaluating nodes: 100%|██████████| 30/30 [00:00<00:00, 356456.43it/s]\n",
      "Evaluating FP edges: 100%|██████████| 29/29 [00:00<00:00, 329633.65it/s]\n",
      "Evaluating FN edges: 100%|██████████| 29/29 [00:00<00:00, 409544.84it/s]\n"
     ]
    },
    {
     "name": "stdout",
     "output_type": "stream",
     "text": [
      "Fluo-C3DH-A549_02\n"
     ]
    },
    {
     "name": "stderr",
     "output_type": "stream",
     "text": [
      "Loading TIFFs: 100%|██████████| 29/29 [00:00<00:00, 84.71it/s]\n",
      "Loading TIFFs: 100%|██████████| 29/29 [00:00<00:00, 89.04it/s]\n",
      "Matching frames: 100%|██████████| 30/30 [00:00<00:00, 74.61it/s]\n",
      "Evaluating nodes: 100%|██████████| 30/30 [00:00<00:00, 187245.71it/s]\n",
      "Evaluating FP edges: 100%|██████████| 29/29 [00:00<00:00, 373112.93it/s]\n",
      "Evaluating FN edges: 100%|██████████| 29/29 [00:00<00:00, 382499.42it/s]\n"
     ]
    },
    {
     "name": "stdout",
     "output_type": "stream",
     "text": [
      "Fluo-N2DH-SIM+_01\n"
     ]
    },
    {
     "name": "stderr",
     "output_type": "stream",
     "text": [
      "Loading TIFFs: 100%|██████████| 64/64 [00:00<00:00, 321.20it/s]\n",
      "Loading TIFFs: 100%|██████████| 64/64 [00:00<00:00, 352.56it/s]\n",
      "1 non-connected masks at t=20.\n",
      "1 non-connected masks at t=22.\n",
      "1 non-connected masks at t=23.\n",
      "1 non-connected masks at t=24.\n",
      "1 non-connected masks at t=25.\n",
      "1 non-connected masks at t=26.\n",
      "1 non-connected masks at t=28.\n",
      "1 non-connected masks at t=30.\n",
      "1 non-connected masks at t=31.\n",
      "1 non-connected masks at t=32.\n",
      "1 non-connected masks at t=35.\n",
      "2 non-connected masks at t=38.\n",
      "1 non-connected masks at t=45.\n",
      "2 non-connected masks at t=47.\n",
      "1 non-connected masks at t=49.\n",
      "6 non-connected masks at t=52.\n",
      "2 non-connected masks at t=53.\n",
      "1 non-connected masks at t=54.\n",
      "1 non-connected masks at t=57.\n",
      "1 non-connected masks at t=58.\n",
      "2 non-connected masks at t=60.\n",
      "1 non-connected masks at t=61.\n",
      "Matching frames: 100%|██████████| 65/65 [00:00<00:00, 236.05it/s]\n",
      "Evaluating nodes: 100%|██████████| 2607/2607 [00:00<00:00, 640984.26it/s]\n",
      "Evaluating FP edges: 100%|██████████| 2559/2559 [00:00<00:00, 565323.08it/s]\n",
      "Evaluating FN edges: 100%|██████████| 2571/2571 [00:00<00:00, 613259.53it/s]\n"
     ]
    },
    {
     "name": "stdout",
     "output_type": "stream",
     "text": [
      "Fluo-N2DH-SIM+_02\n"
     ]
    },
    {
     "name": "stderr",
     "output_type": "stream",
     "text": [
      "Loading TIFFs: 100%|██████████| 149/149 [00:00<00:00, 336.84it/s]\n",
      "Loading TIFFs: 100%|██████████| 149/149 [00:00<00:00, 331.87it/s]\n",
      "1 non-connected masks at t=14.\n",
      "1 non-connected masks at t=16.\n",
      "1 non-connected masks at t=17.\n",
      "1 non-connected masks at t=20.\n",
      "2 non-connected masks at t=23.\n",
      "2 non-connected masks at t=24.\n",
      "3 non-connected masks at t=26.\n",
      "1 non-connected masks at t=27.\n",
      "1 non-connected masks at t=28.\n",
      "1 non-connected masks at t=29.\n",
      "3 non-connected masks at t=30.\n",
      "2 non-connected masks at t=31.\n",
      "3 non-connected masks at t=32.\n",
      "2 non-connected masks at t=33.\n",
      "1 non-connected masks at t=43.\n",
      "2 non-connected masks at t=45.\n",
      "2 non-connected masks at t=46.\n",
      "2 non-connected masks at t=49.\n",
      "1 non-connected masks at t=50.\n",
      "1 non-connected masks at t=52.\n",
      "2 non-connected masks at t=56.\n",
      "1 non-connected masks at t=57.\n",
      "2 non-connected masks at t=61.\n",
      "1 non-connected masks at t=62.\n",
      "1 non-connected masks at t=65.\n",
      "1 non-connected masks at t=66.\n",
      "1 non-connected masks at t=68.\n",
      "2 non-connected masks at t=69.\n",
      "5 non-connected masks at t=71.\n",
      "2 non-connected masks at t=72.\n",
      "1 non-connected masks at t=73.\n",
      "3 non-connected masks at t=75.\n",
      "3 non-connected masks at t=76.\n",
      "3 non-connected masks at t=77.\n",
      "1 non-connected masks at t=79.\n",
      "1 non-connected masks at t=80.\n",
      "1 non-connected masks at t=83.\n",
      "2 non-connected masks at t=86.\n",
      "1 non-connected masks at t=90.\n",
      "1 non-connected masks at t=91.\n",
      "1 non-connected masks at t=102.\n",
      "1 non-connected masks at t=103.\n",
      "2 non-connected masks at t=104.\n",
      "1 non-connected masks at t=107.\n",
      "1 non-connected masks at t=109.\n",
      "1 non-connected masks at t=111.\n",
      "1 non-connected masks at t=112.\n",
      "2 non-connected masks at t=113.\n",
      "1 non-connected masks at t=117.\n",
      "1 non-connected masks at t=118.\n",
      "1 non-connected masks at t=124.\n",
      "1 non-connected masks at t=126.\n",
      "2 non-connected masks at t=127.\n",
      "1 non-connected masks at t=130.\n",
      "3 non-connected masks at t=131.\n",
      "4 non-connected masks at t=132.\n",
      "1 non-connected masks at t=134.\n",
      "2 non-connected masks at t=136.\n",
      "3 non-connected masks at t=137.\n",
      "1 non-connected masks at t=139.\n",
      "1 non-connected masks at t=140.\n",
      "1 non-connected masks at t=144.\n",
      "1 non-connected masks at t=147.\n",
      "1 non-connected masks at t=148.\n",
      "3 non-connected masks at t=149.\n",
      "Matching frames: 100%|██████████| 150/150 [00:00<00:00, 260.20it/s]\n",
      "Evaluating nodes: 100%|██████████| 3371/3371 [00:00<00:00, 570696.22it/s]\n",
      "Evaluating FP edges: 100%|██████████| 3317/3317 [00:00<00:00, 465425.74it/s]\n",
      "Evaluating FN edges: 100%|██████████| 3354/3354 [00:00<00:00, 460646.90it/s]\n"
     ]
    },
    {
     "name": "stdout",
     "output_type": "stream",
     "text": [
      "PhC-C2DL-PSC_01\n"
     ]
    },
    {
     "name": "stderr",
     "output_type": "stream",
     "text": [
      "Loading TIFFs: 100%|██████████| 299/299 [00:00<00:00, 372.13it/s]\n",
      "Loading TIFFs: 100%|██████████| 299/299 [00:00<00:00, 490.93it/s]\n",
      "Matching frames: 100%|██████████| 300/300 [00:04<00:00, 68.85it/s] \n",
      "Evaluating nodes: 100%|██████████| 71067/71067 [00:00<00:00, 428876.09it/s]\n",
      "Evaluating FP edges: 100%|██████████| 71254/71254 [00:00<00:00, 409664.55it/s]\n",
      "Evaluating FN edges: 100%|██████████| 71201/71201 [00:00<00:00, 434980.11it/s]\n"
     ]
    },
    {
     "name": "stdout",
     "output_type": "stream",
     "text": [
      "PhC-C2DL-PSC_02\n"
     ]
    },
    {
     "name": "stderr",
     "output_type": "stream",
     "text": [
      "Loading TIFFs: 100%|██████████| 299/299 [00:00<00:00, 364.92it/s]\n",
      "Loading TIFFs: 100%|██████████| 299/299 [00:00<00:00, 481.11it/s]\n",
      "Matching frames: 100%|██████████| 300/300 [00:04<00:00, 74.62it/s] \n",
      "Evaluating nodes: 100%|██████████| 56775/56775 [00:00<00:00, 416991.25it/s]\n",
      "Evaluating FP edges: 100%|██████████| 56698/56698 [00:00<00:00, 408430.48it/s]\n",
      "Evaluating FN edges: 100%|██████████| 56639/56639 [00:00<00:00, 404817.68it/s]\n"
     ]
    },
    {
     "name": "stdout",
     "output_type": "stream",
     "text": [
      "Fluo-N3DH-CE_01\n"
     ]
    },
    {
     "name": "stderr",
     "output_type": "stream",
     "text": [
      "Loading TIFFs: 100%|██████████| 194/194 [00:10<00:00, 18.74it/s]\n",
      "Loading TIFFs: 100%|██████████| 194/194 [00:09<00:00, 21.06it/s]\n",
      "Matching frames: 100%|██████████| 195/195 [00:13<00:00, 14.07it/s]\n",
      "Evaluating nodes: 100%|██████████| 23785/23785 [00:00<00:00, 380629.70it/s]\n",
      "Evaluating FP edges: 100%|██████████| 23761/23761 [00:00<00:00, 384978.24it/s]\n",
      "Evaluating FN edges: 100%|██████████| 23798/23798 [00:00<00:00, 412556.77it/s]\n"
     ]
    },
    {
     "name": "stdout",
     "output_type": "stream",
     "text": [
      "Fluo-N3DH-CE_02\n"
     ]
    },
    {
     "name": "stderr",
     "output_type": "stream",
     "text": [
      "Loading TIFFs: 100%|██████████| 189/189 [00:08<00:00, 21.32it/s]\n",
      "Loading TIFFs: 100%|██████████| 189/189 [00:07<00:00, 24.90it/s]\n",
      "Matching frames: 100%|██████████| 190/190 [00:11<00:00, 15.93it/s]\n",
      "Evaluating nodes: 100%|██████████| 22317/22317 [00:00<00:00, 368204.78it/s]\n",
      "Evaluating FP edges: 100%|██████████| 22197/22197 [00:00<00:00, 378334.64it/s]\n",
      "Evaluating FN edges: 100%|██████████| 22416/22416 [00:00<00:00, 427140.11it/s]\n"
     ]
    },
    {
     "name": "stdout",
     "output_type": "stream",
     "text": [
      "Fluo-C3DH-A549-SIM_01\n"
     ]
    },
    {
     "name": "stderr",
     "output_type": "stream",
     "text": [
      "Loading TIFFs: 100%|██████████| 29/29 [00:00<00:00, 80.02it/s]\n",
      "Loading TIFFs: 100%|██████████| 29/29 [00:00<00:00, 83.50it/s]\n",
      "Matching frames: 100%|██████████| 30/30 [00:00<00:00, 74.92it/s]\n",
      "Evaluating nodes: 100%|██████████| 30/30 [00:00<00:00, 253177.30it/s]\n",
      "Evaluating FP edges: 100%|██████████| 29/29 [00:00<00:00, 396204.61it/s]\n",
      "Evaluating FN edges: 100%|██████████| 29/29 [00:00<00:00, 363089.00it/s]\n"
     ]
    },
    {
     "name": "stdout",
     "output_type": "stream",
     "text": [
      "Fluo-C3DH-A549-SIM_02\n"
     ]
    },
    {
     "name": "stderr",
     "output_type": "stream",
     "text": [
      "Loading TIFFs: 100%|██████████| 29/29 [00:00<00:00, 61.61it/s]\n",
      "Loading TIFFs: 100%|██████████| 29/29 [00:00<00:00, 62.57it/s]\n",
      "Matching frames: 100%|██████████| 30/30 [00:00<00:00, 46.80it/s]\n",
      "Evaluating nodes: 100%|██████████| 30/30 [00:00<00:00, 345684.40it/s]\n",
      "Evaluating FP edges: 100%|██████████| 29/29 [00:00<00:00, 327856.65it/s]\n",
      "Evaluating FN edges: 100%|██████████| 29/29 [00:00<00:00, 314301.85it/s]\n"
     ]
    }
   ],
   "source": [
    "for config in configs:\n",
    "    print(config.data_config.dataset_name)\n",
    "    # if not os.path.exists(os.path.join(config.data_config.out_root_path, config.data_config.dataset_name, 'metrics.json')):\n",
    "    config.evaluate()\n",
    "    # else:\n",
    "    #     print('Finished', config.data_config.dataset_name)"
   ]
  }
 ],
 "metadata": {
  "kernelspec": {
   "display_name": "trexp",
   "language": "python",
   "name": "python3"
  },
  "language_info": {
   "codemirror_mode": {
    "name": "ipython",
    "version": 3
   },
   "file_extension": ".py",
   "mimetype": "text/x-python",
   "name": "python",
   "nbconvert_exporter": "python",
   "pygments_lexer": "ipython3",
   "version": "3.10.13"
  }
 },
 "nbformat": 4,
 "nbformat_minor": 2
}
