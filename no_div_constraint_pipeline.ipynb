{
 "cells": [
  {
   "cell_type": "code",
   "execution_count": 1,
   "metadata": {},
   "outputs": [],
   "source": [
    "import os\n",
    "\n",
    "from generate_dataset_summary import generate_ctc_summary\n",
    "\n",
    "ROOT_DIR = '/home/ddon0001/PhD/data/cell_tracking_challenge/ST/'\n",
    "OUT_ROOT = '/home/ddon0001/PhD/experiments/scaled/no_div_constraint'\n",
    "out_csv_path = os.path.join(OUT_ROOT, 'summary.csv')"
   ]
  },
  {
   "cell_type": "code",
   "execution_count": null,
   "metadata": {},
   "outputs": [],
   "source": [
    "generate_ctc_summary(ROOT_DIR, out_csv_path)"
   ]
  },
  {
   "cell_type": "code",
   "execution_count": 2,
   "metadata": {},
   "outputs": [],
   "source": [
    "from generate_configs import ds_summary_to_configs\n",
    "configs = ds_summary_to_configs(out_csv_path, OUT_ROOT, div_constraint=False)"
   ]
  },
  {
   "cell_type": "code",
   "execution_count": null,
   "metadata": {},
   "outputs": [],
   "source": [
    "for config in configs:\n",
    "     config.run(compute_additional_features=True)"
   ]
  },
  {
   "cell_type": "code",
   "execution_count": 3,
   "metadata": {},
   "outputs": [
    {
     "name": "stdout",
     "output_type": "stream",
     "text": [
      "Fluo-C3DL-MDA231_01\n"
     ]
    },
    {
     "name": "stderr",
     "output_type": "stream",
     "text": [
      "Loading TIFFs: 100%|██████████| 11/11 [00:00<00:00, 44.68it/s]\n",
      "Loading TIFFs: 100%|██████████| 11/11 [00:00<00:00, 49.27it/s]\n",
      "1 non-connected masks at t=0.\n",
      "1 non-connected masks at t=6.\n",
      "1 non-connected masks at t=9.\n",
      "2 non-connected masks at t=10.\n",
      "1 non-connected masks at t=11.\n",
      "Matching frames: 100%|██████████| 12/12 [00:00<00:00, 33.97it/s]\n",
      "Evaluating nodes: 100%|██████████| 351/351 [00:00<00:00, 674084.57it/s]\n",
      "Evaluating FP edges: 100%|██████████| 317/317 [00:00<00:00, 337546.17it/s]\n",
      "Evaluating FN edges: 100%|██████████| 331/331 [00:00<00:00, 529083.32it/s]\n"
     ]
    },
    {
     "name": "stdout",
     "output_type": "stream",
     "text": [
      "Fluo-C3DL-MDA231_02\n"
     ]
    },
    {
     "name": "stderr",
     "output_type": "stream",
     "text": [
      "Loading TIFFs: 100%|██████████| 11/11 [00:00<00:00, 47.13it/s]\n",
      "Loading TIFFs: 100%|██████████| 11/11 [00:00<00:00, 49.51it/s]\n",
      "1 non-connected masks at t=0.\n",
      "2 non-connected masks at t=4.\n",
      "2 non-connected masks at t=5.\n",
      "1 non-connected masks at t=7.\n",
      "1 non-connected masks at t=11.\n",
      "Matching frames: 100%|██████████| 12/12 [00:00<00:00, 32.78it/s]\n",
      "Evaluating nodes: 100%|██████████| 582/582 [00:00<00:00, 758807.87it/s]\n",
      "Evaluating FP edges: 100%|██████████| 529/529 [00:00<00:00, 357868.84it/s]\n",
      "Evaluating FN edges: 100%|██████████| 528/528 [00:00<00:00, 526782.23it/s]\n"
     ]
    },
    {
     "name": "stdout",
     "output_type": "stream",
     "text": [
      "Fluo-N2DH-GOWT1_01\n"
     ]
    },
    {
     "name": "stderr",
     "output_type": "stream",
     "text": [
      "Loading TIFFs: 100%|██████████| 91/91 [00:00<00:00, 294.83it/s]\n",
      "Loading TIFFs: 100%|██████████| 91/91 [00:00<00:00, 307.63it/s]\n",
      "Matching frames: 100%|██████████| 92/92 [00:00<00:00, 162.61it/s]\n",
      "Evaluating nodes: 100%|██████████| 2054/2054 [00:00<00:00, 726032.40it/s]\n",
      "Evaluating FP edges: 100%|██████████| 2034/2034 [00:00<00:00, 345505.20it/s]\n",
      "Evaluating FN edges: 100%|██████████| 2035/2035 [00:00<00:00, 420670.71it/s]\n"
     ]
    },
    {
     "name": "stdout",
     "output_type": "stream",
     "text": [
      "Fluo-N2DH-GOWT1_02\n"
     ]
    },
    {
     "name": "stderr",
     "output_type": "stream",
     "text": [
      "Loading TIFFs: 100%|██████████| 91/91 [00:00<00:00, 283.88it/s]\n",
      "Loading TIFFs: 100%|██████████| 91/91 [00:00<00:00, 295.74it/s]\n",
      "Matching frames: 100%|██████████| 92/92 [00:00<00:00, 148.64it/s]\n",
      "Evaluating nodes: 100%|██████████| 2287/2287 [00:00<00:00, 641072.86it/s]\n",
      "Evaluating FP edges: 100%|██████████| 2267/2267 [00:00<00:00, 336345.50it/s]\n",
      "Evaluating FN edges: 100%|██████████| 2472/2472 [00:00<00:00, 417437.78it/s]\n"
     ]
    },
    {
     "name": "stdout",
     "output_type": "stream",
     "text": [
      "PhC-C2DH-U373_01\n"
     ]
    },
    {
     "name": "stderr",
     "output_type": "stream",
     "text": [
      "Loading TIFFs: 100%|██████████| 114/114 [00:00<00:00, 722.48it/s]\n",
      "Loading TIFFs: 100%|██████████| 114/114 [00:00<00:00, 805.54it/s]\n",
      "Matching frames: 100%|██████████| 115/115 [00:00<00:00, 475.71it/s]\n",
      "Evaluating nodes: 100%|██████████| 765/765 [00:00<00:00, 784509.18it/s]\n",
      "Evaluating FP edges: 100%|██████████| 757/757 [00:00<00:00, 362411.61it/s]\n",
      "Evaluating FN edges: 100%|██████████| 758/758 [00:00<00:00, 508116.10it/s]\n"
     ]
    },
    {
     "name": "stdout",
     "output_type": "stream",
     "text": [
      "PhC-C2DH-U373_02\n"
     ]
    },
    {
     "name": "stderr",
     "output_type": "stream",
     "text": [
      "Loading TIFFs: 100%|██████████| 114/114 [00:00<00:00, 748.98it/s]\n",
      "Loading TIFFs: 100%|██████████| 114/114 [00:00<00:00, 821.68it/s]\n",
      "Matching frames: 100%|██████████| 115/115 [00:00<00:00, 495.10it/s]\n",
      "Evaluating nodes: 100%|██████████| 692/692 [00:00<00:00, 746517.07it/s]\n",
      "Evaluating FP edges: 100%|██████████| 680/680 [00:00<00:00, 371370.67it/s]\n",
      "Evaluating FN edges: 100%|██████████| 685/685 [00:00<00:00, 481982.59it/s]\n"
     ]
    },
    {
     "name": "stdout",
     "output_type": "stream",
     "text": [
      "Fluo-N2DL-HeLa_01\n"
     ]
    },
    {
     "name": "stderr",
     "output_type": "stream",
     "text": [
      "Loading TIFFs: 100%|██████████| 91/91 [00:00<00:00, 351.20it/s]\n",
      "Loading TIFFs: 100%|██████████| 91/91 [00:00<00:00, 371.33it/s]\n",
      "1 non-connected masks at t=23.\n",
      "2 non-connected masks at t=52.\n",
      "Matching frames: 100%|██████████| 92/92 [00:01<00:00, 79.55it/s]\n",
      "Evaluating nodes: 100%|██████████| 8602/8602 [00:00<00:00, 626324.16it/s]\n",
      "Evaluating FP edges: 100%|██████████| 8542/8542 [00:00<00:00, 296604.48it/s]\n",
      "Evaluating FN edges: 100%|██████████| 8562/8562 [00:00<00:00, 389848.03it/s]\n"
     ]
    },
    {
     "name": "stdout",
     "output_type": "stream",
     "text": [
      "Fluo-N2DL-HeLa_02\n"
     ]
    },
    {
     "name": "stderr",
     "output_type": "stream",
     "text": [
      "Loading TIFFs: 100%|██████████| 91/91 [00:00<00:00, 269.05it/s]\n",
      "Loading TIFFs: 100%|██████████| 91/91 [00:00<00:00, 366.30it/s]\n",
      "1 non-connected masks at t=28.\n",
      "1 non-connected masks at t=31.\n",
      "1 non-connected masks at t=33.\n",
      "1 non-connected masks at t=44.\n",
      "1 non-connected masks at t=54.\n",
      "Matching frames: 100%|██████████| 92/92 [00:03<00:00, 27.19it/s]\n",
      "Evaluating nodes: 100%|██████████| 25378/25378 [00:00<00:00, 624160.29it/s]\n",
      "Evaluating FP edges: 100%|██████████| 25173/25173 [00:00<00:00, 305578.61it/s]\n",
      "Evaluating FN edges: 100%|██████████| 25168/25168 [00:00<00:00, 379425.49it/s]\n"
     ]
    },
    {
     "name": "stdout",
     "output_type": "stream",
     "text": [
      "Fluo-C2DL-MSC_01\n"
     ]
    },
    {
     "name": "stderr",
     "output_type": "stream",
     "text": [
      "Loading TIFFs: 100%|██████████| 47/47 [00:00<00:00, 271.81it/s]\n",
      "Loading TIFFs: 100%|██████████| 47/47 [00:00<00:00, 266.69it/s]\n",
      "35 non-connected masks at t=19.\n",
      "Matching frames: 100%|██████████| 48/48 [00:00<00:00, 237.02it/s]\n",
      "Evaluating nodes: 100%|██████████| 427/427 [00:00<00:00, 776655.60it/s]\n",
      "Evaluating FP edges: 100%|██████████| 411/411 [00:00<00:00, 348465.52it/s]\n",
      "Evaluating FN edges: 100%|██████████| 413/413 [00:00<00:00, 470591.57it/s]\n"
     ]
    },
    {
     "name": "stdout",
     "output_type": "stream",
     "text": [
      "Fluo-C2DL-MSC_02\n"
     ]
    },
    {
     "name": "stderr",
     "output_type": "stream",
     "text": [
      "Loading TIFFs: 100%|██████████| 47/47 [00:00<00:00, 298.98it/s]\n",
      "Loading TIFFs: 100%|██████████| 47/47 [00:00<00:00, 314.83it/s]\n",
      "1 non-connected masks at t=45.\n",
      "1 non-connected masks at t=46.\n",
      "Matching frames: 100%|██████████| 48/48 [00:00<00:00, 245.80it/s]\n",
      "Evaluating nodes: 100%|██████████| 188/188 [00:00<00:00, 678013.03it/s]\n",
      "Evaluating FP edges: 100%|██████████| 176/176 [00:00<00:00, 315065.09it/s]\n",
      "Evaluating FN edges: 100%|██████████| 178/178 [00:00<00:00, 477968.06it/s]\n"
     ]
    },
    {
     "name": "stdout",
     "output_type": "stream",
     "text": [
      "Fluo-C3DH-H157_01\n"
     ]
    },
    {
     "name": "stderr",
     "output_type": "stream",
     "text": [
      "Loading TIFFs: 100%|██████████| 59/59 [00:04<00:00, 12.46it/s]\n",
      "Loading TIFFs: 100%|██████████| 59/59 [00:04<00:00, 13.34it/s]\n",
      "Matching frames: 100%|██████████| 60/60 [00:06<00:00,  8.85it/s]\n",
      "Evaluating nodes: 100%|██████████| 240/240 [00:00<00:00, 620612.18it/s]\n",
      "Evaluating FP edges: 100%|██████████| 236/236 [00:00<00:00, 371567.47it/s]\n",
      "Evaluating FN edges: 100%|██████████| 236/236 [00:00<00:00, 507618.33it/s]\n"
     ]
    },
    {
     "name": "stdout",
     "output_type": "stream",
     "text": [
      "Fluo-C3DH-H157_02\n"
     ]
    },
    {
     "name": "stderr",
     "output_type": "stream",
     "text": [
      "Loading TIFFs: 100%|██████████| 59/59 [00:10<00:00,  5.74it/s]\n",
      "Loading TIFFs: 100%|██████████| 59/59 [00:09<00:00,  5.96it/s]\n",
      "Matching frames: 100%|██████████| 60/60 [00:13<00:00,  4.34it/s]\n",
      "Evaluating nodes: 100%|██████████| 159/159 [00:00<00:00, 612954.35it/s]\n",
      "Evaluating FP edges: 100%|██████████| 139/139 [00:00<00:00, 319807.05it/s]\n",
      "Evaluating FN edges: 100%|██████████| 149/149 [00:00<00:00, 460878.54it/s]\n"
     ]
    },
    {
     "name": "stdout",
     "output_type": "stream",
     "text": [
      "DIC-C2DH-HeLa_01\n"
     ]
    },
    {
     "name": "stderr",
     "output_type": "stream",
     "text": [
      "Loading TIFFs: 100%|██████████| 83/83 [00:00<00:00, 515.79it/s]\n",
      "Loading TIFFs: 100%|██████████| 83/83 [00:00<00:00, 793.01it/s]\n",
      "Matching frames: 100%|██████████| 84/84 [00:00<00:00, 429.81it/s]\n",
      "Evaluating nodes: 100%|██████████| 1104/1104 [00:00<00:00, 801542.60it/s]\n",
      "Evaluating FP edges: 100%|██████████| 1072/1072 [00:00<00:00, 346294.97it/s]\n",
      "Evaluating FN edges: 100%|██████████| 1100/1100 [00:00<00:00, 467592.42it/s]\n"
     ]
    },
    {
     "name": "stdout",
     "output_type": "stream",
     "text": [
      "DIC-C2DH-HeLa_02\n"
     ]
    },
    {
     "name": "stderr",
     "output_type": "stream",
     "text": [
      "Loading TIFFs: 100%|██████████| 83/83 [00:00<00:00, 526.74it/s]\n",
      "Loading TIFFs: 100%|██████████| 83/83 [00:00<00:00, 779.76it/s]\n",
      "Matching frames: 100%|██████████| 84/84 [00:00<00:00, 428.48it/s]\n",
      "Evaluating nodes: 100%|██████████| 988/988 [00:00<00:00, 815582.04it/s]\n",
      "Evaluating FP edges: 100%|██████████| 952/952 [00:00<00:00, 362273.40it/s]\n",
      "Evaluating FN edges: 100%|██████████| 1011/1011 [00:00<00:00, 493821.05it/s]\n"
     ]
    },
    {
     "name": "stdout",
     "output_type": "stream",
     "text": [
      "Fluo-N3DH-CHO_01\n"
     ]
    },
    {
     "name": "stderr",
     "output_type": "stream",
     "text": [
      "Loading TIFFs: 100%|██████████| 91/91 [00:00<00:00, 207.87it/s]\n",
      "Loading TIFFs: 100%|██████████| 91/91 [00:00<00:00, 267.30it/s]\n",
      "Matching frames: 100%|██████████| 92/92 [00:00<00:00, 175.08it/s]\n",
      "Evaluating nodes: 100%|██████████| 905/905 [00:00<00:00, 813860.45it/s]\n",
      "Evaluating FP edges: 100%|██████████| 853/853 [00:00<00:00, 380732.29it/s]\n",
      "Evaluating FN edges: 100%|██████████| 888/888 [00:00<00:00, 471461.01it/s]\n"
     ]
    },
    {
     "name": "stdout",
     "output_type": "stream",
     "text": [
      "Fluo-N3DH-CHO_02\n"
     ]
    },
    {
     "name": "stderr",
     "output_type": "stream",
     "text": [
      "Loading TIFFs: 100%|██████████| 91/91 [00:00<00:00, 229.28it/s]\n",
      "Loading TIFFs: 100%|██████████| 91/91 [00:00<00:00, 270.09it/s]\n",
      "Matching frames: 100%|██████████| 92/92 [00:00<00:00, 188.87it/s]\n",
      "Evaluating nodes: 100%|██████████| 614/614 [00:00<00:00, 720565.94it/s]\n",
      "Evaluating FP edges: 100%|██████████| 576/576 [00:00<00:00, 353049.70it/s]\n",
      "Evaluating FN edges: 100%|██████████| 596/596 [00:00<00:00, 450984.16it/s]\n"
     ]
    },
    {
     "name": "stdout",
     "output_type": "stream",
     "text": [
      "BF-C2DL-MuSC_01\n"
     ]
    },
    {
     "name": "stderr",
     "output_type": "stream",
     "text": [
      "Loading TIFFs: 100%|██████████| 1375/1375 [00:05<00:00, 267.46it/s]\n",
      "Loading TIFFs: 100%|██████████| 1375/1375 [00:04<00:00, 279.30it/s]\n",
      "Matching frames: 100%|██████████| 1376/1376 [00:10<00:00, 126.36it/s]\n",
      "Evaluating nodes: 100%|██████████| 5388/5388 [00:00<00:00, 674433.27it/s]\n",
      "Evaluating FP edges: 100%|██████████| 5420/5420 [00:00<00:00, 304232.00it/s]\n",
      "Evaluating FN edges: 100%|██████████| 5410/5410 [00:00<00:00, 415642.75it/s]\n"
     ]
    },
    {
     "name": "stdout",
     "output_type": "stream",
     "text": [
      "BF-C2DL-MuSC_02\n"
     ]
    },
    {
     "name": "stderr",
     "output_type": "stream",
     "text": [
      "Loading TIFFs: 100%|██████████| 1375/1375 [00:05<00:00, 259.42it/s]\n",
      "Loading TIFFs: 100%|██████████| 1375/1375 [00:05<00:00, 265.62it/s]\n",
      "Matching frames: 100%|██████████| 1376/1376 [00:13<00:00, 104.96it/s]\n",
      "Evaluating nodes: 100%|██████████| 7223/7223 [00:00<00:00, 684565.76it/s]\n",
      "Evaluating FP edges: 100%|██████████| 7266/7266 [00:00<00:00, 301818.42it/s]\n",
      "Evaluating FN edges: 100%|██████████| 7294/7294 [00:00<00:00, 422010.83it/s]\n"
     ]
    },
    {
     "name": "stdout",
     "output_type": "stream",
     "text": [
      "BF-C2DL-HSC_01\n"
     ]
    },
    {
     "name": "stderr",
     "output_type": "stream",
     "text": [
      "Loading TIFFs: 100%|██████████| 1763/1763 [00:05<00:00, 315.06it/s]\n",
      "Loading TIFFs: 100%|██████████| 1763/1763 [00:05<00:00, 330.62it/s]\n",
      "Matching frames: 100%|██████████| 1764/1764 [00:17<00:00, 103.07it/s]\n",
      "Evaluating nodes: 100%|██████████| 8674/8674 [00:00<00:00, 709451.71it/s]\n",
      "Evaluating FP edges: 100%|██████████| 8674/8674 [00:00<00:00, 335111.62it/s]\n",
      "Evaluating FN edges: 100%|██████████| 8674/8674 [00:00<00:00, 414739.83it/s]\n"
     ]
    },
    {
     "name": "stdout",
     "output_type": "stream",
     "text": [
      "BF-C2DL-HSC_02\n"
     ]
    },
    {
     "name": "stderr",
     "output_type": "stream",
     "text": [
      "Loading TIFFs: 100%|██████████| 1763/1763 [00:05<00:00, 298.64it/s]\n",
      "Loading TIFFs: 100%|██████████| 1763/1763 [00:05<00:00, 322.84it/s]\n",
      "Matching frames: 100%|██████████| 1764/1764 [01:48<00:00, 16.26it/s]\n",
      "Evaluating nodes: 100%|██████████| 64501/64501 [00:00<00:00, 614969.58it/s]\n",
      "Evaluating FP edges: 100%|██████████| 64503/64503 [00:00<00:00, 272911.61it/s]\n",
      "Evaluating FN edges: 100%|██████████| 64501/64501 [00:00<00:00, 393197.52it/s]\n"
     ]
    },
    {
     "name": "stdout",
     "output_type": "stream",
     "text": [
      "Fluo-C3DH-A549_01\n"
     ]
    },
    {
     "name": "stderr",
     "output_type": "stream",
     "text": [
      "Loading TIFFs: 100%|██████████| 29/29 [00:00<00:00, 98.53it/s]\n",
      "Loading TIFFs: 100%|██████████| 29/29 [00:00<00:00, 104.63it/s]\n",
      "Matching frames: 100%|██████████| 30/30 [00:00<00:00, 89.10it/s]\n",
      "Evaluating nodes: 100%|██████████| 30/30 [00:00<00:00, 376733.89it/s]\n",
      "Evaluating FP edges: 100%|██████████| 29/29 [00:00<00:00, 184574.83it/s]\n",
      "Evaluating FN edges: 100%|██████████| 29/29 [00:00<00:00, 301823.36it/s]\n"
     ]
    },
    {
     "name": "stdout",
     "output_type": "stream",
     "text": [
      "Fluo-C3DH-A549_02\n"
     ]
    },
    {
     "name": "stderr",
     "output_type": "stream",
     "text": [
      "Loading TIFFs: 100%|██████████| 29/29 [00:00<00:00, 107.38it/s]\n",
      "Loading TIFFs: 100%|██████████| 29/29 [00:00<00:00, 110.84it/s]\n",
      "Matching frames: 100%|██████████| 30/30 [00:00<00:00, 90.60it/s]\n",
      "Evaluating nodes: 100%|██████████| 30/30 [00:00<00:00, 467766.25it/s]\n",
      "Evaluating FP edges: 100%|██████████| 29/29 [00:00<00:00, 257156.06it/s]\n",
      "Evaluating FN edges: 100%|██████████| 29/29 [00:00<00:00, 365269.72it/s]\n"
     ]
    },
    {
     "name": "stdout",
     "output_type": "stream",
     "text": [
      "PhC-C2DL-PSC_01\n"
     ]
    },
    {
     "name": "stderr",
     "output_type": "stream",
     "text": [
      "Loading TIFFs: 100%|██████████| 299/299 [00:00<00:00, 468.36it/s]\n",
      "Loading TIFFs: 100%|██████████| 299/299 [00:00<00:00, 597.69it/s]\n",
      "Matching frames: 100%|██████████| 300/300 [00:24<00:00, 12.27it/s]\n",
      "Evaluating nodes: 100%|██████████| 71067/71067 [00:00<00:00, 619448.17it/s]\n",
      "Evaluating FP edges: 100%|██████████| 71254/71254 [00:00<00:00, 302632.65it/s]\n",
      "Evaluating FN edges: 100%|██████████| 71201/71201 [00:00<00:00, 378383.78it/s]\n"
     ]
    },
    {
     "name": "stdout",
     "output_type": "stream",
     "text": [
      "PhC-C2DL-PSC_02\n"
     ]
    },
    {
     "name": "stderr",
     "output_type": "stream",
     "text": [
      "Loading TIFFs: 100%|██████████| 299/299 [00:00<00:00, 432.07it/s]\n",
      "Loading TIFFs: 100%|██████████| 299/299 [00:00<00:00, 569.28it/s]\n",
      "Matching frames: 100%|██████████| 300/300 [00:18<00:00, 15.89it/s]\n",
      "Evaluating nodes: 100%|██████████| 56775/56775 [00:00<00:00, 605697.04it/s]\n",
      "Evaluating FP edges: 100%|██████████| 56698/56698 [00:00<00:00, 307181.62it/s]\n",
      "Evaluating FN edges: 100%|██████████| 56639/56639 [00:00<00:00, 388910.93it/s]\n"
     ]
    },
    {
     "name": "stdout",
     "output_type": "stream",
     "text": [
      "Fluo-N3DH-CE_01\n"
     ]
    },
    {
     "name": "stderr",
     "output_type": "stream",
     "text": [
      "Loading TIFFs: 100%|██████████| 194/194 [00:08<00:00, 23.20it/s]\n",
      "Loading TIFFs: 100%|██████████| 194/194 [00:07<00:00, 26.50it/s]\n",
      "Matching frames: 100%|██████████| 195/195 [00:15<00:00, 12.76it/s]\n",
      "Evaluating nodes: 100%|██████████| 23785/23785 [00:00<00:00, 542297.12it/s]\n",
      "Evaluating FP edges: 100%|██████████| 23761/23761 [00:00<00:00, 298634.36it/s]\n",
      "Evaluating FN edges: 100%|██████████| 23798/23798 [00:00<00:00, 397632.30it/s]\n"
     ]
    },
    {
     "name": "stdout",
     "output_type": "stream",
     "text": [
      "Fluo-N3DH-CE_02\n"
     ]
    },
    {
     "name": "stderr",
     "output_type": "stream",
     "text": [
      "Loading TIFFs: 100%|██████████| 189/189 [00:07<00:00, 25.48it/s]\n",
      "Loading TIFFs: 100%|██████████| 189/189 [00:06<00:00, 29.97it/s]\n",
      "Matching frames: 100%|██████████| 190/190 [00:13<00:00, 13.89it/s]\n",
      "Evaluating nodes: 100%|██████████| 22317/22317 [00:00<00:00, 545250.72it/s]\n",
      "Evaluating FP edges: 100%|██████████| 22197/22197 [00:00<00:00, 303355.34it/s]\n",
      "Evaluating FN edges: 100%|██████████| 22416/22416 [00:00<00:00, 404498.11it/s]\n"
     ]
    }
   ],
   "source": [
    "for config in configs:\n",
    "    print(config.data_config.dataset_name)\n",
    "    # if not os.path.exists(os.path.join(config.data_config.out_root_path, config.data_config.dataset_name, 'metrics.json')):\n",
    "    config.evaluate()\n",
    "    # else:\n",
    "    #     print('Finished', config.data_config.dataset_name)"
   ]
  }
 ],
 "metadata": {
  "kernelspec": {
   "display_name": "trexp",
   "language": "python",
   "name": "python3"
  },
  "language_info": {
   "codemirror_mode": {
    "name": "ipython",
    "version": 3
   },
   "file_extension": ".py",
   "mimetype": "text/x-python",
   "name": "python",
   "nbconvert_exporter": "python",
   "pygments_lexer": "ipython3",
   "version": "3.10.13"
  }
 },
 "nbformat": 4,
 "nbformat_minor": 2
}
