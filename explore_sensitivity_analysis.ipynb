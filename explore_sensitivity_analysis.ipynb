{
 "cells": [
  {
   "cell_type": "code",
   "execution_count": 1,
   "metadata": {},
   "outputs": [],
   "source": [
    "import os\n",
    "import pandas as pd\n",
    "\n",
    "root_pth = '/home/ddon0001/PhD/experiments/scaled/no_div_constraint/'\n",
    "ds_summary_path = os.path.join(root_pth, 'summary.csv')\n",
    "ds_info = pd.read_csv(ds_summary_path)[['ds_name', 'det_path']]"
   ]
  },
  {
   "cell_type": "code",
   "execution_count": 2,
   "metadata": {},
   "outputs": [
    {
     "name": "stderr",
     "output_type": "stream",
     "text": [
      "26it [00:50,  1.95s/it]\n"
     ]
    }
   ],
   "source": [
    "from tqdm import tqdm\n",
    "from _iterative_solve import load_sol_files\n",
    "from _iterative_sample import populate_target_label\n",
    "\n",
    "dfs = []\n",
    "for row in tqdm(ds_info.itertuples()):\n",
    "    # read all edges, solution graph, ground truth, sol_gt_mapping\n",
    "    sol_pth = os.path.join(root_pth, row.ds_name)\n",
    "    _, all_edges, solution_graph, gt_graph, _, sol_to_gt = load_sol_files(sol_pth)\n",
    "    # assign \"edge_in_gt\" and \"is_correct\" to all real edges\n",
    "    populate_target_label(all_edges, solution_graph, gt_graph, sol_to_gt)\n",
    "    all_edges['solution_correct'] = (all_edges.flow > 0) == (all_edges.oracle_is_correct)\n",
    "    all_edges['solution_incorrect'] = all_edges.solution_correct == False\n",
    "    all_edges['ds_name'] = row.ds_name\n",
    "    dfs.append(all_edges[(all_edges.u >= 0) & (all_edges.v >= 0)])\n",
    "overall_df = pd.concat(dfs)\n",
    "overall_df.to_csv(os.path.join(root_pth, 'all_edges_with_target.csv'), index=False)"
   ]
  },
  {
   "cell_type": "code",
   "execution_count": 3,
   "metadata": {},
   "outputs": [],
   "source": [
    "plot_order = overall_df[overall_df.solution_incorrect].ds_name.value_counts().index"
   ]
  },
  {
   "cell_type": "code",
   "execution_count": null,
   "metadata": {},
   "outputs": [],
   "source": [
    "# plot sensitivity diff of is_correct edges vs. not is correct edges, split by flow >0 and flow =0 \n",
    "import seaborn as sns\n",
    "\n",
    "migration_only = overall_df[(overall_df.u >= 0) & (overall_df.v >= 0)]\n",
    "migration_only['in_solution'] = migration_only.flow > 0\n",
    "grid = sns.FacetGrid(migration_only, height=6, aspect=0.7, col='ds_name', col_wrap=4, sharex=True, sharey=False, col_order=plot_order)\n",
    "grid.map_dataframe(sns.violinplot, x='solution_correct', y='sensitivity_diff', inner='quart', hue='in_solution', palette='deep', split=True, gap=0.05, cut=0)\n",
    "\n",
    "grid.set_titles(size=16)\n",
    "grid.set_axis_labels(size=14)\n",
    "grid.set_xticklabels(size=12)\n",
    "grid.set_yticklabels(size=12)\n",
    "grid.add_legend()"
   ]
  },
  {
   "cell_type": "code",
   "execution_count": null,
   "metadata": {},
   "outputs": [],
   "source": [
    "# on average, how many incorrect edges can we find in that initial sample from **solution** edges\n",
    "# by using the sensitivity_diff as a weight?\n",
    "# we need sensitivity diff to be small in order for us to sample\n",
    "\n",
    "# scaling sensitivity diff\n",
    "\n",
    "# we first derive a scaled column - sensitivity_diff scaled to [0, 1] range\n",
    "# then, we derive 1-scaled_sensitivity_diff. This means the smaller the initial diff, the more likely we are to sample it\n",
    "# then for each dataset\n",
    "# we take 30 samples of size 30:\n",
    "# - just pure random sample\n",
    "# - weighted by distance\n",
    "# - weighted by inverse sensitivity diff thing\n",
    "# and store the number of incorrect solution edges sampled, for each sampling type\n",
    "\n",
    "# we also generate solutions disallowing merges and do the same thing?"
   ]
  },
  {
   "cell_type": "code",
   "execution_count": 41,
   "metadata": {},
   "outputs": [
    {
     "data": {
      "text/plain": [
       "250150"
      ]
     },
     "execution_count": 41,
     "metadata": {},
     "output_type": "execute_result"
    }
   ],
   "source": [
    "fluo_edges = overall_df[overall_df.ds_name == 'Fluo-N2DL-HeLa_02']\n",
    "len(fluo_edges)"
   ]
  },
  {
   "cell_type": "code",
   "execution_count": 50,
   "metadata": {},
   "outputs": [
    {
     "data": {
      "text/plain": [
       "74"
      ]
     },
     "execution_count": 50,
     "metadata": {},
     "output_type": "execute_result"
    }
   ],
   "source": [
    "fluo_in_sol = fluo_edges[(fluo_edges.flow > 0) & (fluo_edges.u >= 0) & (fluo_edges.v >= 0)]\n",
    "fluo_in_sol.sort_values(by='distance', ascending=False)[:100]['solution_incorrect'].sum()\n"
   ]
  },
  {
   "cell_type": "code",
   "execution_count": 52,
   "metadata": {},
   "outputs": [
    {
     "data": {
      "text/plain": [
       "21"
      ]
     },
     "execution_count": 52,
     "metadata": {},
     "output_type": "execute_result"
    }
   ],
   "source": [
    "fluo_in_sol.sort_values(by='sensitivity_diff', ascending=True)[101:200]['solution_incorrect'].sum()\n"
   ]
  },
  {
   "cell_type": "code",
   "execution_count": 53,
   "metadata": {},
   "outputs": [
    {
     "data": {
      "text/plain": [
       "105"
      ]
     },
     "execution_count": 53,
     "metadata": {},
     "output_type": "execute_result"
    }
   ],
   "source": [
    "fluo_in_sol.sort_values(by='distance', ascending=False)[:200]['solution_incorrect'].sum()\n"
   ]
  }
 ],
 "metadata": {
  "kernelspec": {
   "display_name": "trexp",
   "language": "python",
   "name": "python3"
  },
  "language_info": {
   "codemirror_mode": {
    "name": "ipython",
    "version": 3
   },
   "file_extension": ".py",
   "mimetype": "text/x-python",
   "name": "python",
   "nbconvert_exporter": "python",
   "pygments_lexer": "ipython3",
   "version": "3.10.13"
  }
 },
 "nbformat": 4,
 "nbformat_minor": 2
}
