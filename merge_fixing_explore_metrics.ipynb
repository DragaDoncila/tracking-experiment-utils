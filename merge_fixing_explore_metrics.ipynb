{
 "cells": [
  {
   "cell_type": "code",
   "execution_count": 3,
   "metadata": {},
   "outputs": [],
   "source": [
    "import os\n",
    "import pandas as pd\n",
    "\n",
    "og_sol_root = '/home/ddon0001/PhD/experiments/scaled/no_div_constraint/'\n",
    "og_ds_summary = pd.read_csv(os.path.join(og_sol_root, 'summary.csv'))\n",
    "\n",
    "new_sol_root = '/home/ddon0001/PhD/experiments/merge_fns/'"
   ]
  },
  {
   "cell_type": "code",
   "execution_count": 8,
   "metadata": {},
   "outputs": [
    {
     "name": "stdout",
     "output_type": "stream",
     "text": [
      "                ds_name  orig_tra   new_tra         diffs\n",
      "0   Fluo-C3DL-MDA231_01  0.961441  0.964342  2.901003e-03\n",
      "2    Fluo-N2DH-GOWT1_01  0.997059  0.997905  8.462922e-04\n",
      "3    Fluo-N2DH-GOWT1_02  0.906659  0.909429  2.770275e-03\n",
      "6     Fluo-N2DL-HeLa_01  0.993641  0.994175  5.340965e-04\n",
      "7     Fluo-N2DL-HeLa_02  0.996443  0.996487  4.452787e-05\n",
      "16      BF-C2DL-MuSC_01  0.989924  0.991900  1.976697e-03\n",
      "17      BF-C2DL-MuSC_02  0.984927  0.991763  6.836252e-03\n",
      "18       BF-C2DL-HSC_01  0.999609  0.999729  1.202875e-04\n",
      "19       BF-C2DL-HSC_02  0.999631  0.999632  6.740529e-07\n",
      "22      PhC-C2DL-PSC_01  0.992507  0.993418  9.112711e-04\n",
      "23      PhC-C2DL-PSC_02  0.998387  0.998332 -5.513030e-05\n",
      "24      Fluo-N3DH-CE_01  0.995875  0.996155  2.794857e-04\n",
      "25      Fluo-N3DH-CE_02  0.990506  0.991511  1.004639e-03\n"
     ]
    }
   ],
   "source": [
    "import json\n",
    "\n",
    "\n",
    "ds_name = []\n",
    "orig_tra = []\n",
    "new_tra = []\n",
    "for row in og_ds_summary.itertuples():\n",
    "    ds_name.append(row.ds_name)\n",
    "    with open(os.path.join(og_sol_root, row.ds_name, 'metrics.json')) as f:\n",
    "        metrics = json.load(f)\n",
    "        orig_tra.append(metrics['TRA'])\n",
    "    if os.path.exists(os.path.join(new_sol_root, row.ds_name, 'metrics.json')):\n",
    "        with open(os.path.join(new_sol_root, row.ds_name, 'metrics.json')) as f:\n",
    "            metrics = json.load(f)\n",
    "            new_tra.append(metrics['TRA'])\n",
    "    else:\n",
    "        new_tra.append(orig_tra[-1])\n",
    "comp_df = pd.DataFrame({'ds_name': ds_name, 'orig_tra': orig_tra, 'new_tra': new_tra})\n",
    "comp_df['diffs'] = comp_df['new_tra'] - comp_df['orig_tra']\n",
    "print(comp_df[comp_df.diffs != 0])"
   ]
  },
  {
   "cell_type": "code",
   "execution_count": null,
   "metadata": {},
   "outputs": [],
   "source": []
  }
 ],
 "metadata": {
  "kernelspec": {
   "display_name": "trexp",
   "language": "python",
   "name": "python3"
  },
  "language_info": {
   "codemirror_mode": {
    "name": "ipython",
    "version": 3
   },
   "file_extension": ".py",
   "mimetype": "text/x-python",
   "name": "python",
   "nbconvert_exporter": "python",
   "pygments_lexer": "ipython3",
   "version": "3.10.13"
  }
 },
 "nbformat": 4,
 "nbformat_minor": 2
}
