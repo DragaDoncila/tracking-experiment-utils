{
 "cells": [
  {
   "cell_type": "code",
   "execution_count": 12,
   "metadata": {},
   "outputs": [],
   "source": [
    "import os\n",
    "\n",
    "from generate_dataset_summary import generate_ctc_summary\n",
    "\n",
    "ROOT_DIR = '/home/ddon0001/PhD/experiments/merge_resolution'\n",
    "OUT_ROOT = '/home/ddon0001/PhD/experiments/merge_resolution/sols_no_split_small_reg_gaussian'\n",
    "out_csv_path = os.path.join(OUT_ROOT, 'summary.csv')"
   ]
  },
  {
   "cell_type": "code",
   "execution_count": 13,
   "metadata": {},
   "outputs": [
    {
     "name": "stderr",
     "output_type": "stream",
     "text": [
      "Loading TIFFs: 100%|██████████| 11/11 [00:01<00:00,  6.47it/s]\n",
      "Loading TIFFs: 100%|██████████| 11/11 [00:00<00:00, 96.83it/s]\n",
      "/home/ddon0001/miniconda3/envs/trexp/lib/python3.10/site-packages/numpy/core/fromnumeric.py:88: RuntimeWarning: overflow encountered in reduce\n",
      "  return ufunc.reduce(obj, axis, dtype, out, **passkwargs)\n",
      "Extracting Centroids: 100%|██████████| 12/12 [00:00<00:00, 21.21it/s]\n",
      "Loading TIFFs: 100%|██████████| 11/11 [00:01<00:00,  6.59it/s]\n",
      "Loading TIFFs: 100%|██████████| 11/11 [00:00<00:00, 98.04it/s] \n",
      "/home/ddon0001/miniconda3/envs/trexp/lib/python3.10/site-packages/numpy/core/fromnumeric.py:88: RuntimeWarning: overflow encountered in reduce\n",
      "  return ufunc.reduce(obj, axis, dtype, out, **passkwargs)\n",
      "/home/ddon0001/miniconda3/envs/trexp/lib/python3.10/site-packages/numpy/core/fromnumeric.py:88: RuntimeWarning: overflow encountered in reduce\n",
      "  return ufunc.reduce(obj, axis, dtype, out, **passkwargs)\n",
      "/home/ddon0001/miniconda3/envs/trexp/lib/python3.10/site-packages/numpy/core/fromnumeric.py:88: RuntimeWarning: overflow encountered in reduce\n",
      "  return ufunc.reduce(obj, axis, dtype, out, **passkwargs)\n",
      "Extracting Centroids: 100%|██████████| 12/12 [00:00<00:00, 16.32it/s]\n",
      "Loading TIFFs: 100%|██████████| 91/91 [00:00<00:00, 114.35it/s]\n",
      "Loading TIFFs: 100%|██████████| 91/91 [00:00<00:00, 444.09it/s]\n",
      "Extracting Centroids: 100%|██████████| 92/92 [00:01<00:00, 46.03it/s]\n",
      "Loading TIFFs: 100%|██████████| 91/91 [00:00<00:00, 110.29it/s]\n",
      "Loading TIFFs: 100%|██████████| 91/91 [00:00<00:00, 448.95it/s]\n",
      "Extracting Centroids: 100%|██████████| 92/92 [00:02<00:00, 42.37it/s]\n",
      " 17%|█▋        | 2/12 [00:11<00:59,  5.94s/it]/home/ddon0001/PhD/code/tracking-experiment-utils/generate_dataset_summary.py:68: UserWarning: No image sequences found for dataset sols_no_split_small_reg_gaussian. Skipping dataset...\n",
      "  warnings.warn(f\"No image sequences found for dataset {ds_name}. Skipping dataset...\", UserWarning)\n",
      "Loading TIFFs: 100%|██████████| 91/91 [00:01<00:00, 60.95it/s]\n",
      "Loading TIFFs: 100%|██████████| 91/91 [00:00<00:00, 478.11it/s]\n",
      "Extracting Centroids: 100%|██████████| 92/92 [00:06<00:00, 14.77it/s]\n",
      "Loading TIFFs: 100%|██████████| 91/91 [00:01<00:00, 58.91it/s]\n",
      "Loading TIFFs: 100%|██████████| 91/91 [00:00<00:00, 456.92it/s]\n",
      "Extracting Centroids: 100%|██████████| 92/92 [00:17<00:00,  5.17it/s]\n",
      " 33%|███▎      | 4/12 [00:39<01:27, 10.90s/it]/home/ddon0001/PhD/code/tracking-experiment-utils/generate_dataset_summary.py:68: UserWarning: No image sequences found for dataset sols_no_split. Skipping dataset...\n",
      "  warnings.warn(f\"No image sequences found for dataset {ds_name}. Skipping dataset...\", UserWarning)\n",
      "Loading TIFFs: 100%|██████████| 1375/1375 [00:15<00:00, 88.58it/s]\n",
      "Loading TIFFs: 100%|██████████| 1375/1375 [00:03<00:00, 427.33it/s]\n",
      "Extracting Centroids: 100%|██████████| 1376/1376 [00:10<00:00, 128.36it/s]\n",
      "Loading TIFFs: 100%|██████████| 1375/1375 [00:14<00:00, 93.51it/s]\n",
      "Loading TIFFs: 100%|██████████| 1375/1375 [00:03<00:00, 426.52it/s]\n",
      "Extracting Centroids: 100%|██████████| 1376/1376 [00:12<00:00, 108.23it/s]\n",
      "Loading TIFFs: 100%|██████████| 1763/1763 [00:17<00:00, 99.28it/s] \n",
      "Loading TIFFs: 100%|██████████| 1763/1763 [00:03<00:00, 444.73it/s]\n",
      "Extracting Centroids: 100%|██████████| 1764/1764 [00:13<00:00, 126.41it/s]\n",
      "Loading TIFFs: 100%|██████████| 1763/1763 [00:16<00:00, 107.82it/s]\n",
      "Loading TIFFs: 100%|██████████| 1763/1763 [00:03<00:00, 447.50it/s]\n",
      "Extracting Centroids: 100%|██████████| 1764/1764 [00:52<00:00, 33.92it/s]\n",
      "Loading TIFFs: 100%|██████████| 64/64 [00:00<00:00, 132.18it/s]\n",
      "Loading TIFFs: 100%|██████████| 64/64 [00:00<00:00, 593.32it/s]\n",
      "/home/ddon0001/miniconda3/envs/trexp/lib/python3.10/site-packages/numpy/core/fromnumeric.py:88: RuntimeWarning: overflow encountered in reduce\n",
      "  return ufunc.reduce(obj, axis, dtype, out, **passkwargs)\n",
      "/home/ddon0001/miniconda3/envs/trexp/lib/python3.10/site-packages/numpy/core/fromnumeric.py:88: RuntimeWarning: overflow encountered in reduce\n",
      "  return ufunc.reduce(obj, axis, dtype, out, **passkwargs)\n",
      "Extracting Centroids: 100%|██████████| 65/65 [00:02<00:00, 29.45it/s]\n",
      "Loading TIFFs: 100%|██████████| 149/149 [00:01<00:00, 102.90it/s]\n",
      "Loading TIFFs: 100%|██████████| 149/149 [00:00<00:00, 549.87it/s]\n",
      "/home/ddon0001/miniconda3/envs/trexp/lib/python3.10/site-packages/numpy/core/fromnumeric.py:88: RuntimeWarning: overflow encountered in reduce\n",
      "  return ufunc.reduce(obj, axis, dtype, out, **passkwargs)\n",
      "/home/ddon0001/miniconda3/envs/trexp/lib/python3.10/site-packages/numpy/core/fromnumeric.py:88: RuntimeWarning: overflow encountered in reduce\n",
      "  return ufunc.reduce(obj, axis, dtype, out, **passkwargs)\n",
      "/home/ddon0001/miniconda3/envs/trexp/lib/python3.10/site-packages/numpy/core/fromnumeric.py:88: RuntimeWarning: overflow encountered in reduce\n",
      "  return ufunc.reduce(obj, axis, dtype, out, **passkwargs)\n",
      "/home/ddon0001/miniconda3/envs/trexp/lib/python3.10/site-packages/numpy/core/fromnumeric.py:88: RuntimeWarning: overflow encountered in reduce\n",
      "  return ufunc.reduce(obj, axis, dtype, out, **passkwargs)\n",
      "/home/ddon0001/miniconda3/envs/trexp/lib/python3.10/site-packages/numpy/core/fromnumeric.py:88: RuntimeWarning: overflow encountered in reduce\n",
      "  return ufunc.reduce(obj, axis, dtype, out, **passkwargs)\n",
      "Extracting Centroids: 100%|██████████| 150/150 [00:02<00:00, 50.45it/s]\n",
      " 67%|██████▋   | 8/12 [03:37<02:13, 33.39s/it]/home/ddon0001/PhD/code/tracking-experiment-utils/generate_dataset_summary.py:68: UserWarning: No image sequences found for dataset sols_no_split_gaussian. Skipping dataset...\n",
      "  warnings.warn(f\"No image sequences found for dataset {ds_name}. Skipping dataset...\", UserWarning)\n",
      "Loading TIFFs: 100%|██████████| 299/299 [00:01<00:00, 212.83it/s]\n",
      "Loading TIFFs: 100%|██████████| 299/299 [00:00<00:00, 579.77it/s]\n",
      "/home/ddon0001/miniconda3/envs/trexp/lib/python3.10/site-packages/numpy/core/fromnumeric.py:88: RuntimeWarning: overflow encountered in reduce\n",
      "  return ufunc.reduce(obj, axis, dtype, out, **passkwargs)\n",
      "/home/ddon0001/miniconda3/envs/trexp/lib/python3.10/site-packages/numpy/core/fromnumeric.py:88: RuntimeWarning: overflow encountered in reduce\n",
      "  return ufunc.reduce(obj, axis, dtype, out, **passkwargs)\n",
      "/home/ddon0001/miniconda3/envs/trexp/lib/python3.10/site-packages/numpy/core/fromnumeric.py:88: RuntimeWarning: overflow encountered in reduce\n",
      "  return ufunc.reduce(obj, axis, dtype, out, **passkwargs)\n",
      "/home/ddon0001/miniconda3/envs/trexp/lib/python3.10/site-packages/numpy/core/fromnumeric.py:88: RuntimeWarning: overflow encountered in reduce\n",
      "  return ufunc.reduce(obj, axis, dtype, out, **passkwargs)\n",
      "/home/ddon0001/miniconda3/envs/trexp/lib/python3.10/site-packages/numpy/core/fromnumeric.py:88: RuntimeWarning: overflow encountered in reduce\n",
      "  return ufunc.reduce(obj, axis, dtype, out, **passkwargs)\n",
      "/home/ddon0001/miniconda3/envs/trexp/lib/python3.10/site-packages/numpy/core/fromnumeric.py:88: RuntimeWarning: overflow encountered in reduce\n",
      "  return ufunc.reduce(obj, axis, dtype, out, **passkwargs)\n",
      "/home/ddon0001/miniconda3/envs/trexp/lib/python3.10/site-packages/numpy/core/fromnumeric.py:88: RuntimeWarning: overflow encountered in reduce\n",
      "  return ufunc.reduce(obj, axis, dtype, out, **passkwargs)\n",
      "/home/ddon0001/miniconda3/envs/trexp/lib/python3.10/site-packages/numpy/core/fromnumeric.py:88: RuntimeWarning: overflow encountered in reduce\n",
      "  return ufunc.reduce(obj, axis, dtype, out, **passkwargs)\n",
      "/home/ddon0001/miniconda3/envs/trexp/lib/python3.10/site-packages/numpy/core/fromnumeric.py:88: RuntimeWarning: overflow encountered in reduce\n",
      "  return ufunc.reduce(obj, axis, dtype, out, **passkwargs)\n",
      "/home/ddon0001/miniconda3/envs/trexp/lib/python3.10/site-packages/numpy/core/fromnumeric.py:88: RuntimeWarning: overflow encountered in reduce\n",
      "  return ufunc.reduce(obj, axis, dtype, out, **passkwargs)\n",
      "/home/ddon0001/miniconda3/envs/trexp/lib/python3.10/site-packages/numpy/core/fromnumeric.py:88: RuntimeWarning: overflow encountered in reduce\n",
      "  return ufunc.reduce(obj, axis, dtype, out, **passkwargs)\n",
      "/home/ddon0001/miniconda3/envs/trexp/lib/python3.10/site-packages/numpy/core/fromnumeric.py:88: RuntimeWarning: overflow encountered in reduce\n",
      "  return ufunc.reduce(obj, axis, dtype, out, **passkwargs)\n",
      "/home/ddon0001/miniconda3/envs/trexp/lib/python3.10/site-packages/numpy/core/fromnumeric.py:88: RuntimeWarning: overflow encountered in reduce\n",
      "  return ufunc.reduce(obj, axis, dtype, out, **passkwargs)\n",
      "/home/ddon0001/miniconda3/envs/trexp/lib/python3.10/site-packages/numpy/core/fromnumeric.py:88: RuntimeWarning: overflow encountered in reduce\n",
      "  return ufunc.reduce(obj, axis, dtype, out, **passkwargs)\n",
      "/home/ddon0001/miniconda3/envs/trexp/lib/python3.10/site-packages/numpy/core/fromnumeric.py:88: RuntimeWarning: overflow encountered in reduce\n",
      "  return ufunc.reduce(obj, axis, dtype, out, **passkwargs)\n",
      "/home/ddon0001/miniconda3/envs/trexp/lib/python3.10/site-packages/numpy/core/fromnumeric.py:88: RuntimeWarning: overflow encountered in reduce\n",
      "  return ufunc.reduce(obj, axis, dtype, out, **passkwargs)\n",
      "/home/ddon0001/miniconda3/envs/trexp/lib/python3.10/site-packages/numpy/core/fromnumeric.py:88: RuntimeWarning: overflow encountered in reduce\n",
      "  return ufunc.reduce(obj, axis, dtype, out, **passkwargs)\n",
      "/home/ddon0001/miniconda3/envs/trexp/lib/python3.10/site-packages/numpy/core/fromnumeric.py:88: RuntimeWarning: overflow encountered in reduce\n",
      "  return ufunc.reduce(obj, axis, dtype, out, **passkwargs)\n",
      "/home/ddon0001/miniconda3/envs/trexp/lib/python3.10/site-packages/numpy/core/fromnumeric.py:88: RuntimeWarning: overflow encountered in reduce\n",
      "  return ufunc.reduce(obj, axis, dtype, out, **passkwargs)\n",
      "/home/ddon0001/miniconda3/envs/trexp/lib/python3.10/site-packages/numpy/core/fromnumeric.py:88: RuntimeWarning: overflow encountered in reduce\n",
      "  return ufunc.reduce(obj, axis, dtype, out, **passkwargs)\n",
      "/home/ddon0001/miniconda3/envs/trexp/lib/python3.10/site-packages/numpy/core/fromnumeric.py:88: RuntimeWarning: overflow encountered in reduce\n",
      "  return ufunc.reduce(obj, axis, dtype, out, **passkwargs)\n",
      "Extracting Centroids: 100%|██████████| 300/300 [00:49<00:00,  6.11it/s]\n",
      "Loading TIFFs: 100%|██████████| 299/299 [00:01<00:00, 208.61it/s]\n",
      "Loading TIFFs: 100%|██████████| 299/299 [00:00<00:00, 606.08it/s]\n",
      "/home/ddon0001/miniconda3/envs/trexp/lib/python3.10/site-packages/numpy/core/fromnumeric.py:88: RuntimeWarning: overflow encountered in reduce\n",
      "  return ufunc.reduce(obj, axis, dtype, out, **passkwargs)\n",
      "Extracting Centroids: 100%|██████████| 300/300 [00:39<00:00,  7.65it/s]\n",
      "Loading TIFFs:  94%|█████████▎| 233/249 [00:27<00:01,  8.34it/s]\n",
      " 83%|████████▎ | 10/12 [05:38<01:07, 33.83s/it]\n"
     ]
    },
    {
     "ename": "KeyboardInterrupt",
     "evalue": "",
     "output_type": "error",
     "traceback": [
      "\u001b[0;31m---------------------------------------------------------------------------\u001b[0m",
      "\u001b[0;31mKeyboardInterrupt\u001b[0m                         Traceback (most recent call last)",
      "\u001b[0;32m/tmp/ipykernel_5338/1324039411.py\u001b[0m in \u001b[0;36m?\u001b[0;34m()\u001b[0m\n\u001b[0;32m----> 1\u001b[0;31m \u001b[0mgenerate_ctc_summary\u001b[0m\u001b[0;34m(\u001b[0m\u001b[0mROOT_DIR\u001b[0m\u001b[0;34m,\u001b[0m \u001b[0mout_csv_path\u001b[0m\u001b[0;34m,\u001b[0m \u001b[0muse_err_seg\u001b[0m\u001b[0;34m=\u001b[0m\u001b[0;32mTrue\u001b[0m\u001b[0;34m)\u001b[0m\u001b[0;34m\u001b[0m\u001b[0;34m\u001b[0m\u001b[0m\n\u001b[0m",
      "\u001b[0;32m~/PhD/code/tracking-experiment-utils/generate_dataset_summary.py\u001b[0m in \u001b[0;36m?\u001b[0;34m(root_dir, ds_summary_path, use_gt, use_err_seg)\u001b[0m\n\u001b[1;32m     88\u001b[0m \u001b[0;34m\u001b[0m\u001b[0m\n\u001b[1;32m     89\u001b[0m             \u001b[0;31m# load ims get shape and number of frames\u001b[0m\u001b[0;34m\u001b[0m\u001b[0;34m\u001b[0m\u001b[0m\n\u001b[1;32m     90\u001b[0m             \u001b[0;31m# TODO: should not be loading these unless we need to extract detections\u001b[0m\u001b[0;34m\u001b[0m\u001b[0;34m\u001b[0m\u001b[0m\n\u001b[1;32m     91\u001b[0m             \u001b[0mname\u001b[0m \u001b[0;34m=\u001b[0m \u001b[0;34mf'{ds_name}_{seq}'\u001b[0m\u001b[0;34m\u001b[0m\u001b[0;34m\u001b[0m\u001b[0m\n\u001b[0;32m---> 92\u001b[0;31m             \u001b[0mims\u001b[0m \u001b[0;34m=\u001b[0m \u001b[0mload_tiff_frames\u001b[0m\u001b[0;34m(\u001b[0m\u001b[0mseq_pth\u001b[0m\u001b[0;34m)\u001b[0m\u001b[0;34m\u001b[0m\u001b[0;34m\u001b[0m\u001b[0m\n\u001b[0m\u001b[1;32m     93\u001b[0m             \u001b[0mim_shape\u001b[0m \u001b[0;34m=\u001b[0m \u001b[0mims\u001b[0m\u001b[0;34m[\u001b[0m\u001b[0;36m0\u001b[0m\u001b[0;34m]\u001b[0m\u001b[0;34m.\u001b[0m\u001b[0mshape\u001b[0m\u001b[0;34m\u001b[0m\u001b[0;34m\u001b[0m\u001b[0m\n\u001b[1;32m     94\u001b[0m             \u001b[0mn_frames\u001b[0m \u001b[0;34m=\u001b[0m \u001b[0mims\u001b[0m\u001b[0;34m.\u001b[0m\u001b[0mshape\u001b[0m\u001b[0;34m[\u001b[0m\u001b[0;36m0\u001b[0m\u001b[0;34m]\u001b[0m\u001b[0;34m\u001b[0m\u001b[0;34m\u001b[0m\u001b[0m\n\u001b[1;32m     95\u001b[0m             \u001b[0;32mif\u001b[0m \u001b[0;32mnot\u001b[0m \u001b[0mos\u001b[0m\u001b[0;34m.\u001b[0m\u001b[0mpath\u001b[0m\u001b[0;34m.\u001b[0m\u001b[0mexists\u001b[0m\u001b[0;34m(\u001b[0m\u001b[0mout_det_path\u001b[0m\u001b[0;34m)\u001b[0m\u001b[0;34m:\u001b[0m\u001b[0;34m\u001b[0m\u001b[0;34m\u001b[0m\u001b[0m\n",
      "\u001b[0;32m~/PhD/code/tracktool/src/tracktour/_io_util.py\u001b[0m in \u001b[0;36m?\u001b[0;34m(im_dir)\u001b[0m\n\u001b[1;32m     50\u001b[0m     \u001b[0mstack\u001b[0m \u001b[0;34m=\u001b[0m \u001b[0mnp\u001b[0m\u001b[0;34m.\u001b[0m\u001b[0mzeros\u001b[0m\u001b[0;34m(\u001b[0m\u001b[0mshape\u001b[0m\u001b[0;34m=\u001b[0m\u001b[0mshape\u001b[0m\u001b[0;34m,\u001b[0m \u001b[0mdtype\u001b[0m\u001b[0;34m=\u001b[0m\u001b[0mdtype\u001b[0m\u001b[0;34m)\u001b[0m\u001b[0;34m\u001b[0m\u001b[0;34m\u001b[0m\u001b[0m\n\u001b[1;32m     51\u001b[0m     \u001b[0mstack\u001b[0m\u001b[0;34m[\u001b[0m\u001b[0;36m0\u001b[0m\u001b[0;34m]\u001b[0m \u001b[0;34m=\u001b[0m \u001b[0mfirst_im\u001b[0m\u001b[0;34m\u001b[0m\u001b[0;34m\u001b[0m\u001b[0m\n\u001b[1;32m     52\u001b[0m \u001b[0;34m\u001b[0m\u001b[0m\n\u001b[1;32m     53\u001b[0m     \u001b[0;32mfor\u001b[0m \u001b[0mi\u001b[0m\u001b[0;34m,\u001b[0m \u001b[0mf\u001b[0m \u001b[0;32min\u001b[0m \u001b[0menumerate\u001b[0m\u001b[0;34m(\u001b[0m\u001b[0mtqdm\u001b[0m\u001b[0;34m(\u001b[0m\u001b[0mall_tiffs\u001b[0m\u001b[0;34m[\u001b[0m\u001b[0;36m1\u001b[0m\u001b[0;34m:\u001b[0m\u001b[0;34m]\u001b[0m\u001b[0;34m,\u001b[0m \u001b[0;34m\"Loading TIFFs\"\u001b[0m\u001b[0;34m)\u001b[0m\u001b[0;34m)\u001b[0m\u001b[0;34m:\u001b[0m\u001b[0;34m\u001b[0m\u001b[0;34m\u001b[0m\u001b[0m\n\u001b[0;32m---> 54\u001b[0;31m         \u001b[0mimread\u001b[0m\u001b[0;34m(\u001b[0m\u001b[0mf\u001b[0m\u001b[0;34m,\u001b[0m \u001b[0mout\u001b[0m\u001b[0;34m=\u001b[0m\u001b[0mstack\u001b[0m\u001b[0;34m[\u001b[0m\u001b[0mi\u001b[0m \u001b[0;34m+\u001b[0m \u001b[0;36m1\u001b[0m\u001b[0;34m]\u001b[0m\u001b[0;34m)\u001b[0m\u001b[0;34m\u001b[0m\u001b[0;34m\u001b[0m\u001b[0m\n\u001b[0m\u001b[1;32m     55\u001b[0m \u001b[0;34m\u001b[0m\u001b[0m\n\u001b[1;32m     56\u001b[0m     \u001b[0;32mreturn\u001b[0m \u001b[0mstack\u001b[0m\u001b[0;34m\u001b[0m\u001b[0;34m\u001b[0m\u001b[0m\n",
      "\u001b[0;32m~/miniconda3/envs/trexp/lib/python3.10/site-packages/tifffile/tifffile.py\u001b[0m in \u001b[0;36m?\u001b[0;34m(files, selection, aszarr, key, series, level, squeeze, maxworkers, buffersize, mode, name, offset, size, pattern, axesorder, categories, imread, sort, container, chunkshape, dtype, axestiled, ioworkers, chunkmode, fillvalue, zattrs, multiscales, omexml, out, out_inplace, _multifile, _useframes, **kwargs)\u001b[0m\n\u001b[1;32m   1247\u001b[0m                     )\n\u001b[1;32m   1248\u001b[0m                     \u001b[0;32mif\u001b[0m \u001b[0mselection\u001b[0m \u001b[0;32mis\u001b[0m \u001b[0;32mNone\u001b[0m\u001b[0;34m:\u001b[0m\u001b[0;34m\u001b[0m\u001b[0;34m\u001b[0m\u001b[0m\n\u001b[1;32m   1249\u001b[0m                         \u001b[0;32mreturn\u001b[0m \u001b[0mstore\u001b[0m\u001b[0;34m\u001b[0m\u001b[0;34m\u001b[0m\u001b[0m\n\u001b[1;32m   1250\u001b[0m                     \u001b[0;32mreturn\u001b[0m \u001b[0mzarr_selection\u001b[0m\u001b[0;34m(\u001b[0m\u001b[0mstore\u001b[0m\u001b[0;34m,\u001b[0m \u001b[0mselection\u001b[0m\u001b[0;34m,\u001b[0m \u001b[0mout\u001b[0m\u001b[0;34m=\u001b[0m\u001b[0mout\u001b[0m\u001b[0;34m)\u001b[0m\u001b[0;34m\u001b[0m\u001b[0;34m\u001b[0m\u001b[0m\n\u001b[0;32m-> 1251\u001b[0;31m                 return tif.asarray(\n\u001b[0m\u001b[1;32m   1252\u001b[0m                     \u001b[0mkey\u001b[0m\u001b[0;34m=\u001b[0m\u001b[0mkey\u001b[0m\u001b[0;34m,\u001b[0m\u001b[0;34m\u001b[0m\u001b[0;34m\u001b[0m\u001b[0m\n\u001b[1;32m   1253\u001b[0m                     \u001b[0mseries\u001b[0m\u001b[0;34m=\u001b[0m\u001b[0mseries\u001b[0m\u001b[0;34m,\u001b[0m\u001b[0;34m\u001b[0m\u001b[0;34m\u001b[0m\u001b[0m\n\u001b[1;32m   1254\u001b[0m                     \u001b[0mlevel\u001b[0m\u001b[0;34m=\u001b[0m\u001b[0mlevel\u001b[0m\u001b[0;34m,\u001b[0m\u001b[0;34m\u001b[0m\u001b[0;34m\u001b[0m\u001b[0m\n",
      "\u001b[0;32m~/miniconda3/envs/trexp/lib/python3.10/site-packages/tifffile/tifffile.py\u001b[0m in \u001b[0;36m?\u001b[0;34m(self, key, series, level, squeeze, out, maxworkers, buffersize)\u001b[0m\n\u001b[1;32m   4490\u001b[0m             result = page0.asarray(\n\u001b[1;32m   4491\u001b[0m                 \u001b[0mout\u001b[0m\u001b[0;34m=\u001b[0m\u001b[0mout\u001b[0m\u001b[0;34m,\u001b[0m \u001b[0mmaxworkers\u001b[0m\u001b[0;34m=\u001b[0m\u001b[0mmaxworkers\u001b[0m\u001b[0;34m,\u001b[0m \u001b[0mbuffersize\u001b[0m\u001b[0;34m=\u001b[0m\u001b[0mbuffersize\u001b[0m\u001b[0;34m\u001b[0m\u001b[0;34m\u001b[0m\u001b[0m\n\u001b[1;32m   4492\u001b[0m             )\n\u001b[1;32m   4493\u001b[0m         \u001b[0;32melse\u001b[0m\u001b[0;34m:\u001b[0m\u001b[0;34m\u001b[0m\u001b[0;34m\u001b[0m\u001b[0m\n\u001b[0;32m-> 4494\u001b[0;31m             result = stack_pages(\n\u001b[0m\u001b[1;32m   4495\u001b[0m                 \u001b[0mpages\u001b[0m\u001b[0;34m,\u001b[0m \u001b[0mout\u001b[0m\u001b[0;34m=\u001b[0m\u001b[0mout\u001b[0m\u001b[0;34m,\u001b[0m \u001b[0mmaxworkers\u001b[0m\u001b[0;34m=\u001b[0m\u001b[0mmaxworkers\u001b[0m\u001b[0;34m,\u001b[0m \u001b[0mbuffersize\u001b[0m\u001b[0;34m=\u001b[0m\u001b[0mbuffersize\u001b[0m\u001b[0;34m\u001b[0m\u001b[0;34m\u001b[0m\u001b[0m\n\u001b[1;32m   4496\u001b[0m             )\n\u001b[1;32m   4497\u001b[0m \u001b[0;34m\u001b[0m\u001b[0m\n",
      "\u001b[0;32m~/miniconda3/envs/trexp/lib/python3.10/site-packages/tifffile/tifffile.py\u001b[0m in \u001b[0;36m?\u001b[0;34m(pages, tiled, lock, maxworkers, out, **kwargs)\u001b[0m\n\u001b[1;32m  22786\u001b[0m                 \u001b[0mfilecache\u001b[0m\u001b[0;34m.\u001b[0m\u001b[0mclose\u001b[0m\u001b[0;34m(\u001b[0m\u001b[0mpage\u001b[0m\u001b[0;34m.\u001b[0m\u001b[0mparent\u001b[0m\u001b[0;34m.\u001b[0m\u001b[0mfilehandle\u001b[0m\u001b[0;34m)\u001b[0m\u001b[0;34m\u001b[0m\u001b[0;34m\u001b[0m\u001b[0m\n\u001b[1;32m  22787\u001b[0m \u001b[0;34m\u001b[0m\u001b[0m\n\u001b[1;32m  22788\u001b[0m         \u001b[0;32mif\u001b[0m \u001b[0mmaxworkers\u001b[0m \u001b[0;34m<\u001b[0m \u001b[0;36m2\u001b[0m\u001b[0;34m:\u001b[0m\u001b[0;34m\u001b[0m\u001b[0;34m\u001b[0m\u001b[0m\n\u001b[1;32m  22789\u001b[0m             \u001b[0;32mfor\u001b[0m \u001b[0mindex\u001b[0m\u001b[0;34m,\u001b[0m \u001b[0mpage\u001b[0m \u001b[0;32min\u001b[0m \u001b[0menumerate\u001b[0m\u001b[0;34m(\u001b[0m\u001b[0mpages\u001b[0m\u001b[0;34m)\u001b[0m\u001b[0;34m:\u001b[0m\u001b[0;34m\u001b[0m\u001b[0;34m\u001b[0m\u001b[0m\n\u001b[0;32m> 22790\u001b[0;31m                 \u001b[0mfunc\u001b[0m\u001b[0;34m(\u001b[0m\u001b[0mpage\u001b[0m\u001b[0;34m,\u001b[0m \u001b[0mindex\u001b[0m\u001b[0;34m)\u001b[0m\u001b[0;34m\u001b[0m\u001b[0;34m\u001b[0m\u001b[0m\n\u001b[0m\u001b[1;32m  22791\u001b[0m         \u001b[0;32melse\u001b[0m\u001b[0;34m:\u001b[0m\u001b[0;34m\u001b[0m\u001b[0;34m\u001b[0m\u001b[0m\n\u001b[1;32m  22792\u001b[0m             \u001b[0mpage0\u001b[0m\u001b[0;34m.\u001b[0m\u001b[0mdecode\u001b[0m  \u001b[0;31m# init TiffPage.decode function\u001b[0m\u001b[0;34m\u001b[0m\u001b[0;34m\u001b[0m\u001b[0m\n\u001b[1;32m  22793\u001b[0m             \u001b[0;32mwith\u001b[0m \u001b[0mThreadPoolExecutor\u001b[0m\u001b[0;34m(\u001b[0m\u001b[0mmaxworkers\u001b[0m\u001b[0;34m)\u001b[0m \u001b[0;32mas\u001b[0m \u001b[0mexecutor\u001b[0m\u001b[0;34m:\u001b[0m\u001b[0;34m\u001b[0m\u001b[0;34m\u001b[0m\u001b[0m\n",
      "\u001b[0;32m~/miniconda3/envs/trexp/lib/python3.10/site-packages/tifffile/tifffile.py\u001b[0m in \u001b[0;36m?\u001b[0;34m(page, index, out, filecache, kwargs)\u001b[0m\n\u001b[1;32m  22781\u001b[0m         ) -> None:\n\u001b[1;32m  22782\u001b[0m             \u001b[0;31m# read, decode, and copy page data\u001b[0m\u001b[0;34m\u001b[0m\u001b[0;34m\u001b[0m\u001b[0m\n\u001b[1;32m  22783\u001b[0m             \u001b[0;32mif\u001b[0m \u001b[0mpage\u001b[0m \u001b[0;32mis\u001b[0m \u001b[0;32mnot\u001b[0m \u001b[0;32mNone\u001b[0m\u001b[0;34m:\u001b[0m\u001b[0;34m\u001b[0m\u001b[0;34m\u001b[0m\u001b[0m\n\u001b[1;32m  22784\u001b[0m                 \u001b[0mfilecache\u001b[0m\u001b[0;34m.\u001b[0m\u001b[0mopen\u001b[0m\u001b[0;34m(\u001b[0m\u001b[0mpage\u001b[0m\u001b[0;34m.\u001b[0m\u001b[0mparent\u001b[0m\u001b[0;34m.\u001b[0m\u001b[0mfilehandle\u001b[0m\u001b[0;34m)\u001b[0m\u001b[0;34m\u001b[0m\u001b[0;34m\u001b[0m\u001b[0m\n\u001b[0;32m> 22785\u001b[0;31m                 \u001b[0mpage\u001b[0m\u001b[0;34m.\u001b[0m\u001b[0masarray\u001b[0m\u001b[0;34m(\u001b[0m\u001b[0mlock\u001b[0m\u001b[0;34m=\u001b[0m\u001b[0mlock\u001b[0m\u001b[0;34m,\u001b[0m \u001b[0mout\u001b[0m\u001b[0;34m=\u001b[0m\u001b[0mout\u001b[0m\u001b[0;34m[\u001b[0m\u001b[0mindex\u001b[0m\u001b[0;34m]\u001b[0m\u001b[0;34m,\u001b[0m \u001b[0;34m**\u001b[0m\u001b[0mkwargs\u001b[0m\u001b[0;34m)\u001b[0m\u001b[0;34m\u001b[0m\u001b[0;34m\u001b[0m\u001b[0m\n\u001b[0m\u001b[1;32m  22786\u001b[0m                 \u001b[0mfilecache\u001b[0m\u001b[0;34m.\u001b[0m\u001b[0mclose\u001b[0m\u001b[0;34m(\u001b[0m\u001b[0mpage\u001b[0m\u001b[0;34m.\u001b[0m\u001b[0mparent\u001b[0m\u001b[0;34m.\u001b[0m\u001b[0mfilehandle\u001b[0m\u001b[0;34m)\u001b[0m\u001b[0;34m\u001b[0m\u001b[0;34m\u001b[0m\u001b[0m\n",
      "\u001b[0;32m~/miniconda3/envs/trexp/lib/python3.10/site-packages/tifffile/tifffile.py\u001b[0m in \u001b[0;36m?\u001b[0;34m(self, *args, **kwargs)\u001b[0m\n\u001b[1;32m  10650\u001b[0m         \u001b[0mParameters\u001b[0m\u001b[0;34m:\u001b[0m\u001b[0;34m\u001b[0m\u001b[0;34m\u001b[0m\u001b[0m\n\u001b[1;32m  10651\u001b[0m             \u001b[0;34m**\u001b[0m\u001b[0mkwargs\u001b[0m\u001b[0;34m:\u001b[0m \u001b[0mArguments\u001b[0m \u001b[0mpassed\u001b[0m \u001b[0mto\u001b[0m \u001b[0;34m:\u001b[0m\u001b[0mpy\u001b[0m\u001b[0;34m:\u001b[0m\u001b[0mmeth\u001b[0m\u001b[0;34m:\u001b[0m\u001b[0;31m`\u001b[0m\u001b[0mTiffPage\u001b[0m\u001b[0;34m.\u001b[0m\u001b[0masarray\u001b[0m\u001b[0;31m`\u001b[0m\u001b[0;34m.\u001b[0m\u001b[0;34m\u001b[0m\u001b[0;34m\u001b[0m\u001b[0m\n\u001b[1;32m  10652\u001b[0m \u001b[0;34m\u001b[0m\u001b[0m\n\u001b[1;32m  10653\u001b[0m         \"\"\"\n\u001b[0;32m> 10654\u001b[0;31m         \u001b[0;32mreturn\u001b[0m \u001b[0mTiffPage\u001b[0m\u001b[0;34m.\u001b[0m\u001b[0masarray\u001b[0m\u001b[0;34m(\u001b[0m\u001b[0mself\u001b[0m\u001b[0;34m,\u001b[0m \u001b[0;34m*\u001b[0m\u001b[0margs\u001b[0m\u001b[0;34m,\u001b[0m \u001b[0;34m**\u001b[0m\u001b[0mkwargs\u001b[0m\u001b[0;34m)\u001b[0m  \u001b[0;31m# type: ignore\u001b[0m\u001b[0;34m\u001b[0m\u001b[0;34m\u001b[0m\u001b[0m\n\u001b[0m",
      "\u001b[0;32m~/miniconda3/envs/trexp/lib/python3.10/site-packages/tifffile/tifffile.py\u001b[0m in \u001b[0;36m?\u001b[0;34m(self, out, squeeze, lock, maxworkers, buffersize)\u001b[0m\n\u001b[1;32m   9282\u001b[0m                     ]\n\u001b[1;32m   9283\u001b[0m                 \u001b[0;31m# except IndexError:\u001b[0m\u001b[0;34m\u001b[0m\u001b[0;34m\u001b[0m\u001b[0m\n\u001b[1;32m   9284\u001b[0m                 \u001b[0;31m#     pass  # corrupted file, for example, with too many strips\u001b[0m\u001b[0;34m\u001b[0m\u001b[0;34m\u001b[0m\u001b[0m\n\u001b[1;32m   9285\u001b[0m \u001b[0;34m\u001b[0m\u001b[0m\n\u001b[0;32m-> 9286\u001b[0;31m             for _ in self.segments(\n\u001b[0m\u001b[1;32m   9287\u001b[0m                 \u001b[0mfunc\u001b[0m\u001b[0;34m=\u001b[0m\u001b[0mfunc\u001b[0m\u001b[0;34m,\u001b[0m\u001b[0;34m\u001b[0m\u001b[0;34m\u001b[0m\u001b[0m\n\u001b[1;32m   9288\u001b[0m                 \u001b[0mlock\u001b[0m\u001b[0;34m=\u001b[0m\u001b[0mlock\u001b[0m\u001b[0;34m,\u001b[0m\u001b[0;34m\u001b[0m\u001b[0;34m\u001b[0m\u001b[0m\n\u001b[1;32m   9289\u001b[0m                 \u001b[0mmaxworkers\u001b[0m\u001b[0;34m=\u001b[0m\u001b[0mmaxworkers\u001b[0m\u001b[0;34m,\u001b[0m\u001b[0;34m\u001b[0m\u001b[0;34m\u001b[0m\u001b[0m\n",
      "\u001b[0;32m~/miniconda3/envs/trexp/lib/python3.10/site-packages/tifffile/tifffile.py\u001b[0m in \u001b[0;36m?\u001b[0;34m(self, lock, maxworkers, func, sort, buffersize, _fullsize)\u001b[0m\n\u001b[1;32m   9078\u001b[0m                 \u001b[0msort\u001b[0m\u001b[0;34m=\u001b[0m\u001b[0msort\u001b[0m\u001b[0;34m,\u001b[0m\u001b[0;34m\u001b[0m\u001b[0;34m\u001b[0m\u001b[0m\n\u001b[1;32m   9079\u001b[0m                 \u001b[0mbuffersize\u001b[0m\u001b[0;34m=\u001b[0m\u001b[0mbuffersize\u001b[0m\u001b[0;34m,\u001b[0m\u001b[0;34m\u001b[0m\u001b[0;34m\u001b[0m\u001b[0m\n\u001b[1;32m   9080\u001b[0m                 \u001b[0mflat\u001b[0m\u001b[0;34m=\u001b[0m\u001b[0;32mTrue\u001b[0m\u001b[0;34m,\u001b[0m\u001b[0;34m\u001b[0m\u001b[0;34m\u001b[0m\u001b[0m\n\u001b[1;32m   9081\u001b[0m             ):\n\u001b[0;32m-> 9082\u001b[0;31m                 \u001b[0;32myield\u001b[0m \u001b[0mdecode\u001b[0m\u001b[0;34m(\u001b[0m\u001b[0msegment\u001b[0m\u001b[0;34m)\u001b[0m\u001b[0;34m\u001b[0m\u001b[0;34m\u001b[0m\u001b[0m\n\u001b[0m\u001b[1;32m   9083\u001b[0m         \u001b[0;32melse\u001b[0m\u001b[0;34m:\u001b[0m\u001b[0;34m\u001b[0m\u001b[0;34m\u001b[0m\u001b[0m\n\u001b[1;32m   9084\u001b[0m             \u001b[0;31m# reduce memory overhead by processing chunks of up to\u001b[0m\u001b[0;34m\u001b[0m\u001b[0;34m\u001b[0m\u001b[0m\n\u001b[1;32m   9085\u001b[0m             \u001b[0;31m# buffersize of segments because ThreadPoolExecutor.map is not\u001b[0m\u001b[0;34m\u001b[0m\u001b[0;34m\u001b[0m\u001b[0m\n",
      "\u001b[0;32m~/miniconda3/envs/trexp/lib/python3.10/site-packages/tifffile/tifffile.py\u001b[0m in \u001b[0;36m?\u001b[0;34m(args, decodeargs, decode)\u001b[0m\n\u001b[1;32m   9068\u001b[0m             \u001b[0;32mdef\u001b[0m \u001b[0mdecode\u001b[0m\u001b[0;34m(\u001b[0m\u001b[0margs\u001b[0m\u001b[0;34m,\u001b[0m \u001b[0mdecodeargs\u001b[0m\u001b[0;34m=\u001b[0m\u001b[0mdecodeargs\u001b[0m\u001b[0;34m,\u001b[0m \u001b[0mdecode\u001b[0m\u001b[0;34m=\u001b[0m\u001b[0mkeyframe\u001b[0m\u001b[0;34m.\u001b[0m\u001b[0mdecode\u001b[0m\u001b[0;34m)\u001b[0m\u001b[0;34m:\u001b[0m\u001b[0;34m\u001b[0m\u001b[0;34m\u001b[0m\u001b[0m\n\u001b[0;32m-> 9069\u001b[0;31m                 \u001b[0;32mreturn\u001b[0m \u001b[0mfunc\u001b[0m\u001b[0;34m(\u001b[0m\u001b[0mdecode\u001b[0m\u001b[0;34m(\u001b[0m\u001b[0;34m*\u001b[0m\u001b[0margs\u001b[0m\u001b[0;34m,\u001b[0m \u001b[0;34m**\u001b[0m\u001b[0mdecodeargs\u001b[0m\u001b[0;34m)\u001b[0m\u001b[0;34m)\u001b[0m  \u001b[0;31m# type: ignore\u001b[0m\u001b[0;34m\u001b[0m\u001b[0;34m\u001b[0m\u001b[0m\n\u001b[0m",
      "\u001b[0;32m~/miniconda3/envs/trexp/lib/python3.10/site-packages/tifffile/tifffile.py\u001b[0m in \u001b[0;36m?\u001b[0;34m(data, index, jpegtables, jpegheader, _fullsize)\u001b[0m\n\u001b[1;32m   8990\u001b[0m                 \u001b[0mdata\u001b[0m \u001b[0;34m=\u001b[0m \u001b[0mimagecodecs\u001b[0m\u001b[0;34m.\u001b[0m\u001b[0mbitorder_decode\u001b[0m\u001b[0;34m(\u001b[0m\u001b[0mdata\u001b[0m\u001b[0;34m)\u001b[0m\u001b[0;34m\u001b[0m\u001b[0;34m\u001b[0m\u001b[0m\n\u001b[1;32m   8991\u001b[0m             \u001b[0;32mif\u001b[0m \u001b[0mdecompress\u001b[0m \u001b[0;32mis\u001b[0m \u001b[0;32mnot\u001b[0m \u001b[0;32mNone\u001b[0m\u001b[0;34m:\u001b[0m\u001b[0;34m\u001b[0m\u001b[0;34m\u001b[0m\u001b[0m\n\u001b[1;32m   8992\u001b[0m                 \u001b[0;31m# TODO: calculate correct size for packed integers\u001b[0m\u001b[0;34m\u001b[0m\u001b[0;34m\u001b[0m\u001b[0m\n\u001b[1;32m   8993\u001b[0m                 \u001b[0msize\u001b[0m \u001b[0;34m=\u001b[0m \u001b[0mshape\u001b[0m\u001b[0;34m[\u001b[0m\u001b[0;36m0\u001b[0m\u001b[0;34m]\u001b[0m \u001b[0;34m*\u001b[0m \u001b[0mshape\u001b[0m\u001b[0;34m[\u001b[0m\u001b[0;36m1\u001b[0m\u001b[0;34m]\u001b[0m \u001b[0;34m*\u001b[0m \u001b[0mshape\u001b[0m\u001b[0;34m[\u001b[0m\u001b[0;36m2\u001b[0m\u001b[0;34m]\u001b[0m \u001b[0;34m*\u001b[0m \u001b[0mshape\u001b[0m\u001b[0;34m[\u001b[0m\u001b[0;36m3\u001b[0m\u001b[0;34m]\u001b[0m\u001b[0;34m\u001b[0m\u001b[0;34m\u001b[0m\u001b[0m\n\u001b[0;32m-> 8994\u001b[0;31m                 \u001b[0mdata\u001b[0m \u001b[0;34m=\u001b[0m \u001b[0mdecompress\u001b[0m\u001b[0;34m(\u001b[0m\u001b[0mdata\u001b[0m\u001b[0;34m,\u001b[0m \u001b[0mout\u001b[0m\u001b[0;34m=\u001b[0m\u001b[0msize\u001b[0m \u001b[0;34m*\u001b[0m \u001b[0mdtype\u001b[0m\u001b[0;34m.\u001b[0m\u001b[0mitemsize\u001b[0m\u001b[0;34m)\u001b[0m\u001b[0;34m\u001b[0m\u001b[0;34m\u001b[0m\u001b[0m\n\u001b[0m\u001b[1;32m   8995\u001b[0m             \u001b[0mdata_array\u001b[0m \u001b[0;34m=\u001b[0m \u001b[0munpack\u001b[0m\u001b[0;34m(\u001b[0m\u001b[0mdata\u001b[0m\u001b[0;34m)\u001b[0m  \u001b[0;31m# type: ignore\u001b[0m\u001b[0;34m\u001b[0m\u001b[0;34m\u001b[0m\u001b[0m\n\u001b[1;32m   8996\u001b[0m             \u001b[0;31m# del data\u001b[0m\u001b[0;34m\u001b[0m\u001b[0;34m\u001b[0m\u001b[0m\n\u001b[1;32m   8997\u001b[0m             \u001b[0mdata_array\u001b[0m \u001b[0;34m=\u001b[0m \u001b[0mreshape\u001b[0m\u001b[0;34m(\u001b[0m\u001b[0mdata_array\u001b[0m\u001b[0;34m,\u001b[0m \u001b[0msegmentindex\u001b[0m\u001b[0;34m,\u001b[0m \u001b[0mshape\u001b[0m\u001b[0;34m)\u001b[0m\u001b[0;34m\u001b[0m\u001b[0;34m\u001b[0m\u001b[0m\n",
      "\u001b[0;31mKeyboardInterrupt\u001b[0m: "
     ]
    }
   ],
   "source": [
    "generate_ctc_summary(ROOT_DIR, out_csv_path, use_err_seg=True)"
   ]
  },
  {
   "cell_type": "code",
   "execution_count": 9,
   "metadata": {},
   "outputs": [],
   "source": [
    "from generate_configs import ds_summary_to_configs\n",
    "# TODO: run with merges but terminate remaining ones\n",
    "configs = ds_summary_to_configs(out_csv_path, OUT_ROOT, div_constraint=False, allow_merges=False)"
   ]
  },
  {
   "cell_type": "code",
   "execution_count": null,
   "metadata": {},
   "outputs": [],
   "source": [
    "for config in configs:\n",
    "     config.run(compute_additional_features=True)"
   ]
  },
  {
   "cell_type": "code",
   "execution_count": 11,
   "metadata": {},
   "outputs": [
    {
     "name": "stdout",
     "output_type": "stream",
     "text": [
      "Fluo-C3DL-MDA231_01\n"
     ]
    },
    {
     "name": "stderr",
     "output_type": "stream",
     "text": [
      "Loading TIFFs: 100%|██████████| 11/11 [00:00<00:00, 98.87it/s]\n",
      "Loading TIFFs: 100%|██████████| 11/11 [00:00<00:00, 29.05it/s]\n",
      "1 non-connected masks at t=0.\n",
      "1 non-connected masks at t=6.\n",
      "1 non-connected masks at t=9.\n",
      "2 non-connected masks at t=10.\n",
      "1 non-connected masks at t=11.\n",
      "Matching frames: 100%|██████████| 12/12 [00:00<00:00, 22.40it/s]\n",
      "Evaluating nodes: 100%|██████████| 351/351 [00:00<00:00, 342930.52it/s]\n",
      "Evaluating FP edges: 100%|██████████| 316/316 [00:00<00:00, 324534.79it/s]\n",
      "Evaluating FN edges: 100%|██████████| 331/331 [00:00<00:00, 501921.41it/s]\n"
     ]
    },
    {
     "name": "stdout",
     "output_type": "stream",
     "text": [
      "Fluo-C3DL-MDA231_02\n"
     ]
    },
    {
     "name": "stderr",
     "output_type": "stream",
     "text": [
      "Loading TIFFs: 100%|██████████| 11/11 [00:00<00:00, 98.58it/s]\n",
      "Loading TIFFs: 100%|██████████| 11/11 [00:00<00:00, 30.88it/s]\n",
      "1 non-connected masks at t=0.\n",
      "2 non-connected masks at t=4.\n",
      "2 non-connected masks at t=5.\n",
      "1 non-connected masks at t=7.\n",
      "1 non-connected masks at t=11.\n",
      "Matching frames: 100%|██████████| 12/12 [00:00<00:00, 21.20it/s]\n",
      "Evaluating nodes: 100%|██████████| 582/582 [00:00<00:00, 320478.53it/s]\n",
      "Evaluating FP edges: 100%|██████████| 525/525 [00:00<00:00, 506675.01it/s]\n",
      "Evaluating FN edges: 100%|██████████| 528/528 [00:00<00:00, 539618.06it/s]\n"
     ]
    },
    {
     "name": "stdout",
     "output_type": "stream",
     "text": [
      "Fluo-N2DH-GOWT1_01\n"
     ]
    },
    {
     "name": "stderr",
     "output_type": "stream",
     "text": [
      "Loading TIFFs: 100%|██████████| 91/91 [00:00<00:00, 459.02it/s]\n",
      "Loading TIFFs: 100%|██████████| 91/91 [00:00<00:00, 193.72it/s]\n",
      "Matching frames: 100%|██████████| 92/92 [00:00<00:00, 133.89it/s]\n",
      "Evaluating nodes: 100%|██████████| 2054/2054 [00:00<00:00, 532091.93it/s]\n",
      "Evaluating FP edges: 100%|██████████| 2029/2029 [00:00<00:00, 549686.27it/s]\n",
      "Evaluating FN edges: 100%|██████████| 2035/2035 [00:00<00:00, 477051.68it/s]\n"
     ]
    },
    {
     "name": "stdout",
     "output_type": "stream",
     "text": [
      "Fluo-N2DH-GOWT1_02\n"
     ]
    },
    {
     "name": "stderr",
     "output_type": "stream",
     "text": [
      "Loading TIFFs: 100%|██████████| 91/91 [00:00<00:00, 472.84it/s]\n",
      "Loading TIFFs: 100%|██████████| 91/91 [00:00<00:00, 188.15it/s]\n",
      "Matching frames: 100%|██████████| 92/92 [00:00<00:00, 133.95it/s]\n",
      "Evaluating nodes: 100%|██████████| 2287/2287 [00:00<00:00, 494834.83it/s]\n",
      "Evaluating FP edges: 100%|██████████| 2257/2257 [00:00<00:00, 476711.86it/s]\n",
      "Evaluating FN edges: 100%|██████████| 2472/2472 [00:00<00:00, 541539.72it/s]\n"
     ]
    },
    {
     "name": "stdout",
     "output_type": "stream",
     "text": [
      "Fluo-N2DL-HeLa_01\n"
     ]
    },
    {
     "name": "stderr",
     "output_type": "stream",
     "text": [
      "Loading TIFFs: 100%|██████████| 91/91 [00:00<00:00, 538.20it/s]\n",
      "Loading TIFFs: 100%|██████████| 91/91 [00:00<00:00, 222.98it/s]\n",
      "1 non-connected masks at t=23.\n",
      "2 non-connected masks at t=52.\n",
      "Matching frames: 100%|██████████| 92/92 [00:00<00:00, 104.57it/s]\n",
      "Evaluating nodes: 100%|██████████| 8602/8602 [00:00<00:00, 427476.01it/s]\n",
      "Evaluating FP edges: 100%|██████████| 8527/8527 [00:00<00:00, 403807.54it/s]\n",
      "Evaluating FN edges: 100%|██████████| 8562/8562 [00:00<00:00, 395341.45it/s]\n"
     ]
    },
    {
     "name": "stdout",
     "output_type": "stream",
     "text": [
      "Fluo-N2DL-HeLa_02\n"
     ]
    },
    {
     "name": "stderr",
     "output_type": "stream",
     "text": [
      "Loading TIFFs: 100%|██████████| 91/91 [00:00<00:00, 501.14it/s]\n",
      "Loading TIFFs: 100%|██████████| 91/91 [00:00<00:00, 209.72it/s]\n",
      "1 non-connected masks at t=28.\n",
      "1 non-connected masks at t=31.\n",
      "1 non-connected masks at t=33.\n",
      "1 non-connected masks at t=44.\n",
      "1 non-connected masks at t=54.\n",
      "Matching frames: 100%|██████████| 92/92 [00:01<00:00, 47.65it/s]\n",
      "Evaluating nodes: 100%|██████████| 25379/25379 [00:00<00:00, 340902.80it/s]\n",
      "Evaluating FP edges: 100%|██████████| 25139/25139 [00:00<00:00, 367143.26it/s]\n",
      "Evaluating FN edges: 100%|██████████| 25168/25168 [00:00<00:00, 342206.80it/s]\n"
     ]
    },
    {
     "name": "stdout",
     "output_type": "stream",
     "text": [
      "BF-C2DL-MuSC_01\n"
     ]
    },
    {
     "name": "stderr",
     "output_type": "stream",
     "text": [
      "Loading TIFFs: 100%|██████████| 1375/1375 [00:03<00:00, 445.71it/s]\n",
      "Loading TIFFs: 100%|██████████| 1375/1375 [00:07<00:00, 174.34it/s]\n",
      "Matching frames: 100%|██████████| 1376/1376 [00:08<00:00, 161.62it/s]\n",
      "Evaluating nodes: 100%|██████████| 5388/5388 [00:00<00:00, 407981.48it/s]\n",
      "Evaluating FP edges: 100%|██████████| 5382/5382 [00:00<00:00, 431290.49it/s]\n",
      "Evaluating FN edges: 100%|██████████| 5410/5410 [00:00<00:00, 418170.48it/s]\n"
     ]
    },
    {
     "name": "stdout",
     "output_type": "stream",
     "text": [
      "BF-C2DL-MuSC_02\n"
     ]
    },
    {
     "name": "stderr",
     "output_type": "stream",
     "text": [
      "Loading TIFFs: 100%|██████████| 1375/1375 [00:03<00:00, 429.00it/s]\n",
      "Loading TIFFs: 100%|██████████| 1375/1375 [00:07<00:00, 176.86it/s]\n",
      "Matching frames: 100%|██████████| 1376/1376 [00:08<00:00, 157.98it/s]\n",
      "Evaluating nodes: 100%|██████████| 7222/7222 [00:00<00:00, 400890.20it/s]\n",
      "Evaluating FP edges: 100%|██████████| 7194/7194 [00:00<00:00, 488731.97it/s]\n",
      "Evaluating FN edges: 100%|██████████| 7294/7294 [00:00<00:00, 386376.02it/s]\n"
     ]
    },
    {
     "name": "stdout",
     "output_type": "stream",
     "text": [
      "BF-C2DL-HSC_01\n"
     ]
    },
    {
     "name": "stderr",
     "output_type": "stream",
     "text": [
      "Loading TIFFs: 100%|██████████| 1763/1763 [00:03<00:00, 457.40it/s]\n",
      "Loading TIFFs: 100%|██████████| 1763/1763 [00:08<00:00, 218.93it/s]\n",
      "Matching frames: 100%|██████████| 1764/1764 [00:10<00:00, 171.87it/s]\n",
      "Evaluating nodes: 100%|██████████| 8675/8675 [00:00<00:00, 384446.85it/s]\n",
      "Evaluating FP edges: 100%|██████████| 8674/8674 [00:00<00:00, 429213.13it/s]\n",
      "Evaluating FN edges: 100%|██████████| 8674/8674 [00:00<00:00, 441157.70it/s]\n"
     ]
    },
    {
     "name": "stdout",
     "output_type": "stream",
     "text": [
      "BF-C2DL-HSC_02\n"
     ]
    },
    {
     "name": "stderr",
     "output_type": "stream",
     "text": [
      "Loading TIFFs: 100%|██████████| 1763/1763 [00:03<00:00, 454.05it/s]\n",
      "Loading TIFFs: 100%|██████████| 1763/1763 [00:07<00:00, 220.41it/s]\n",
      "Matching frames: 100%|██████████| 1764/1764 [00:13<00:00, 129.38it/s]\n",
      "Evaluating nodes: 100%|██████████| 64501/64501 [00:00<00:00, 376199.61it/s]\n",
      "Evaluating FP edges: 100%|██████████| 64494/64494 [00:00<00:00, 384362.55it/s]\n",
      "Evaluating FN edges: 100%|██████████| 64501/64501 [00:00<00:00, 366956.94it/s]\n"
     ]
    },
    {
     "name": "stdout",
     "output_type": "stream",
     "text": [
      "Fluo-N2DH-SIM+_01\n"
     ]
    },
    {
     "name": "stderr",
     "output_type": "stream",
     "text": [
      "Loading TIFFs: 100%|██████████| 64/64 [00:00<00:00, 739.93it/s]\n",
      "Loading TIFFs: 100%|██████████| 64/64 [00:00<00:00, 308.28it/s]\n",
      "1 non-connected masks at t=20.\n",
      "1 non-connected masks at t=22.\n",
      "1 non-connected masks at t=23.\n",
      "1 non-connected masks at t=24.\n",
      "1 non-connected masks at t=25.\n",
      "1 non-connected masks at t=26.\n",
      "1 non-connected masks at t=28.\n",
      "1 non-connected masks at t=30.\n",
      "1 non-connected masks at t=31.\n",
      "1 non-connected masks at t=32.\n",
      "1 non-connected masks at t=35.\n",
      "2 non-connected masks at t=38.\n",
      "1 non-connected masks at t=45.\n",
      "2 non-connected masks at t=47.\n",
      "1 non-connected masks at t=49.\n",
      "6 non-connected masks at t=52.\n",
      "2 non-connected masks at t=53.\n",
      "1 non-connected masks at t=54.\n",
      "1 non-connected masks at t=57.\n",
      "1 non-connected masks at t=58.\n",
      "2 non-connected masks at t=60.\n",
      "1 non-connected masks at t=61.\n",
      "Matching frames: 100%|██████████| 65/65 [00:00<00:00, 185.59it/s]\n",
      "Evaluating nodes: 100%|██████████| 2607/2607 [00:00<00:00, 529877.42it/s]\n",
      "Evaluating FP edges: 100%|██████████| 2555/2555 [00:00<00:00, 472360.68it/s]\n",
      "Evaluating FN edges: 100%|██████████| 2571/2571 [00:00<00:00, 419234.72it/s]\n"
     ]
    },
    {
     "name": "stdout",
     "output_type": "stream",
     "text": [
      "Fluo-N2DH-SIM+_02\n"
     ]
    },
    {
     "name": "stderr",
     "output_type": "stream",
     "text": [
      "Loading TIFFs: 100%|██████████| 149/149 [00:00<00:00, 609.71it/s]\n",
      "Loading TIFFs: 100%|██████████| 149/149 [00:00<00:00, 292.38it/s]\n",
      "1 non-connected masks at t=14.\n",
      "1 non-connected masks at t=16.\n",
      "1 non-connected masks at t=17.\n",
      "1 non-connected masks at t=20.\n",
      "2 non-connected masks at t=23.\n",
      "2 non-connected masks at t=24.\n",
      "3 non-connected masks at t=26.\n",
      "1 non-connected masks at t=27.\n",
      "1 non-connected masks at t=28.\n",
      "1 non-connected masks at t=29.\n",
      "3 non-connected masks at t=30.\n",
      "2 non-connected masks at t=31.\n",
      "3 non-connected masks at t=32.\n",
      "2 non-connected masks at t=33.\n",
      "1 non-connected masks at t=43.\n",
      "2 non-connected masks at t=45.\n",
      "2 non-connected masks at t=46.\n",
      "2 non-connected masks at t=49.\n",
      "1 non-connected masks at t=50.\n",
      "1 non-connected masks at t=52.\n",
      "2 non-connected masks at t=56.\n",
      "1 non-connected masks at t=57.\n",
      "2 non-connected masks at t=61.\n",
      "1 non-connected masks at t=62.\n",
      "1 non-connected masks at t=65.\n",
      "1 non-connected masks at t=66.\n",
      "1 non-connected masks at t=68.\n",
      "2 non-connected masks at t=69.\n",
      "5 non-connected masks at t=71.\n",
      "2 non-connected masks at t=72.\n",
      "1 non-connected masks at t=73.\n",
      "3 non-connected masks at t=75.\n",
      "3 non-connected masks at t=76.\n",
      "3 non-connected masks at t=77.\n",
      "1 non-connected masks at t=79.\n",
      "1 non-connected masks at t=80.\n",
      "1 non-connected masks at t=83.\n",
      "2 non-connected masks at t=86.\n",
      "1 non-connected masks at t=90.\n",
      "1 non-connected masks at t=91.\n",
      "1 non-connected masks at t=102.\n",
      "1 non-connected masks at t=103.\n",
      "2 non-connected masks at t=104.\n",
      "1 non-connected masks at t=107.\n",
      "1 non-connected masks at t=109.\n",
      "1 non-connected masks at t=111.\n",
      "1 non-connected masks at t=112.\n",
      "2 non-connected masks at t=113.\n",
      "1 non-connected masks at t=117.\n",
      "1 non-connected masks at t=118.\n",
      "1 non-connected masks at t=124.\n",
      "1 non-connected masks at t=126.\n",
      "2 non-connected masks at t=127.\n",
      "1 non-connected masks at t=130.\n",
      "3 non-connected masks at t=131.\n",
      "4 non-connected masks at t=132.\n",
      "1 non-connected masks at t=134.\n",
      "2 non-connected masks at t=136.\n",
      "3 non-connected masks at t=137.\n",
      "1 non-connected masks at t=139.\n",
      "1 non-connected masks at t=140.\n",
      "1 non-connected masks at t=144.\n",
      "1 non-connected masks at t=147.\n",
      "1 non-connected masks at t=148.\n",
      "3 non-connected masks at t=149.\n",
      "Matching frames: 100%|██████████| 150/150 [00:00<00:00, 208.08it/s]\n",
      "Evaluating nodes: 100%|██████████| 3371/3371 [00:00<00:00, 401641.87it/s]\n",
      "Evaluating FP edges: 100%|██████████| 3316/3316 [00:00<00:00, 403982.57it/s]\n",
      "Evaluating FN edges: 100%|██████████| 3354/3354 [00:00<00:00, 456358.13it/s]\n"
     ]
    },
    {
     "name": "stdout",
     "output_type": "stream",
     "text": [
      "PhC-C2DL-PSC_01\n"
     ]
    },
    {
     "name": "stderr",
     "output_type": "stream",
     "text": [
      "Loading TIFFs: 100%|██████████| 299/299 [00:00<00:00, 671.57it/s]\n",
      "Loading TIFFs: 100%|██████████| 299/299 [00:00<00:00, 384.44it/s]\n",
      "Matching frames: 100%|██████████| 300/300 [00:05<00:00, 54.65it/s] \n",
      "Evaluating nodes: 100%|██████████| 71070/71070 [00:00<00:00, 365091.96it/s]\n",
      "Evaluating FP edges: 100%|██████████| 70809/70809 [00:00<00:00, 357994.60it/s]\n",
      "Evaluating FN edges: 100%|██████████| 71201/71201 [00:00<00:00, 347560.97it/s]\n"
     ]
    },
    {
     "name": "stdout",
     "output_type": "stream",
     "text": [
      "PhC-C2DL-PSC_02\n"
     ]
    },
    {
     "name": "stderr",
     "output_type": "stream",
     "text": [
      "Loading TIFFs: 100%|██████████| 299/299 [00:00<00:00, 694.08it/s]\n",
      "Loading TIFFs: 100%|██████████| 299/299 [00:00<00:00, 405.31it/s]\n",
      "Matching frames: 100%|██████████| 300/300 [00:04<00:00, 73.80it/s] \n",
      "Evaluating nodes: 100%|██████████| 56776/56776 [00:00<00:00, 362557.59it/s]\n",
      "Evaluating FP edges: 100%|██████████| 56613/56613 [00:00<00:00, 367532.57it/s]\n",
      "Evaluating FN edges: 100%|██████████| 56639/56639 [00:00<00:00, 359558.75it/s]\n"
     ]
    },
    {
     "name": "stdout",
     "output_type": "stream",
     "text": [
      "Fluo-N3DH-CE_01\n"
     ]
    },
    {
     "name": "stderr",
     "output_type": "stream",
     "text": [
      "Loading TIFFs: 100%|██████████| 194/194 [00:02<00:00, 76.78it/s]\n",
      "Loading TIFFs: 100%|██████████| 194/194 [00:11<00:00, 16.75it/s]\n",
      "Matching frames: 100%|██████████| 195/195 [00:16<00:00, 11.93it/s]\n",
      "Evaluating nodes: 100%|██████████| 23785/23785 [00:00<00:00, 333857.14it/s]\n",
      "Evaluating FP edges: 100%|██████████| 23735/23735 [00:00<00:00, 326726.09it/s]\n",
      "Evaluating FN edges: 100%|██████████| 23798/23798 [00:00<00:00, 381810.85it/s]\n"
     ]
    },
    {
     "name": "stdout",
     "output_type": "stream",
     "text": [
      "Fluo-N3DH-CE_02\n"
     ]
    },
    {
     "name": "stderr",
     "output_type": "stream",
     "text": [
      "Loading TIFFs: 100%|██████████| 189/189 [00:02<00:00, 74.51it/s]\n",
      "Loading TIFFs: 100%|██████████| 189/189 [00:09<00:00, 18.94it/s]\n",
      "Matching frames: 100%|██████████| 190/190 [00:14<00:00, 12.89it/s]\n",
      "Evaluating nodes: 100%|██████████| 22317/22317 [00:00<00:00, 331899.48it/s]\n",
      "Evaluating FP edges: 100%|██████████| 22166/22166 [00:00<00:00, 343059.88it/s]\n",
      "Evaluating FN edges: 100%|██████████| 22416/22416 [00:00<00:00, 373667.17it/s]\n"
     ]
    }
   ],
   "source": [
    "for config in configs:\n",
    "    print(config.data_config.dataset_name)\n",
    "    # if not os.path.exists(os.path.join(config.data_config.out_root_path, config.data_config.dataset_name, 'metrics.json')):\n",
    "    config.evaluate()\n",
    "    # else:\n",
    "    #     print('Finished', config.data_config.dataset_name)"
   ]
  }
 ],
 "metadata": {
  "kernelspec": {
   "display_name": "trexp",
   "language": "python",
   "name": "python3"
  },
  "language_info": {
   "codemirror_mode": {
    "name": "ipython",
    "version": 3
   },
   "file_extension": ".py",
   "mimetype": "text/x-python",
   "name": "python",
   "nbconvert_exporter": "python",
   "pygments_lexer": "ipython3",
   "version": "3.10.13"
  }
 },
 "nbformat": 4,
 "nbformat_minor": 2
}
